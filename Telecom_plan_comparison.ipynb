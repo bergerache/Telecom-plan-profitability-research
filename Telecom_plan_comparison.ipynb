{
 "cells": [
  {
   "cell_type": "markdown",
   "metadata": {},
   "source": [
    "# Telecome operator research- plan profitability comparisson\n",
    "The telecom operator Megaline wished to compare 2 package plans, Surf and Ultimate, and asses which one is more proffitable with the help of this study."
   ]
  },
  {
   "cell_type": "markdown",
   "metadata": {},
   "source": [
    "## Data PreProcessing"
   ]
  },
  {
   "cell_type": "code",
   "execution_count": 1,
   "metadata": {},
   "outputs": [],
   "source": [
    "import numpy as np \n",
    "import pandas as pd \n",
    "import matplotlib.pyplot as plt\n",
    "import seaborn as sns\n",
    "from scipy import stats as st \n",
    "try:\n",
    "    calls= pd.read_csv('megaline_calls.csv')\n",
    "    internet= pd.read_csv('megaline_internet.csv')\n",
    "    messages= pd.read_csv('megaline_messages.csv')\n",
    "    plans= pd.read_csv('megaline_plans.csv')\n",
    "    users= pd.read_csv('megaline_users.csv')\n",
    "except:\n",
    "    calls=pd.read_csv('/datasets/megaline_calls.csv')\n",
    "    internet= pd.read_csv('/datasets/megaline_internet.csv')\n",
    "    messages= pd.read_csv('/datasets/megaline_messages.csv')\n",
    "    plans= pd.read_csv('/datasets/megaline_plans.csv')\n",
    "    users= pd.read_csv('/datasets/megaline_users.csv')\n",
    "\n"
   ]
  },
  {
   "cell_type": "code",
   "execution_count": 2,
   "metadata": {},
   "outputs": [],
   "source": [
    "def df_review(data):\n",
    "    i=0\n",
    "    for name, df in data.items():\n",
    "        i+=1\n",
    "        print('{0}) {1}:\\n\\n{2}\\n '.format(i, name, df.head()))\n",
    "        print('number of duplicared entries in {0}: {1}\\n'.format(name, df.duplicated().sum()))\n",
    "        df.info()\n",
    "        print('\\n\\n')"
   ]
  },
  {
   "cell_type": "code",
   "execution_count": 3,
   "metadata": {},
   "outputs": [
    {
     "output_type": "stream",
     "name": "stdout",
     "text": [
      "1) calls:\n\n         id  user_id   call_date  duration\n0   1000_93     1000  2018-12-27      8.52\n1  1000_145     1000  2018-12-27     13.66\n2  1000_247     1000  2018-12-27     14.48\n3  1000_309     1000  2018-12-28      5.76\n4  1000_380     1000  2018-12-30      4.22\n \nnumber of duplicared entries in calls: 0\n\n<class 'pandas.core.frame.DataFrame'>\nRangeIndex: 137735 entries, 0 to 137734\nData columns (total 4 columns):\n #   Column     Non-Null Count   Dtype  \n---  ------     --------------   -----  \n 0   id         137735 non-null  object \n 1   user_id    137735 non-null  int64  \n 2   call_date  137735 non-null  object \n 3   duration   137735 non-null  float64\ndtypes: float64(1), int64(1), object(2)\nmemory usage: 4.2+ MB\n\n\n\n"
     ]
    }
   ],
   "source": [
    "df_review({'calls':calls})"
   ]
  },
  {
   "cell_type": "code",
   "execution_count": 4,
   "metadata": {},
   "outputs": [
    {
     "output_type": "stream",
     "name": "stdout",
     "text": [
      "<class 'pandas.core.frame.DataFrame'>\nRangeIndex: 137735 entries, 0 to 137734\nData columns (total 4 columns):\n #   Column        Non-Null Count   Dtype         \n---  ------        --------------   -----         \n 0   id            137735 non-null  object        \n 1   user_id       137735 non-null  int64         \n 2   call_date     137735 non-null  datetime64[ns]\n 3   duration_min  137735 non-null  float64       \ndtypes: datetime64[ns](1), float64(1), int64(1), object(1)\nmemory usage: 4.2+ MB\n"
     ]
    }
   ],
   "source": [
    "calls.call_date= pd.to_datetime(calls.call_date, format='%Y-%m-%d')\n",
    "calls.rename(columns={'duration': 'duration_min'}, inplace=True)\n",
    "calls.info()"
   ]
  },
  {
   "cell_type": "code",
   "execution_count": 5,
   "metadata": {},
   "outputs": [
    {
     "output_type": "execute_result",
     "data": {
      "text/plain": [
       "              id  user_id  call_date  duration_min\n",
       "19        1001_4     1001 2018-12-05           0.0\n",
       "25       1001_13     1001 2018-12-24           0.0\n",
       "31       1001_30     1001 2018-10-17           0.0\n",
       "32       1001_31     1001 2018-11-03           0.0\n",
       "34       1001_35     1001 2018-12-21           0.0\n",
       "...          ...      ...        ...           ...\n",
       "137714  1499_183     1499 2018-11-10           0.0\n",
       "137715  1499_184     1499 2018-09-15           0.0\n",
       "137720  1499_189     1499 2018-12-27           0.0\n",
       "137722  1499_191     1499 2018-12-24           0.0\n",
       "137725  1499_194     1499 2018-10-31           0.0\n",
       "\n",
       "[26834 rows x 4 columns]"
      ],
      "text/html": "<div>\n<style scoped>\n    .dataframe tbody tr th:only-of-type {\n        vertical-align: middle;\n    }\n\n    .dataframe tbody tr th {\n        vertical-align: top;\n    }\n\n    .dataframe thead th {\n        text-align: right;\n    }\n</style>\n<table border=\"1\" class=\"dataframe\">\n  <thead>\n    <tr style=\"text-align: right;\">\n      <th></th>\n      <th>id</th>\n      <th>user_id</th>\n      <th>call_date</th>\n      <th>duration_min</th>\n    </tr>\n  </thead>\n  <tbody>\n    <tr>\n      <th>19</th>\n      <td>1001_4</td>\n      <td>1001</td>\n      <td>2018-12-05</td>\n      <td>0.0</td>\n    </tr>\n    <tr>\n      <th>25</th>\n      <td>1001_13</td>\n      <td>1001</td>\n      <td>2018-12-24</td>\n      <td>0.0</td>\n    </tr>\n    <tr>\n      <th>31</th>\n      <td>1001_30</td>\n      <td>1001</td>\n      <td>2018-10-17</td>\n      <td>0.0</td>\n    </tr>\n    <tr>\n      <th>32</th>\n      <td>1001_31</td>\n      <td>1001</td>\n      <td>2018-11-03</td>\n      <td>0.0</td>\n    </tr>\n    <tr>\n      <th>34</th>\n      <td>1001_35</td>\n      <td>1001</td>\n      <td>2018-12-21</td>\n      <td>0.0</td>\n    </tr>\n    <tr>\n      <th>...</th>\n      <td>...</td>\n      <td>...</td>\n      <td>...</td>\n      <td>...</td>\n    </tr>\n    <tr>\n      <th>137714</th>\n      <td>1499_183</td>\n      <td>1499</td>\n      <td>2018-11-10</td>\n      <td>0.0</td>\n    </tr>\n    <tr>\n      <th>137715</th>\n      <td>1499_184</td>\n      <td>1499</td>\n      <td>2018-09-15</td>\n      <td>0.0</td>\n    </tr>\n    <tr>\n      <th>137720</th>\n      <td>1499_189</td>\n      <td>1499</td>\n      <td>2018-12-27</td>\n      <td>0.0</td>\n    </tr>\n    <tr>\n      <th>137722</th>\n      <td>1499_191</td>\n      <td>1499</td>\n      <td>2018-12-24</td>\n      <td>0.0</td>\n    </tr>\n    <tr>\n      <th>137725</th>\n      <td>1499_194</td>\n      <td>1499</td>\n      <td>2018-10-31</td>\n      <td>0.0</td>\n    </tr>\n  </tbody>\n</table>\n<p>26834 rows × 4 columns</p>\n</div>"
     },
     "metadata": {},
     "execution_count": 5
    }
   ],
   "source": [
    "missed_calls= calls.query('duration_min==0')\n",
    "missed_calls"
   ]
  },
  {
   "cell_type": "code",
   "execution_count": 6,
   "metadata": {},
   "outputs": [
    {
     "output_type": "stream",
     "name": "stdout",
     "text": [
      "The percentage of missed calls from all calls: 19.5\n"
     ]
    }
   ],
   "source": [
    "print('The percentage of missed calls from all calls:', round((missed_calls.shape[0]/calls.shape[0])*100,1))"
   ]
  },
  {
   "source": [
    "- dropping missed-calls:"
   ],
   "cell_type": "markdown",
   "metadata": {}
  },
  {
   "cell_type": "code",
   "execution_count": 7,
   "metadata": {},
   "outputs": [
    {
     "output_type": "stream",
     "name": "stdout",
     "text": [
      "<class 'pandas.core.frame.DataFrame'>\nRangeIndex: 110901 entries, 0 to 110900\nData columns (total 4 columns):\n #   Column        Non-Null Count   Dtype         \n---  ------        --------------   -----         \n 0   id            110901 non-null  object        \n 1   user_id       110901 non-null  int64         \n 2   call_date     110901 non-null  datetime64[ns]\n 3   duration_min  110901 non-null  float64       \ndtypes: datetime64[ns](1), float64(1), int64(1), object(1)\nmemory usage: 3.4+ MB\n"
     ]
    }
   ],
   "source": [
    "calls= calls.drop(missed_calls.index).reset_index(drop=True)\n",
    "calls.info()"
   ]
  },
  {
   "cell_type": "markdown",
   "metadata": {},
   "source": [
    "- rounding up call minutes:"
   ]
  },
  {
   "cell_type": "code",
   "execution_count": 8,
   "metadata": {},
   "outputs": [],
   "source": [
    "calls.duration_min= np.ceil(calls.duration_min)"
   ]
  },
  {
   "cell_type": "code",
   "execution_count": 9,
   "metadata": {},
   "outputs": [
    {
     "output_type": "execute_result",
     "data": {
      "text/plain": [
       "         id  user_id  call_date  duration_min\n",
       "0   1000_93     1000 2018-12-27           9.0\n",
       "1  1000_145     1000 2018-12-27          14.0\n",
       "2  1000_247     1000 2018-12-27          15.0\n",
       "3  1000_309     1000 2018-12-28           6.0\n",
       "4  1000_380     1000 2018-12-30           5.0"
      ],
      "text/html": "<div>\n<style scoped>\n    .dataframe tbody tr th:only-of-type {\n        vertical-align: middle;\n    }\n\n    .dataframe tbody tr th {\n        vertical-align: top;\n    }\n\n    .dataframe thead th {\n        text-align: right;\n    }\n</style>\n<table border=\"1\" class=\"dataframe\">\n  <thead>\n    <tr style=\"text-align: right;\">\n      <th></th>\n      <th>id</th>\n      <th>user_id</th>\n      <th>call_date</th>\n      <th>duration_min</th>\n    </tr>\n  </thead>\n  <tbody>\n    <tr>\n      <th>0</th>\n      <td>1000_93</td>\n      <td>1000</td>\n      <td>2018-12-27</td>\n      <td>9.0</td>\n    </tr>\n    <tr>\n      <th>1</th>\n      <td>1000_145</td>\n      <td>1000</td>\n      <td>2018-12-27</td>\n      <td>14.0</td>\n    </tr>\n    <tr>\n      <th>2</th>\n      <td>1000_247</td>\n      <td>1000</td>\n      <td>2018-12-27</td>\n      <td>15.0</td>\n    </tr>\n    <tr>\n      <th>3</th>\n      <td>1000_309</td>\n      <td>1000</td>\n      <td>2018-12-28</td>\n      <td>6.0</td>\n    </tr>\n    <tr>\n      <th>4</th>\n      <td>1000_380</td>\n      <td>1000</td>\n      <td>2018-12-30</td>\n      <td>5.0</td>\n    </tr>\n  </tbody>\n</table>\n</div>"
     },
     "metadata": {},
     "execution_count": 9
    }
   ],
   "source": [
    "calls.head()"
   ]
  },
  {
   "cell_type": "code",
   "execution_count": 10,
   "metadata": {},
   "outputs": [
    {
     "output_type": "stream",
     "name": "stdout",
     "text": [
      "1) internet:\n",
      "\n",
      "         id  user_id session_date  mb_used\n",
      "0   1000_13     1000   2018-12-29    89.86\n",
      "1  1000_204     1000   2018-12-31     0.00\n",
      "2  1000_379     1000   2018-12-28   660.40\n",
      "3  1000_413     1000   2018-12-26   270.99\n",
      "4  1000_442     1000   2018-12-27   880.22\n",
      " \n",
      "number of duplicared entries in internet: 0\n",
      "\n",
      "<class 'pandas.core.frame.DataFrame'>\n",
      "RangeIndex: 104825 entries, 0 to 104824\n",
      "Data columns (total 4 columns):\n",
      " #   Column        Non-Null Count   Dtype  \n",
      "---  ------        --------------   -----  \n",
      " 0   id            104825 non-null  object \n",
      " 1   user_id       104825 non-null  int64  \n",
      " 2   session_date  104825 non-null  object \n",
      " 3   mb_used       104825 non-null  float64\n",
      "dtypes: float64(1), int64(1), object(2)\n",
      "memory usage: 3.2+ MB\n",
      "\n",
      "\n",
      "\n"
     ]
    }
   ],
   "source": [
    "df_review({'internet':internet})"
   ]
  },
  {
   "cell_type": "code",
   "execution_count": 11,
   "metadata": {},
   "outputs": [
    {
     "output_type": "stream",
     "name": "stdout",
     "text": [
      "<class 'pandas.core.frame.DataFrame'>\nRangeIndex: 104825 entries, 0 to 104824\nData columns (total 4 columns):\n #   Column        Non-Null Count   Dtype         \n---  ------        --------------   -----         \n 0   id            104825 non-null  object        \n 1   user_id       104825 non-null  int64         \n 2   session_date  104825 non-null  datetime64[ns]\n 3   mb_used       104825 non-null  float64       \ndtypes: datetime64[ns](1), float64(1), int64(1), object(1)\nmemory usage: 3.2+ MB\n"
     ]
    }
   ],
   "source": [
    "internet.session_date= pd.to_datetime(internet.session_date, format='%Y-%m-%d')\n",
    "internet.info()"
   ]
  },
  {
   "cell_type": "code",
   "execution_count": 12,
   "metadata": {},
   "outputs": [
    {
     "output_type": "execute_result",
     "data": {
      "text/plain": [
       "              id  user_id session_date  mb_used\n",
       "1       1000_204     1000   2018-12-31      0.0\n",
       "14       1001_26     1001   2018-09-17      0.0\n",
       "16       1001_28     1001   2018-10-17      0.0\n",
       "34       1001_54     1001   2018-09-02      0.0\n",
       "43       1001_77     1001   2018-10-31      0.0\n",
       "...          ...      ...          ...      ...\n",
       "104797  1499_192     1499   2018-09-19      0.0\n",
       "104804  1499_199     1499   2018-12-09      0.0\n",
       "104816  1499_211     1499   2018-09-26      0.0\n",
       "104817  1499_212     1499   2018-09-11      0.0\n",
       "104823  1499_218     1499   2018-12-07      0.0\n",
       "\n",
       "[13747 rows x 4 columns]"
      ],
      "text/html": "<div>\n<style scoped>\n    .dataframe tbody tr th:only-of-type {\n        vertical-align: middle;\n    }\n\n    .dataframe tbody tr th {\n        vertical-align: top;\n    }\n\n    .dataframe thead th {\n        text-align: right;\n    }\n</style>\n<table border=\"1\" class=\"dataframe\">\n  <thead>\n    <tr style=\"text-align: right;\">\n      <th></th>\n      <th>id</th>\n      <th>user_id</th>\n      <th>session_date</th>\n      <th>mb_used</th>\n    </tr>\n  </thead>\n  <tbody>\n    <tr>\n      <th>1</th>\n      <td>1000_204</td>\n      <td>1000</td>\n      <td>2018-12-31</td>\n      <td>0.0</td>\n    </tr>\n    <tr>\n      <th>14</th>\n      <td>1001_26</td>\n      <td>1001</td>\n      <td>2018-09-17</td>\n      <td>0.0</td>\n    </tr>\n    <tr>\n      <th>16</th>\n      <td>1001_28</td>\n      <td>1001</td>\n      <td>2018-10-17</td>\n      <td>0.0</td>\n    </tr>\n    <tr>\n      <th>34</th>\n      <td>1001_54</td>\n      <td>1001</td>\n      <td>2018-09-02</td>\n      <td>0.0</td>\n    </tr>\n    <tr>\n      <th>43</th>\n      <td>1001_77</td>\n      <td>1001</td>\n      <td>2018-10-31</td>\n      <td>0.0</td>\n    </tr>\n    <tr>\n      <th>...</th>\n      <td>...</td>\n      <td>...</td>\n      <td>...</td>\n      <td>...</td>\n    </tr>\n    <tr>\n      <th>104797</th>\n      <td>1499_192</td>\n      <td>1499</td>\n      <td>2018-09-19</td>\n      <td>0.0</td>\n    </tr>\n    <tr>\n      <th>104804</th>\n      <td>1499_199</td>\n      <td>1499</td>\n      <td>2018-12-09</td>\n      <td>0.0</td>\n    </tr>\n    <tr>\n      <th>104816</th>\n      <td>1499_211</td>\n      <td>1499</td>\n      <td>2018-09-26</td>\n      <td>0.0</td>\n    </tr>\n    <tr>\n      <th>104817</th>\n      <td>1499_212</td>\n      <td>1499</td>\n      <td>2018-09-11</td>\n      <td>0.0</td>\n    </tr>\n    <tr>\n      <th>104823</th>\n      <td>1499_218</td>\n      <td>1499</td>\n      <td>2018-12-07</td>\n      <td>0.0</td>\n    </tr>\n  </tbody>\n</table>\n<p>13747 rows × 4 columns</p>\n</div>"
     },
     "metadata": {},
     "execution_count": 12
    }
   ],
   "source": [
    "zero_mb= internet.query('mb_used==0')\n",
    "zero_mb"
   ]
  },
  {
   "cell_type": "code",
   "execution_count": 13,
   "metadata": {},
   "outputs": [
    {
     "output_type": "stream",
     "name": "stdout",
     "text": [
      "The percentage of zero usage (MB) internet sessions out of total sessions: 13.1\n"
     ]
    }
   ],
   "source": [
    "print('The percentage of zero usage (MB) internet sessions out of total sessions:', round((zero_mb.shape[0]/internet.shape[0])*100,1))"
   ]
  },
  {
   "source": [
    "- dropping zero usage sessions:"
   ],
   "cell_type": "markdown",
   "metadata": {}
  },
  {
   "cell_type": "code",
   "execution_count": 14,
   "metadata": {},
   "outputs": [
    {
     "output_type": "stream",
     "name": "stdout",
     "text": [
      "<class 'pandas.core.frame.DataFrame'>\nRangeIndex: 91078 entries, 0 to 91077\nData columns (total 4 columns):\n #   Column        Non-Null Count  Dtype         \n---  ------        --------------  -----         \n 0   id            91078 non-null  object        \n 1   user_id       91078 non-null  int64         \n 2   session_date  91078 non-null  datetime64[ns]\n 3   mb_used       91078 non-null  float64       \ndtypes: datetime64[ns](1), float64(1), int64(1), object(1)\nmemory usage: 2.8+ MB\n"
     ]
    }
   ],
   "source": [
    "internet= internet.drop(zero_mb.index).reset_index(drop=True)\n",
    "internet.info()"
   ]
  },
  {
   "cell_type": "code",
   "execution_count": 15,
   "metadata": {},
   "outputs": [
    {
     "output_type": "stream",
     "name": "stdout",
     "text": [
      "1) messages:\n\n         id  user_id message_date\n0  1000_125     1000   2018-12-27\n1  1000_160     1000   2018-12-31\n2  1000_223     1000   2018-12-31\n3  1000_251     1000   2018-12-27\n4  1000_255     1000   2018-12-26\n \nnumber of duplicared entries in messages: 0\n\n<class 'pandas.core.frame.DataFrame'>\nRangeIndex: 76051 entries, 0 to 76050\nData columns (total 3 columns):\n #   Column        Non-Null Count  Dtype \n---  ------        --------------  ----- \n 0   id            76051 non-null  object\n 1   user_id       76051 non-null  int64 \n 2   message_date  76051 non-null  object\ndtypes: int64(1), object(2)\nmemory usage: 1.7+ MB\n\n\n\n"
     ]
    }
   ],
   "source": [
    "df_review({'messages':messages})"
   ]
  },
  {
   "cell_type": "code",
   "execution_count": 16,
   "metadata": {},
   "outputs": [
    {
     "output_type": "stream",
     "name": "stdout",
     "text": [
      "<class 'pandas.core.frame.DataFrame'>\nRangeIndex: 76051 entries, 0 to 76050\nData columns (total 3 columns):\n #   Column        Non-Null Count  Dtype         \n---  ------        --------------  -----         \n 0   id            76051 non-null  object        \n 1   user_id       76051 non-null  int64         \n 2   message_date  76051 non-null  datetime64[ns]\ndtypes: datetime64[ns](1), int64(1), object(1)\nmemory usage: 1.7+ MB\n"
     ]
    }
   ],
   "source": [
    "messages.message_date= pd.to_datetime(messages.message_date, format='%Y-%m-%d')\n",
    "messages.info()"
   ]
  },
  {
   "cell_type": "code",
   "execution_count": 17,
   "metadata": {},
   "outputs": [
    {
     "output_type": "stream",
     "name": "stdout",
     "text": [
      "1) plans:\n\n   messages_included  mb_per_month_included  minutes_included  \\\n0                 50                  15360               500   \n1               1000                  30720              3000   \n\n   usd_monthly_pay  usd_per_gb  usd_per_message  usd_per_minute plan_name  \n0               20          10             0.03            0.03      surf  \n1               70           7             0.01            0.01  ultimate  \n \nnumber of duplicared entries in plans: 0\n\n<class 'pandas.core.frame.DataFrame'>\nRangeIndex: 2 entries, 0 to 1\nData columns (total 8 columns):\n #   Column                 Non-Null Count  Dtype  \n---  ------                 --------------  -----  \n 0   messages_included      2 non-null      int64  \n 1   mb_per_month_included  2 non-null      int64  \n 2   minutes_included       2 non-null      int64  \n 3   usd_monthly_pay        2 non-null      int64  \n 4   usd_per_gb             2 non-null      int64  \n 5   usd_per_message        2 non-null      float64\n 6   usd_per_minute         2 non-null      float64\n 7   plan_name              2 non-null      object \ndtypes: float64(2), int64(5), object(1)\nmemory usage: 256.0+ bytes\n\n\n\n"
     ]
    }
   ],
   "source": [
    "df_review({'plans':plans})"
   ]
  },
  {
   "cell_type": "code",
   "execution_count": 18,
   "metadata": {},
   "outputs": [
    {
     "output_type": "stream",
     "name": "stdout",
     "text": [
      "1) users:\n\n   user_id first_name  last_name  age                                   city  \\\n0     1000   Anamaria      Bauer   45  Atlanta-Sandy Springs-Roswell, GA MSA   \n1     1001     Mickey  Wilkerson   28        Seattle-Tacoma-Bellevue, WA MSA   \n2     1002     Carlee    Hoffman   36   Las Vegas-Henderson-Paradise, NV MSA   \n3     1003   Reynaldo    Jenkins   52                          Tulsa, OK MSA   \n4     1004    Leonila   Thompson   40        Seattle-Tacoma-Bellevue, WA MSA   \n\n     reg_date      plan churn_date  \n0  2018-12-24  ultimate        NaN  \n1  2018-08-13      surf        NaN  \n2  2018-10-21      surf        NaN  \n3  2018-01-28      surf        NaN  \n4  2018-05-23      surf        NaN  \n \nnumber of duplicared entries in users: 0\n\n<class 'pandas.core.frame.DataFrame'>\nRangeIndex: 500 entries, 0 to 499\nData columns (total 8 columns):\n #   Column      Non-Null Count  Dtype \n---  ------      --------------  ----- \n 0   user_id     500 non-null    int64 \n 1   first_name  500 non-null    object\n 2   last_name   500 non-null    object\n 3   age         500 non-null    int64 \n 4   city        500 non-null    object\n 5   reg_date    500 non-null    object\n 6   plan        500 non-null    object\n 7   churn_date  34 non-null     object\ndtypes: int64(2), object(6)\nmemory usage: 31.4+ KB\n\n\n\n"
     ]
    }
   ],
   "source": [
    "df_review({'users':users})"
   ]
  },
  {
   "cell_type": "code",
   "execution_count": 19,
   "metadata": {},
   "outputs": [
    {
     "output_type": "stream",
     "name": "stdout",
     "text": [
      "percentage of churned out of all users: 6.8%\n"
     ]
    }
   ],
   "source": [
    "churned= users.query('~churn_date.isna()')\n",
    "active= users.query('churn_date.isna()')\n",
    "print('percentage of churned out of all users: {:.1%}'.format(churned.shape[0]/users.shape[0]))"
   ]
  },
  {
   "cell_type": "code",
   "execution_count": 20,
   "metadata": {},
   "outputs": [
    {
     "output_type": "stream",
     "name": "stdout",
     "text": [
      "<class 'pandas.core.frame.DataFrame'>\nRangeIndex: 500 entries, 0 to 499\nData columns (total 8 columns):\n #   Column      Non-Null Count  Dtype         \n---  ------      --------------  -----         \n 0   user_id     500 non-null    int64         \n 1   first_name  500 non-null    object        \n 2   last_name   500 non-null    object        \n 3   age         500 non-null    int64         \n 4   city        500 non-null    object        \n 5   reg_date    500 non-null    datetime64[ns]\n 6   plan        500 non-null    object        \n 7   churn_date  34 non-null     datetime64[ns]\ndtypes: datetime64[ns](2), int64(2), object(4)\nmemory usage: 31.4+ KB\n"
     ]
    }
   ],
   "source": [
    "users['reg_date']= pd.to_datetime(users.reg_date, format='%Y-%m-%d')\n",
    "users['churn_date']= pd.to_datetime(users.churn_date, format='%Y-%m-%d')\n",
    "users.info()"
   ]
  },
  {
   "source": [
    "- length of subscription:"
   ],
   "cell_type": "markdown",
   "metadata": {}
  },
  {
   "cell_type": "code",
   "execution_count": 21,
   "metadata": {},
   "outputs": [],
   "source": [
    "users['days_subscribed']= (users.churn_date- users.reg_date).dt.days"
   ]
  },
  {
   "cell_type": "code",
   "execution_count": 22,
   "metadata": {},
   "outputs": [
    {
     "output_type": "execute_result",
     "data": {
      "text/plain": [
       "     user_id first_name last_name  age  \\\n",
       "304     1304   Dominque      Cole   69   \n",
       "340     1340      Vanna   Stanton   65   \n",
       "47      1047        Yuk    French   22   \n",
       "67      1067       Robt     Allen   37   \n",
       "479     1479     Keesha   Burnett   44   \n",
       "\n",
       "                                         city   reg_date      plan churn_date  \\\n",
       "304                 Birmingham-Hoover, AL MSA 2018-10-28  ultimate        NaT   \n",
       "340       Dallas-Fort Worth-Arlington, TX MSA 2018-07-05      surf        NaT   \n",
       "47       Indianapolis-Carmel-Anderson, IN MSA 2018-06-16  ultimate        NaT   \n",
       "67              Grand Rapids-Kentwood, MI MSA 2018-09-24      surf 2018-11-24   \n",
       "479  Riverside-San Bernardino-Ontario, CA MSA 2018-11-12      surf        NaT   \n",
       "\n",
       "     days_subscribed  \n",
       "304              NaN  \n",
       "340              NaN  \n",
       "47               NaN  \n",
       "67              61.0  \n",
       "479              NaN  "
      ],
      "text/html": "<div>\n<style scoped>\n    .dataframe tbody tr th:only-of-type {\n        vertical-align: middle;\n    }\n\n    .dataframe tbody tr th {\n        vertical-align: top;\n    }\n\n    .dataframe thead th {\n        text-align: right;\n    }\n</style>\n<table border=\"1\" class=\"dataframe\">\n  <thead>\n    <tr style=\"text-align: right;\">\n      <th></th>\n      <th>user_id</th>\n      <th>first_name</th>\n      <th>last_name</th>\n      <th>age</th>\n      <th>city</th>\n      <th>reg_date</th>\n      <th>plan</th>\n      <th>churn_date</th>\n      <th>days_subscribed</th>\n    </tr>\n  </thead>\n  <tbody>\n    <tr>\n      <th>304</th>\n      <td>1304</td>\n      <td>Dominque</td>\n      <td>Cole</td>\n      <td>69</td>\n      <td>Birmingham-Hoover, AL MSA</td>\n      <td>2018-10-28</td>\n      <td>ultimate</td>\n      <td>NaT</td>\n      <td>NaN</td>\n    </tr>\n    <tr>\n      <th>340</th>\n      <td>1340</td>\n      <td>Vanna</td>\n      <td>Stanton</td>\n      <td>65</td>\n      <td>Dallas-Fort Worth-Arlington, TX MSA</td>\n      <td>2018-07-05</td>\n      <td>surf</td>\n      <td>NaT</td>\n      <td>NaN</td>\n    </tr>\n    <tr>\n      <th>47</th>\n      <td>1047</td>\n      <td>Yuk</td>\n      <td>French</td>\n      <td>22</td>\n      <td>Indianapolis-Carmel-Anderson, IN MSA</td>\n      <td>2018-06-16</td>\n      <td>ultimate</td>\n      <td>NaT</td>\n      <td>NaN</td>\n    </tr>\n    <tr>\n      <th>67</th>\n      <td>1067</td>\n      <td>Robt</td>\n      <td>Allen</td>\n      <td>37</td>\n      <td>Grand Rapids-Kentwood, MI MSA</td>\n      <td>2018-09-24</td>\n      <td>surf</td>\n      <td>2018-11-24</td>\n      <td>61.0</td>\n    </tr>\n    <tr>\n      <th>479</th>\n      <td>1479</td>\n      <td>Keesha</td>\n      <td>Burnett</td>\n      <td>44</td>\n      <td>Riverside-San Bernardino-Ontario, CA MSA</td>\n      <td>2018-11-12</td>\n      <td>surf</td>\n      <td>NaT</td>\n      <td>NaN</td>\n    </tr>\n  </tbody>\n</table>\n</div>"
     },
     "metadata": {},
     "execution_count": 22
    }
   ],
   "source": [
    "users.sample(5, random_state=1)"
   ]
  },
  {
   "cell_type": "markdown",
   "metadata": {},
   "source": [
    "## Data Analysis"
   ]
  },
  {
   "cell_type": "markdown",
   "metadata": {},
   "source": [
    "- calls duration per calendar month:"
   ]
  },
  {
   "cell_type": "code",
   "execution_count": 23,
   "metadata": {},
   "outputs": [
    {
     "output_type": "execute_result",
     "data": {
      "text/plain": [
       "   user_id  month  calls_per_month  minutes_per_month\n",
       "0     1000     12               16              124.0\n",
       "1     1001      8               22              182.0\n",
       "2     1001      9               38              315.0\n",
       "3     1001     10               47              393.0\n",
       "4     1001     11               49              426.0"
      ],
      "text/html": "<div>\n<style scoped>\n    .dataframe tbody tr th:only-of-type {\n        vertical-align: middle;\n    }\n\n    .dataframe tbody tr th {\n        vertical-align: top;\n    }\n\n    .dataframe thead th {\n        text-align: right;\n    }\n</style>\n<table border=\"1\" class=\"dataframe\">\n  <thead>\n    <tr style=\"text-align: right;\">\n      <th></th>\n      <th>user_id</th>\n      <th>month</th>\n      <th>calls_per_month</th>\n      <th>minutes_per_month</th>\n    </tr>\n  </thead>\n  <tbody>\n    <tr>\n      <th>0</th>\n      <td>1000</td>\n      <td>12</td>\n      <td>16</td>\n      <td>124.0</td>\n    </tr>\n    <tr>\n      <th>1</th>\n      <td>1001</td>\n      <td>8</td>\n      <td>22</td>\n      <td>182.0</td>\n    </tr>\n    <tr>\n      <th>2</th>\n      <td>1001</td>\n      <td>9</td>\n      <td>38</td>\n      <td>315.0</td>\n    </tr>\n    <tr>\n      <th>3</th>\n      <td>1001</td>\n      <td>10</td>\n      <td>47</td>\n      <td>393.0</td>\n    </tr>\n    <tr>\n      <th>4</th>\n      <td>1001</td>\n      <td>11</td>\n      <td>49</td>\n      <td>426.0</td>\n    </tr>\n  </tbody>\n</table>\n</div>"
     },
     "metadata": {},
     "execution_count": 23
    }
   ],
   "source": [
    "calls['month']= calls.call_date.dt.month\n",
    "number_calls_minutes= calls.pivot_table(index=['user_id', 'month'], values='duration_min', aggfunc=('count', 'sum')).reset_index()\n",
    "number_calls_minutes.rename(columns={'count':'calls_per_month', 'sum':'minutes_per_month'}, inplace=True)\n",
    "number_calls_minutes.head()"
   ]
  },
  {
   "cell_type": "markdown",
   "metadata": {},
   "source": [
    "- text messages per calendar month: "
   ]
  },
  {
   "cell_type": "code",
   "execution_count": 24,
   "metadata": {},
   "outputs": [
    {
     "output_type": "execute_result",
     "data": {
      "text/plain": [
       "   user_id  month  messages_per_month\n",
       "0     1000     12                  11\n",
       "1     1001      8                  30\n",
       "2     1001      9                  44\n",
       "3     1001     10                  53\n",
       "4     1001     11                  36"
      ],
      "text/html": "<div>\n<style scoped>\n    .dataframe tbody tr th:only-of-type {\n        vertical-align: middle;\n    }\n\n    .dataframe tbody tr th {\n        vertical-align: top;\n    }\n\n    .dataframe thead th {\n        text-align: right;\n    }\n</style>\n<table border=\"1\" class=\"dataframe\">\n  <thead>\n    <tr style=\"text-align: right;\">\n      <th></th>\n      <th>user_id</th>\n      <th>month</th>\n      <th>messages_per_month</th>\n    </tr>\n  </thead>\n  <tbody>\n    <tr>\n      <th>0</th>\n      <td>1000</td>\n      <td>12</td>\n      <td>11</td>\n    </tr>\n    <tr>\n      <th>1</th>\n      <td>1001</td>\n      <td>8</td>\n      <td>30</td>\n    </tr>\n    <tr>\n      <th>2</th>\n      <td>1001</td>\n      <td>9</td>\n      <td>44</td>\n    </tr>\n    <tr>\n      <th>3</th>\n      <td>1001</td>\n      <td>10</td>\n      <td>53</td>\n    </tr>\n    <tr>\n      <th>4</th>\n      <td>1001</td>\n      <td>11</td>\n      <td>36</td>\n    </tr>\n  </tbody>\n</table>\n</div>"
     },
     "metadata": {},
     "execution_count": 24
    }
   ],
   "source": [
    "messages['month']= messages.message_date.dt.month\n",
    "number_messages= messages.pivot_table(index=['user_id', 'month'], values='id', aggfunc='count').reset_index()\n",
    "number_messages.rename(columns={'id':'messages_per_month'}, inplace=True)\n",
    "number_messages.head()"
   ]
  },
  {
   "cell_type": "markdown",
   "metadata": {},
   "source": [
    "- internet use per calendar month- converted to GB by deviding the mb_used/1024 and rounding up, according to company's policy:"
   ]
  },
  {
   "cell_type": "code",
   "execution_count": 25,
   "metadata": {},
   "outputs": [
    {
     "output_type": "execute_result",
     "data": {
      "text/plain": [
       "   user_id  month  GB_per_month\n",
       "0     1000     12           2.0\n",
       "1     1001      8           7.0\n",
       "2     1001      9          14.0\n",
       "3     1001     10          22.0\n",
       "4     1001     11          19.0"
      ],
      "text/html": "<div>\n<style scoped>\n    .dataframe tbody tr th:only-of-type {\n        vertical-align: middle;\n    }\n\n    .dataframe tbody tr th {\n        vertical-align: top;\n    }\n\n    .dataframe thead th {\n        text-align: right;\n    }\n</style>\n<table border=\"1\" class=\"dataframe\">\n  <thead>\n    <tr style=\"text-align: right;\">\n      <th></th>\n      <th>user_id</th>\n      <th>month</th>\n      <th>GB_per_month</th>\n    </tr>\n  </thead>\n  <tbody>\n    <tr>\n      <th>0</th>\n      <td>1000</td>\n      <td>12</td>\n      <td>2.0</td>\n    </tr>\n    <tr>\n      <th>1</th>\n      <td>1001</td>\n      <td>8</td>\n      <td>7.0</td>\n    </tr>\n    <tr>\n      <th>2</th>\n      <td>1001</td>\n      <td>9</td>\n      <td>14.0</td>\n    </tr>\n    <tr>\n      <th>3</th>\n      <td>1001</td>\n      <td>10</td>\n      <td>22.0</td>\n    </tr>\n    <tr>\n      <th>4</th>\n      <td>1001</td>\n      <td>11</td>\n      <td>19.0</td>\n    </tr>\n  </tbody>\n</table>\n</div>"
     },
     "metadata": {},
     "execution_count": 25
    }
   ],
   "source": [
    "internet['month']= internet.session_date.dt.month\n",
    "volume_internet= internet.pivot_table(index=['user_id', 'month'], values='mb_used', aggfunc='sum').reset_index()\n",
    "volume_internet.mb_used= np.ceil(volume_internet.mb_used/1024)\n",
    "volume_internet.rename(columns={'mb_used':'GB_per_month'}, inplace=True)\n",
    "volume_internet.head()"
   ]
  },
  {
   "cell_type": "code",
   "execution_count": 26,
   "metadata": {},
   "outputs": [
    {
     "output_type": "execute_result",
     "data": {
      "text/plain": [
       "   user_id first_name  last_name  age                                   city  \\\n",
       "0     1000   Anamaria      Bauer   45  Atlanta-Sandy Springs-Roswell, GA MSA   \n",
       "1     1001     Mickey  Wilkerson   28        Seattle-Tacoma-Bellevue, WA MSA   \n",
       "2     1002     Carlee    Hoffman   36   Las Vegas-Henderson-Paradise, NV MSA   \n",
       "3     1003   Reynaldo    Jenkins   52                          Tulsa, OK MSA   \n",
       "4     1004    Leonila   Thompson   40        Seattle-Tacoma-Bellevue, WA MSA   \n",
       "\n",
       "    reg_date      plan churn_date  days_subscribed  \n",
       "0 2018-12-24  ultimate        NaT              NaN  \n",
       "1 2018-08-13      surf        NaT              NaN  \n",
       "2 2018-10-21      surf        NaT              NaN  \n",
       "3 2018-01-28      surf        NaT              NaN  \n",
       "4 2018-05-23      surf        NaT              NaN  "
      ],
      "text/html": "<div>\n<style scoped>\n    .dataframe tbody tr th:only-of-type {\n        vertical-align: middle;\n    }\n\n    .dataframe tbody tr th {\n        vertical-align: top;\n    }\n\n    .dataframe thead th {\n        text-align: right;\n    }\n</style>\n<table border=\"1\" class=\"dataframe\">\n  <thead>\n    <tr style=\"text-align: right;\">\n      <th></th>\n      <th>user_id</th>\n      <th>first_name</th>\n      <th>last_name</th>\n      <th>age</th>\n      <th>city</th>\n      <th>reg_date</th>\n      <th>plan</th>\n      <th>churn_date</th>\n      <th>days_subscribed</th>\n    </tr>\n  </thead>\n  <tbody>\n    <tr>\n      <th>0</th>\n      <td>1000</td>\n      <td>Anamaria</td>\n      <td>Bauer</td>\n      <td>45</td>\n      <td>Atlanta-Sandy Springs-Roswell, GA MSA</td>\n      <td>2018-12-24</td>\n      <td>ultimate</td>\n      <td>NaT</td>\n      <td>NaN</td>\n    </tr>\n    <tr>\n      <th>1</th>\n      <td>1001</td>\n      <td>Mickey</td>\n      <td>Wilkerson</td>\n      <td>28</td>\n      <td>Seattle-Tacoma-Bellevue, WA MSA</td>\n      <td>2018-08-13</td>\n      <td>surf</td>\n      <td>NaT</td>\n      <td>NaN</td>\n    </tr>\n    <tr>\n      <th>2</th>\n      <td>1002</td>\n      <td>Carlee</td>\n      <td>Hoffman</td>\n      <td>36</td>\n      <td>Las Vegas-Henderson-Paradise, NV MSA</td>\n      <td>2018-10-21</td>\n      <td>surf</td>\n      <td>NaT</td>\n      <td>NaN</td>\n    </tr>\n    <tr>\n      <th>3</th>\n      <td>1003</td>\n      <td>Reynaldo</td>\n      <td>Jenkins</td>\n      <td>52</td>\n      <td>Tulsa, OK MSA</td>\n      <td>2018-01-28</td>\n      <td>surf</td>\n      <td>NaT</td>\n      <td>NaN</td>\n    </tr>\n    <tr>\n      <th>4</th>\n      <td>1004</td>\n      <td>Leonila</td>\n      <td>Thompson</td>\n      <td>40</td>\n      <td>Seattle-Tacoma-Bellevue, WA MSA</td>\n      <td>2018-05-23</td>\n      <td>surf</td>\n      <td>NaT</td>\n      <td>NaN</td>\n    </tr>\n  </tbody>\n</table>\n</div>"
     },
     "metadata": {},
     "execution_count": 26
    }
   ],
   "source": [
    "users.head()"
   ]
  },
  {
   "cell_type": "markdown",
   "metadata": {},
   "source": [
    "- merging all monthly data:"
   ]
  },
  {
   "cell_type": "code",
   "execution_count": 27,
   "metadata": {},
   "outputs": [],
   "source": [
    "revenue_per_month= users.merge(number_calls_minutes.merge(number_messages, on=['user_id','month'], how='outer').merge(volume_internet, on=['user_id', 'month'],how='outer'), on='user_id', how='outer')"
   ]
  },
  {
   "cell_type": "markdown",
   "metadata": {},
   "source": [
    "- replacing NaNs with '0' where relevant i.e. no use of text/ calls/ internet service"
   ]
  },
  {
   "cell_type": "code",
   "execution_count": 28,
   "metadata": {},
   "outputs": [],
   "source": [
    "revenue_per_month.calls_per_month= revenue_per_month.calls_per_month.fillna(0)\n",
    "revenue_per_month.minutes_per_month= revenue_per_month.minutes_per_month.fillna(0)\n",
    "revenue_per_month.messages_per_month= revenue_per_month.messages_per_month.fillna(0)\n",
    "revenue_per_month.GB_per_month= revenue_per_month.GB_per_month.fillna(0)\n"
   ]
  },
  {
   "cell_type": "code",
   "execution_count": 29,
   "metadata": {},
   "outputs": [
    {
     "output_type": "stream",
     "name": "stdout",
     "text": [
      "<class 'pandas.core.frame.DataFrame'>\nInt64Index: 2303 entries, 0 to 2302\nData columns (total 14 columns):\n #   Column              Non-Null Count  Dtype         \n---  ------              --------------  -----         \n 0   user_id             2303 non-null   int64         \n 1   first_name          2303 non-null   object        \n 2   last_name           2303 non-null   object        \n 3   age                 2303 non-null   int64         \n 4   city                2303 non-null   object        \n 5   reg_date            2303 non-null   datetime64[ns]\n 6   plan                2303 non-null   object        \n 7   churn_date          160 non-null    datetime64[ns]\n 8   days_subscribed     160 non-null    float64       \n 9   month               2293 non-null   float64       \n 10  calls_per_month     2303 non-null   float64       \n 11  minutes_per_month   2303 non-null   float64       \n 12  messages_per_month  2303 non-null   float64       \n 13  GB_per_month        2303 non-null   float64       \ndtypes: datetime64[ns](2), float64(6), int64(2), object(4)\nmemory usage: 269.9+ KB\n"
     ]
    }
   ],
   "source": [
    "revenue_per_month.info()"
   ]
  },
  {
   "cell_type": "code",
   "execution_count": 30,
   "metadata": {},
   "outputs": [
    {
     "output_type": "execute_result",
     "data": {
      "text/plain": [
       "   user_id first_name  last_name  age                                   city  \\\n",
       "0     1000   Anamaria      Bauer   45  Atlanta-Sandy Springs-Roswell, GA MSA   \n",
       "1     1001     Mickey  Wilkerson   28        Seattle-Tacoma-Bellevue, WA MSA   \n",
       "2     1001     Mickey  Wilkerson   28        Seattle-Tacoma-Bellevue, WA MSA   \n",
       "3     1001     Mickey  Wilkerson   28        Seattle-Tacoma-Bellevue, WA MSA   \n",
       "4     1001     Mickey  Wilkerson   28        Seattle-Tacoma-Bellevue, WA MSA   \n",
       "\n",
       "    reg_date      plan churn_date  days_subscribed  month  calls_per_month  \\\n",
       "0 2018-12-24  ultimate        NaT              NaN   12.0             16.0   \n",
       "1 2018-08-13      surf        NaT              NaN    8.0             22.0   \n",
       "2 2018-08-13      surf        NaT              NaN    9.0             38.0   \n",
       "3 2018-08-13      surf        NaT              NaN   10.0             47.0   \n",
       "4 2018-08-13      surf        NaT              NaN   11.0             49.0   \n",
       "\n",
       "   minutes_per_month  messages_per_month  GB_per_month  \n",
       "0              124.0                11.0           2.0  \n",
       "1              182.0                30.0           7.0  \n",
       "2              315.0                44.0          14.0  \n",
       "3              393.0                53.0          22.0  \n",
       "4              426.0                36.0          19.0  "
      ],
      "text/html": "<div>\n<style scoped>\n    .dataframe tbody tr th:only-of-type {\n        vertical-align: middle;\n    }\n\n    .dataframe tbody tr th {\n        vertical-align: top;\n    }\n\n    .dataframe thead th {\n        text-align: right;\n    }\n</style>\n<table border=\"1\" class=\"dataframe\">\n  <thead>\n    <tr style=\"text-align: right;\">\n      <th></th>\n      <th>user_id</th>\n      <th>first_name</th>\n      <th>last_name</th>\n      <th>age</th>\n      <th>city</th>\n      <th>reg_date</th>\n      <th>plan</th>\n      <th>churn_date</th>\n      <th>days_subscribed</th>\n      <th>month</th>\n      <th>calls_per_month</th>\n      <th>minutes_per_month</th>\n      <th>messages_per_month</th>\n      <th>GB_per_month</th>\n    </tr>\n  </thead>\n  <tbody>\n    <tr>\n      <th>0</th>\n      <td>1000</td>\n      <td>Anamaria</td>\n      <td>Bauer</td>\n      <td>45</td>\n      <td>Atlanta-Sandy Springs-Roswell, GA MSA</td>\n      <td>2018-12-24</td>\n      <td>ultimate</td>\n      <td>NaT</td>\n      <td>NaN</td>\n      <td>12.0</td>\n      <td>16.0</td>\n      <td>124.0</td>\n      <td>11.0</td>\n      <td>2.0</td>\n    </tr>\n    <tr>\n      <th>1</th>\n      <td>1001</td>\n      <td>Mickey</td>\n      <td>Wilkerson</td>\n      <td>28</td>\n      <td>Seattle-Tacoma-Bellevue, WA MSA</td>\n      <td>2018-08-13</td>\n      <td>surf</td>\n      <td>NaT</td>\n      <td>NaN</td>\n      <td>8.0</td>\n      <td>22.0</td>\n      <td>182.0</td>\n      <td>30.0</td>\n      <td>7.0</td>\n    </tr>\n    <tr>\n      <th>2</th>\n      <td>1001</td>\n      <td>Mickey</td>\n      <td>Wilkerson</td>\n      <td>28</td>\n      <td>Seattle-Tacoma-Bellevue, WA MSA</td>\n      <td>2018-08-13</td>\n      <td>surf</td>\n      <td>NaT</td>\n      <td>NaN</td>\n      <td>9.0</td>\n      <td>38.0</td>\n      <td>315.0</td>\n      <td>44.0</td>\n      <td>14.0</td>\n    </tr>\n    <tr>\n      <th>3</th>\n      <td>1001</td>\n      <td>Mickey</td>\n      <td>Wilkerson</td>\n      <td>28</td>\n      <td>Seattle-Tacoma-Bellevue, WA MSA</td>\n      <td>2018-08-13</td>\n      <td>surf</td>\n      <td>NaT</td>\n      <td>NaN</td>\n      <td>10.0</td>\n      <td>47.0</td>\n      <td>393.0</td>\n      <td>53.0</td>\n      <td>22.0</td>\n    </tr>\n    <tr>\n      <th>4</th>\n      <td>1001</td>\n      <td>Mickey</td>\n      <td>Wilkerson</td>\n      <td>28</td>\n      <td>Seattle-Tacoma-Bellevue, WA MSA</td>\n      <td>2018-08-13</td>\n      <td>surf</td>\n      <td>NaT</td>\n      <td>NaN</td>\n      <td>11.0</td>\n      <td>49.0</td>\n      <td>426.0</td>\n      <td>36.0</td>\n      <td>19.0</td>\n    </tr>\n  </tbody>\n</table>\n</div>"
     },
     "metadata": {},
     "execution_count": 30
    }
   ],
   "source": [
    "revenue_per_month.head()"
   ]
  },
  {
   "cell_type": "code",
   "execution_count": 31,
   "metadata": {},
   "outputs": [],
   "source": [
    "def revenue_calc(row):\n",
    "    ''' function to calculate the revenue according to type of plan'''\n",
    "    plan= row['plan']\n",
    "    if plan=='surf':\n",
    "        revenue=20\n",
    "        if row['calls_per_month']>500:\n",
    "           revenue+= (row['calls_per_month']-500)*0.03\n",
    "        if row['messages_per_month']>50:\n",
    "            revenue+= (row['messages_per_month']-50)*0.03\n",
    "        if row['GB_per_month']>15:\n",
    "            revenue+= (row['GB_per_month']-15)*10\n",
    "    \n",
    "    if plan=='ultimate':\n",
    "        revenue=70\n",
    "        if row['calls_per_month']>3000:\n",
    "            revenue+= (row['calls_per_month']-3000)*0.01\n",
    "        if row['messages_per_month']>1000:\n",
    "            revenue+= (row['messages_per_month']-1000)*0.01\n",
    "        if row['GB_per_month']>30:\n",
    "            revenue+= (row['GB_per_month']-30)*7\n",
    "\n",
    "    return revenue\n",
    "        "
   ]
  },
  {
   "cell_type": "markdown",
   "metadata": {},
   "source": [
    "- monthly revenue calculation:"
   ]
  },
  {
   "cell_type": "code",
   "execution_count": 32,
   "metadata": {},
   "outputs": [
    {
     "output_type": "execute_result",
     "data": {
      "text/plain": [
       "   user_id first_name  last_name  age                                   city  \\\n",
       "0     1000   Anamaria      Bauer   45  Atlanta-Sandy Springs-Roswell, GA MSA   \n",
       "1     1001     Mickey  Wilkerson   28        Seattle-Tacoma-Bellevue, WA MSA   \n",
       "2     1001     Mickey  Wilkerson   28        Seattle-Tacoma-Bellevue, WA MSA   \n",
       "3     1001     Mickey  Wilkerson   28        Seattle-Tacoma-Bellevue, WA MSA   \n",
       "4     1001     Mickey  Wilkerson   28        Seattle-Tacoma-Bellevue, WA MSA   \n",
       "\n",
       "    reg_date      plan churn_date  days_subscribed  month  calls_per_month  \\\n",
       "0 2018-12-24  ultimate        NaT              NaN   12.0             16.0   \n",
       "1 2018-08-13      surf        NaT              NaN    8.0             22.0   \n",
       "2 2018-08-13      surf        NaT              NaN    9.0             38.0   \n",
       "3 2018-08-13      surf        NaT              NaN   10.0             47.0   \n",
       "4 2018-08-13      surf        NaT              NaN   11.0             49.0   \n",
       "\n",
       "   minutes_per_month  messages_per_month  GB_per_month  monthly_revenue  \n",
       "0              124.0                11.0           2.0            70.00  \n",
       "1              182.0                30.0           7.0            20.00  \n",
       "2              315.0                44.0          14.0            20.00  \n",
       "3              393.0                53.0          22.0            90.09  \n",
       "4              426.0                36.0          19.0            60.00  "
      ],
      "text/html": "<div>\n<style scoped>\n    .dataframe tbody tr th:only-of-type {\n        vertical-align: middle;\n    }\n\n    .dataframe tbody tr th {\n        vertical-align: top;\n    }\n\n    .dataframe thead th {\n        text-align: right;\n    }\n</style>\n<table border=\"1\" class=\"dataframe\">\n  <thead>\n    <tr style=\"text-align: right;\">\n      <th></th>\n      <th>user_id</th>\n      <th>first_name</th>\n      <th>last_name</th>\n      <th>age</th>\n      <th>city</th>\n      <th>reg_date</th>\n      <th>plan</th>\n      <th>churn_date</th>\n      <th>days_subscribed</th>\n      <th>month</th>\n      <th>calls_per_month</th>\n      <th>minutes_per_month</th>\n      <th>messages_per_month</th>\n      <th>GB_per_month</th>\n      <th>monthly_revenue</th>\n    </tr>\n  </thead>\n  <tbody>\n    <tr>\n      <th>0</th>\n      <td>1000</td>\n      <td>Anamaria</td>\n      <td>Bauer</td>\n      <td>45</td>\n      <td>Atlanta-Sandy Springs-Roswell, GA MSA</td>\n      <td>2018-12-24</td>\n      <td>ultimate</td>\n      <td>NaT</td>\n      <td>NaN</td>\n      <td>12.0</td>\n      <td>16.0</td>\n      <td>124.0</td>\n      <td>11.0</td>\n      <td>2.0</td>\n      <td>70.00</td>\n    </tr>\n    <tr>\n      <th>1</th>\n      <td>1001</td>\n      <td>Mickey</td>\n      <td>Wilkerson</td>\n      <td>28</td>\n      <td>Seattle-Tacoma-Bellevue, WA MSA</td>\n      <td>2018-08-13</td>\n      <td>surf</td>\n      <td>NaT</td>\n      <td>NaN</td>\n      <td>8.0</td>\n      <td>22.0</td>\n      <td>182.0</td>\n      <td>30.0</td>\n      <td>7.0</td>\n      <td>20.00</td>\n    </tr>\n    <tr>\n      <th>2</th>\n      <td>1001</td>\n      <td>Mickey</td>\n      <td>Wilkerson</td>\n      <td>28</td>\n      <td>Seattle-Tacoma-Bellevue, WA MSA</td>\n      <td>2018-08-13</td>\n      <td>surf</td>\n      <td>NaT</td>\n      <td>NaN</td>\n      <td>9.0</td>\n      <td>38.0</td>\n      <td>315.0</td>\n      <td>44.0</td>\n      <td>14.0</td>\n      <td>20.00</td>\n    </tr>\n    <tr>\n      <th>3</th>\n      <td>1001</td>\n      <td>Mickey</td>\n      <td>Wilkerson</td>\n      <td>28</td>\n      <td>Seattle-Tacoma-Bellevue, WA MSA</td>\n      <td>2018-08-13</td>\n      <td>surf</td>\n      <td>NaT</td>\n      <td>NaN</td>\n      <td>10.0</td>\n      <td>47.0</td>\n      <td>393.0</td>\n      <td>53.0</td>\n      <td>22.0</td>\n      <td>90.09</td>\n    </tr>\n    <tr>\n      <th>4</th>\n      <td>1001</td>\n      <td>Mickey</td>\n      <td>Wilkerson</td>\n      <td>28</td>\n      <td>Seattle-Tacoma-Bellevue, WA MSA</td>\n      <td>2018-08-13</td>\n      <td>surf</td>\n      <td>NaT</td>\n      <td>NaN</td>\n      <td>11.0</td>\n      <td>49.0</td>\n      <td>426.0</td>\n      <td>36.0</td>\n      <td>19.0</td>\n      <td>60.00</td>\n    </tr>\n  </tbody>\n</table>\n</div>"
     },
     "metadata": {},
     "execution_count": 32
    }
   ],
   "source": [
    "revenue_per_month['monthly_revenue']= revenue_per_month.apply(revenue_calc, axis=1)\n",
    "revenue_per_month.head()"
   ]
  },
  {
   "cell_type": "markdown",
   "metadata": {},
   "source": [
    "- average monthly revenue of call_minutes, messages and internet use (GB), per user:"
   ]
  },
  {
   "cell_type": "code",
   "execution_count": 33,
   "metadata": {},
   "outputs": [
    {
     "output_type": "execute_result",
     "data": {
      "text/plain": [
       "   plan  user_id  GB_per_month  messages_per_month  minutes_per_month  \\\n",
       "0  surf     1001     16.200000           41.400000         345.600000   \n",
       "1  surf     1002     13.666667           29.333333         276.333333   \n",
       "2  surf     1003     27.000000           50.000000        1104.000000   \n",
       "3  surf     1004     19.625000           22.125000         346.500000   \n",
       "4  surf     1005     17.000000           11.000000         496.000000   \n",
       "\n",
       "   mean_monthly_revenue  \n",
       "0             50.018000  \n",
       "1             33.333333  \n",
       "2            140.000000  \n",
       "3             76.250000  \n",
       "4             40.000000  "
      ],
      "text/html": "<div>\n<style scoped>\n    .dataframe tbody tr th:only-of-type {\n        vertical-align: middle;\n    }\n\n    .dataframe tbody tr th {\n        vertical-align: top;\n    }\n\n    .dataframe thead th {\n        text-align: right;\n    }\n</style>\n<table border=\"1\" class=\"dataframe\">\n  <thead>\n    <tr style=\"text-align: right;\">\n      <th></th>\n      <th>plan</th>\n      <th>user_id</th>\n      <th>GB_per_month</th>\n      <th>messages_per_month</th>\n      <th>minutes_per_month</th>\n      <th>mean_monthly_revenue</th>\n    </tr>\n  </thead>\n  <tbody>\n    <tr>\n      <th>0</th>\n      <td>surf</td>\n      <td>1001</td>\n      <td>16.200000</td>\n      <td>41.400000</td>\n      <td>345.600000</td>\n      <td>50.018000</td>\n    </tr>\n    <tr>\n      <th>1</th>\n      <td>surf</td>\n      <td>1002</td>\n      <td>13.666667</td>\n      <td>29.333333</td>\n      <td>276.333333</td>\n      <td>33.333333</td>\n    </tr>\n    <tr>\n      <th>2</th>\n      <td>surf</td>\n      <td>1003</td>\n      <td>27.000000</td>\n      <td>50.000000</td>\n      <td>1104.000000</td>\n      <td>140.000000</td>\n    </tr>\n    <tr>\n      <th>3</th>\n      <td>surf</td>\n      <td>1004</td>\n      <td>19.625000</td>\n      <td>22.125000</td>\n      <td>346.500000</td>\n      <td>76.250000</td>\n    </tr>\n    <tr>\n      <th>4</th>\n      <td>surf</td>\n      <td>1005</td>\n      <td>17.000000</td>\n      <td>11.000000</td>\n      <td>496.000000</td>\n      <td>40.000000</td>\n    </tr>\n  </tbody>\n</table>\n</div>"
     },
     "metadata": {},
     "execution_count": 33
    }
   ],
   "source": [
    "plan_users= revenue_per_month.pivot_table(index=['plan', 'user_id'], values=['minutes_per_month', 'messages_per_month', 'GB_per_month','monthly_revenue'], aggfunc='mean').reset_index()\n",
    "plan_users.rename(columns={'monthly_revenue':'mean_monthly_revenue'}, inplace=True)\n",
    "plan_users.head()"
   ]
  },
  {
   "cell_type": "code",
   "execution_count": 34,
   "metadata": {},
   "outputs": [
    {
     "output_type": "stream",
     "name": "stdout",
     "text": [
      "Ratio distribution of users between the 2 plans: \n"
     ]
    },
    {
     "output_type": "execute_result",
     "data": {
      "text/plain": [
       "surf        0.678\n",
       "ultimate    0.322\n",
       "Name: plan, dtype: float64"
      ]
     },
     "metadata": {},
     "execution_count": 34
    }
   ],
   "source": [
    "print('Ratio distribution of users between the 2 plans: ')\n",
    "plan_users.plan.value_counts(normalize=True)"
   ]
  },
  {
   "cell_type": "markdown",
   "metadata": {},
   "source": [
    "- the 500 users in this sample set are not evenly distributed between the two payment plans: 339 are enrolled in the 'surf' plan, and 161 are enrolled in the 'ultimate' plan: 2/3 and 1/3, respectively. "
   ]
  },
  {
   "cell_type": "markdown",
   "metadata": {},
   "source": [
    "#### Internet use analysis"
   ]
  },
  {
   "cell_type": "code",
   "execution_count": 35,
   "metadata": {},
   "outputs": [
    {
     "output_type": "execute_result",
     "data": {
      "text/plain": [
       "          count       mean       std  min   25%        50%   75%        max\n",
       "plan                                                                       \n",
       "surf      339.0  15.713833  6.406767  0.0  12.5  16.000000  19.0  44.000000\n",
       "ultimate  161.0  15.753484  6.241980  0.0  12.2  15.666667  19.0  35.090909"
      ],
      "text/html": "<div>\n<style scoped>\n    .dataframe tbody tr th:only-of-type {\n        vertical-align: middle;\n    }\n\n    .dataframe tbody tr th {\n        vertical-align: top;\n    }\n\n    .dataframe thead th {\n        text-align: right;\n    }\n</style>\n<table border=\"1\" class=\"dataframe\">\n  <thead>\n    <tr style=\"text-align: right;\">\n      <th></th>\n      <th>count</th>\n      <th>mean</th>\n      <th>std</th>\n      <th>min</th>\n      <th>25%</th>\n      <th>50%</th>\n      <th>75%</th>\n      <th>max</th>\n    </tr>\n    <tr>\n      <th>plan</th>\n      <th></th>\n      <th></th>\n      <th></th>\n      <th></th>\n      <th></th>\n      <th></th>\n      <th></th>\n      <th></th>\n    </tr>\n  </thead>\n  <tbody>\n    <tr>\n      <th>surf</th>\n      <td>339.0</td>\n      <td>15.713833</td>\n      <td>6.406767</td>\n      <td>0.0</td>\n      <td>12.5</td>\n      <td>16.000000</td>\n      <td>19.0</td>\n      <td>44.000000</td>\n    </tr>\n    <tr>\n      <th>ultimate</th>\n      <td>161.0</td>\n      <td>15.753484</td>\n      <td>6.241980</td>\n      <td>0.0</td>\n      <td>12.2</td>\n      <td>15.666667</td>\n      <td>19.0</td>\n      <td>35.090909</td>\n    </tr>\n  </tbody>\n</table>\n</div>"
     },
     "metadata": {},
     "execution_count": 35
    }
   ],
   "source": [
    "plan_users.groupby('plan')['GB_per_month'].agg('describe')"
   ]
  },
  {
   "cell_type": "code",
   "execution_count": 36,
   "metadata": {},
   "outputs": [
    {
     "output_type": "display_data",
     "data": {
      "text/plain": "<Figure size 648x504 with 1 Axes>",
      "image/svg+xml": "<?xml version=\"1.0\" encoding=\"utf-8\" standalone=\"no\"?>\n<!DOCTYPE svg PUBLIC \"-//W3C//DTD SVG 1.1//EN\"\n  \"http://www.w3.org/Graphics/SVG/1.1/DTD/svg11.dtd\">\n<svg xmlns:xlink=\"http://www.w3.org/1999/xlink\" width=\"565.132031pt\" height=\"459.074766pt\" viewBox=\"0 0 565.132031 459.074766\" xmlns=\"http://www.w3.org/2000/svg\" version=\"1.1\">\n <metadata>\n  <rdf:RDF xmlns:dc=\"http://purl.org/dc/elements/1.1/\" xmlns:cc=\"http://creativecommons.org/ns#\" xmlns:rdf=\"http://www.w3.org/1999/02/22-rdf-syntax-ns#\">\n   <cc:Work>\n    <dc:type rdf:resource=\"http://purl.org/dc/dcmitype/StillImage\"/>\n    <dc:date>2022-05-07T14:17:09.208833</dc:date>\n    <dc:format>image/svg+xml</dc:format>\n    <dc:creator>\n     <cc:Agent>\n      <dc:title>Matplotlib v3.5.1, https://matplotlib.org/</dc:title>\n     </cc:Agent>\n    </dc:creator>\n   </cc:Work>\n  </rdf:RDF>\n </metadata>\n <defs>\n  <style type=\"text/css\">*{stroke-linejoin: round; stroke-linecap: butt}</style>\n </defs>\n <g id=\"figure_1\">\n  <g id=\"patch_1\">\n   <path d=\"M 0 459.074766 \nL 565.132031 459.074766 \nL 565.132031 0 \nL 0 0 \nz\n\" style=\"fill: #ffffff\"/>\n  </g>\n  <g id=\"axes_1\">\n   <g id=\"patch_2\">\n    <path d=\"M 55.732031 406.823437 \nL 557.932031 406.823437 \nL 557.932031 26.303437 \nL 55.732031 26.303437 \nz\n\" style=\"fill: #eaeaf2\"/>\n   </g>\n   <g id=\"matplotlib.axis_1\">\n    <g id=\"xtick_1\">\n     <g id=\"text_1\">\n      <!-- surf -->\n      <g style=\"fill: #262626\" transform=\"translate(167.530313 428.133828)scale(0.165 -0.165)\">\n       <defs>\n        <path id=\"ArialMT-73\" d=\"M 197 991 \nL 753 1078 \nQ 800 744 1014 566 \nQ 1228 388 1613 388 \nQ 2000 388 2187 545 \nQ 2375 703 2375 916 \nQ 2375 1106 2209 1216 \nQ 2094 1291 1634 1406 \nQ 1016 1563 777 1677 \nQ 538 1791 414 1992 \nQ 291 2194 291 2438 \nQ 291 2659 392 2848 \nQ 494 3038 669 3163 \nQ 800 3259 1026 3326 \nQ 1253 3394 1513 3394 \nQ 1903 3394 2198 3281 \nQ 2494 3169 2634 2976 \nQ 2775 2784 2828 2463 \nL 2278 2388 \nQ 2241 2644 2061 2787 \nQ 1881 2931 1553 2931 \nQ 1166 2931 1000 2803 \nQ 834 2675 834 2503 \nQ 834 2394 903 2306 \nQ 972 2216 1119 2156 \nQ 1203 2125 1616 2013 \nQ 2213 1853 2448 1751 \nQ 2684 1650 2818 1456 \nQ 2953 1263 2953 975 \nQ 2953 694 2789 445 \nQ 2625 197 2315 61 \nQ 2006 -75 1616 -75 \nQ 969 -75 630 194 \nQ 291 463 197 991 \nz\n\" transform=\"scale(0.015625)\"/>\n        <path id=\"ArialMT-75\" d=\"M 2597 0 \nL 2597 488 \nQ 2209 -75 1544 -75 \nQ 1250 -75 995 37 \nQ 741 150 617 320 \nQ 494 491 444 738 \nQ 409 903 409 1263 \nL 409 3319 \nL 972 3319 \nL 972 1478 \nQ 972 1038 1006 884 \nQ 1059 663 1231 536 \nQ 1403 409 1656 409 \nQ 1909 409 2131 539 \nQ 2353 669 2445 892 \nQ 2538 1116 2538 1541 \nL 2538 3319 \nL 3100 3319 \nL 3100 0 \nL 2597 0 \nz\n\" transform=\"scale(0.015625)\"/>\n        <path id=\"ArialMT-72\" d=\"M 416 0 \nL 416 3319 \nL 922 3319 \nL 922 2816 \nQ 1116 3169 1280 3281 \nQ 1444 3394 1641 3394 \nQ 1925 3394 2219 3213 \nL 2025 2691 \nQ 1819 2813 1613 2813 \nQ 1428 2813 1281 2702 \nQ 1134 2591 1072 2394 \nQ 978 2094 978 1738 \nL 978 0 \nL 416 0 \nz\n\" transform=\"scale(0.015625)\"/>\n        <path id=\"ArialMT-66\" d=\"M 556 0 \nL 556 2881 \nL 59 2881 \nL 59 3319 \nL 556 3319 \nL 556 3672 \nQ 556 4006 616 4169 \nQ 697 4388 901 4523 \nQ 1106 4659 1475 4659 \nQ 1713 4659 2000 4603 \nL 1916 4113 \nQ 1741 4144 1584 4144 \nQ 1328 4144 1222 4034 \nQ 1116 3925 1116 3625 \nL 1116 3319 \nL 1763 3319 \nL 1763 2881 \nL 1116 2881 \nL 1116 0 \nL 556 0 \nz\n\" transform=\"scale(0.015625)\"/>\n       </defs>\n       <use xlink:href=\"#ArialMT-73\"/>\n       <use xlink:href=\"#ArialMT-75\" x=\"50\"/>\n       <use xlink:href=\"#ArialMT-72\" x=\"105.615234\"/>\n       <use xlink:href=\"#ArialMT-66\" x=\"138.916016\"/>\n      </g>\n     </g>\n    </g>\n    <g id=\"xtick_2\">\n     <g id=\"text_2\">\n      <!-- ultimate -->\n      <g style=\"fill: #262626\" transform=\"translate(403.496719 428.133828)scale(0.165 -0.165)\">\n       <defs>\n        <path id=\"ArialMT-6c\" d=\"M 409 0 \nL 409 4581 \nL 972 4581 \nL 972 0 \nL 409 0 \nz\n\" transform=\"scale(0.015625)\"/>\n        <path id=\"ArialMT-74\" d=\"M 1650 503 \nL 1731 6 \nQ 1494 -44 1306 -44 \nQ 1000 -44 831 53 \nQ 663 150 594 308 \nQ 525 466 525 972 \nL 525 2881 \nL 113 2881 \nL 113 3319 \nL 525 3319 \nL 525 4141 \nL 1084 4478 \nL 1084 3319 \nL 1650 3319 \nL 1650 2881 \nL 1084 2881 \nL 1084 941 \nQ 1084 700 1114 631 \nQ 1144 563 1211 522 \nQ 1278 481 1403 481 \nQ 1497 481 1650 503 \nz\n\" transform=\"scale(0.015625)\"/>\n        <path id=\"ArialMT-69\" d=\"M 425 3934 \nL 425 4581 \nL 988 4581 \nL 988 3934 \nL 425 3934 \nz\nM 425 0 \nL 425 3319 \nL 988 3319 \nL 988 0 \nL 425 0 \nz\n\" transform=\"scale(0.015625)\"/>\n        <path id=\"ArialMT-6d\" d=\"M 422 0 \nL 422 3319 \nL 925 3319 \nL 925 2853 \nQ 1081 3097 1340 3245 \nQ 1600 3394 1931 3394 \nQ 2300 3394 2536 3241 \nQ 2772 3088 2869 2813 \nQ 3263 3394 3894 3394 \nQ 4388 3394 4653 3120 \nQ 4919 2847 4919 2278 \nL 4919 0 \nL 4359 0 \nL 4359 2091 \nQ 4359 2428 4304 2576 \nQ 4250 2725 4106 2815 \nQ 3963 2906 3769 2906 \nQ 3419 2906 3187 2673 \nQ 2956 2441 2956 1928 \nL 2956 0 \nL 2394 0 \nL 2394 2156 \nQ 2394 2531 2256 2718 \nQ 2119 2906 1806 2906 \nQ 1569 2906 1367 2781 \nQ 1166 2656 1075 2415 \nQ 984 2175 984 1722 \nL 984 0 \nL 422 0 \nz\n\" transform=\"scale(0.015625)\"/>\n        <path id=\"ArialMT-61\" d=\"M 2588 409 \nQ 2275 144 1986 34 \nQ 1697 -75 1366 -75 \nQ 819 -75 525 192 \nQ 231 459 231 875 \nQ 231 1119 342 1320 \nQ 453 1522 633 1644 \nQ 813 1766 1038 1828 \nQ 1203 1872 1538 1913 \nQ 2219 1994 2541 2106 \nQ 2544 2222 2544 2253 \nQ 2544 2597 2384 2738 \nQ 2169 2928 1744 2928 \nQ 1347 2928 1158 2789 \nQ 969 2650 878 2297 \nL 328 2372 \nQ 403 2725 575 2942 \nQ 747 3159 1072 3276 \nQ 1397 3394 1825 3394 \nQ 2250 3394 2515 3294 \nQ 2781 3194 2906 3042 \nQ 3031 2891 3081 2659 \nQ 3109 2516 3109 2141 \nL 3109 1391 \nQ 3109 606 3145 398 \nQ 3181 191 3288 0 \nL 2700 0 \nQ 2613 175 2588 409 \nz\nM 2541 1666 \nQ 2234 1541 1622 1453 \nQ 1275 1403 1131 1340 \nQ 988 1278 909 1158 \nQ 831 1038 831 891 \nQ 831 666 1001 516 \nQ 1172 366 1500 366 \nQ 1825 366 2078 508 \nQ 2331 650 2450 897 \nQ 2541 1088 2541 1459 \nL 2541 1666 \nz\n\" transform=\"scale(0.015625)\"/>\n        <path id=\"ArialMT-65\" d=\"M 2694 1069 \nL 3275 997 \nQ 3138 488 2766 206 \nQ 2394 -75 1816 -75 \nQ 1088 -75 661 373 \nQ 234 822 234 1631 \nQ 234 2469 665 2931 \nQ 1097 3394 1784 3394 \nQ 2450 3394 2872 2941 \nQ 3294 2488 3294 1666 \nQ 3294 1616 3291 1516 \nL 816 1516 \nQ 847 969 1125 678 \nQ 1403 388 1819 388 \nQ 2128 388 2347 550 \nQ 2566 713 2694 1069 \nz\nM 847 1978 \nL 2700 1978 \nQ 2663 2397 2488 2606 \nQ 2219 2931 1791 2931 \nQ 1403 2931 1139 2672 \nQ 875 2413 847 1978 \nz\n\" transform=\"scale(0.015625)\"/>\n       </defs>\n       <use xlink:href=\"#ArialMT-75\"/>\n       <use xlink:href=\"#ArialMT-6c\" x=\"55.615234\"/>\n       <use xlink:href=\"#ArialMT-74\" x=\"77.832031\"/>\n       <use xlink:href=\"#ArialMT-69\" x=\"105.615234\"/>\n       <use xlink:href=\"#ArialMT-6d\" x=\"127.832031\"/>\n       <use xlink:href=\"#ArialMT-61\" x=\"211.132812\"/>\n       <use xlink:href=\"#ArialMT-74\" x=\"266.748047\"/>\n       <use xlink:href=\"#ArialMT-65\" x=\"294.53125\"/>\n      </g>\n     </g>\n    </g>\n    <g id=\"text_3\">\n     <!-- plan -->\n     <g style=\"fill: #262626\" transform=\"translate(289.817813 448.297266)scale(0.18 -0.18)\">\n      <defs>\n       <path id=\"ArialMT-70\" d=\"M 422 -1272 \nL 422 3319 \nL 934 3319 \nL 934 2888 \nQ 1116 3141 1344 3267 \nQ 1572 3394 1897 3394 \nQ 2322 3394 2647 3175 \nQ 2972 2956 3137 2557 \nQ 3303 2159 3303 1684 \nQ 3303 1175 3120 767 \nQ 2938 359 2589 142 \nQ 2241 -75 1856 -75 \nQ 1575 -75 1351 44 \nQ 1128 163 984 344 \nL 984 -1272 \nL 422 -1272 \nz\nM 931 1641 \nQ 931 1000 1190 694 \nQ 1450 388 1819 388 \nQ 2194 388 2461 705 \nQ 2728 1022 2728 1688 \nQ 2728 2322 2467 2637 \nQ 2206 2953 1844 2953 \nQ 1484 2953 1207 2617 \nQ 931 2281 931 1641 \nz\n\" transform=\"scale(0.015625)\"/>\n       <path id=\"ArialMT-6e\" d=\"M 422 0 \nL 422 3319 \nL 928 3319 \nL 928 2847 \nQ 1294 3394 1984 3394 \nQ 2284 3394 2536 3286 \nQ 2788 3178 2913 3003 \nQ 3038 2828 3088 2588 \nQ 3119 2431 3119 2041 \nL 3119 0 \nL 2556 0 \nL 2556 2019 \nQ 2556 2363 2490 2533 \nQ 2425 2703 2258 2804 \nQ 2091 2906 1866 2906 \nQ 1506 2906 1245 2678 \nQ 984 2450 984 1813 \nL 984 0 \nL 422 0 \nz\n\" transform=\"scale(0.015625)\"/>\n      </defs>\n      <use xlink:href=\"#ArialMT-70\"/>\n      <use xlink:href=\"#ArialMT-6c\" x=\"55.615234\"/>\n      <use xlink:href=\"#ArialMT-61\" x=\"77.832031\"/>\n      <use xlink:href=\"#ArialMT-6e\" x=\"133.447266\"/>\n     </g>\n    </g>\n   </g>\n   <g id=\"matplotlib.axis_2\">\n    <g id=\"ytick_1\">\n     <g id=\"line2d_1\">\n      <path d=\"M 55.732031 389.527074 \nL 557.932031 389.527074 \n\" clip-path=\"url(#p95406232d5)\" style=\"fill: none; stroke: #ffffff; stroke-linecap: round\"/>\n     </g>\n     <g id=\"text_4\">\n      <!-- 0 -->\n      <g style=\"fill: #262626\" transform=\"translate(37.056484 395.432269)scale(0.165 -0.165)\">\n       <defs>\n        <path id=\"ArialMT-30\" d=\"M 266 2259 \nQ 266 3072 433 3567 \nQ 600 4063 929 4331 \nQ 1259 4600 1759 4600 \nQ 2128 4600 2406 4451 \nQ 2684 4303 2865 4023 \nQ 3047 3744 3150 3342 \nQ 3253 2941 3253 2259 \nQ 3253 1453 3087 958 \nQ 2922 463 2592 192 \nQ 2263 -78 1759 -78 \nQ 1097 -78 719 397 \nQ 266 969 266 2259 \nz\nM 844 2259 \nQ 844 1131 1108 757 \nQ 1372 384 1759 384 \nQ 2147 384 2411 759 \nQ 2675 1134 2675 2259 \nQ 2675 3391 2411 3762 \nQ 2147 4134 1753 4134 \nQ 1366 4134 1134 3806 \nQ 844 3388 844 2259 \nz\n\" transform=\"scale(0.015625)\"/>\n       </defs>\n       <use xlink:href=\"#ArialMT-30\"/>\n      </g>\n     </g>\n    </g>\n    <g id=\"ytick_2\">\n     <g id=\"line2d_2\">\n      <path d=\"M 55.732031 310.907239 \nL 557.932031 310.907239 \n\" clip-path=\"url(#p95406232d5)\" style=\"fill: none; stroke: #ffffff; stroke-linecap: round\"/>\n     </g>\n     <g id=\"text_5\">\n      <!-- 10 -->\n      <g style=\"fill: #262626\" transform=\"translate(27.880938 316.812434)scale(0.165 -0.165)\">\n       <defs>\n        <path id=\"ArialMT-31\" d=\"M 2384 0 \nL 1822 0 \nL 1822 3584 \nQ 1619 3391 1289 3197 \nQ 959 3003 697 2906 \nL 697 3450 \nQ 1169 3672 1522 3987 \nQ 1875 4303 2022 4600 \nL 2384 4600 \nL 2384 0 \nz\n\" transform=\"scale(0.015625)\"/>\n       </defs>\n       <use xlink:href=\"#ArialMT-31\"/>\n       <use xlink:href=\"#ArialMT-30\" x=\"55.615234\"/>\n      </g>\n     </g>\n    </g>\n    <g id=\"ytick_3\">\n     <g id=\"line2d_3\">\n      <path d=\"M 55.732031 232.287404 \nL 557.932031 232.287404 \n\" clip-path=\"url(#p95406232d5)\" style=\"fill: none; stroke: #ffffff; stroke-linecap: round\"/>\n     </g>\n     <g id=\"text_6\">\n      <!-- 20 -->\n      <g style=\"fill: #262626\" transform=\"translate(27.880938 238.1926)scale(0.165 -0.165)\">\n       <defs>\n        <path id=\"ArialMT-32\" d=\"M 3222 541 \nL 3222 0 \nL 194 0 \nQ 188 203 259 391 \nQ 375 700 629 1000 \nQ 884 1300 1366 1694 \nQ 2113 2306 2375 2664 \nQ 2638 3022 2638 3341 \nQ 2638 3675 2398 3904 \nQ 2159 4134 1775 4134 \nQ 1369 4134 1125 3890 \nQ 881 3647 878 3216 \nL 300 3275 \nQ 359 3922 746 4261 \nQ 1134 4600 1788 4600 \nQ 2447 4600 2831 4234 \nQ 3216 3869 3216 3328 \nQ 3216 3053 3103 2787 \nQ 2991 2522 2730 2228 \nQ 2469 1934 1863 1422 \nQ 1356 997 1212 845 \nQ 1069 694 975 541 \nL 3222 541 \nz\n\" transform=\"scale(0.015625)\"/>\n       </defs>\n       <use xlink:href=\"#ArialMT-32\"/>\n       <use xlink:href=\"#ArialMT-30\" x=\"55.615234\"/>\n      </g>\n     </g>\n    </g>\n    <g id=\"ytick_4\">\n     <g id=\"line2d_4\">\n      <path d=\"M 55.732031 153.66757 \nL 557.932031 153.66757 \n\" clip-path=\"url(#p95406232d5)\" style=\"fill: none; stroke: #ffffff; stroke-linecap: round\"/>\n     </g>\n     <g id=\"text_7\">\n      <!-- 30 -->\n      <g style=\"fill: #262626\" transform=\"translate(27.880938 159.572765)scale(0.165 -0.165)\">\n       <defs>\n        <path id=\"ArialMT-33\" d=\"M 269 1209 \nL 831 1284 \nQ 928 806 1161 595 \nQ 1394 384 1728 384 \nQ 2125 384 2398 659 \nQ 2672 934 2672 1341 \nQ 2672 1728 2419 1979 \nQ 2166 2231 1775 2231 \nQ 1616 2231 1378 2169 \nL 1441 2663 \nQ 1497 2656 1531 2656 \nQ 1891 2656 2178 2843 \nQ 2466 3031 2466 3422 \nQ 2466 3731 2256 3934 \nQ 2047 4138 1716 4138 \nQ 1388 4138 1169 3931 \nQ 950 3725 888 3313 \nL 325 3413 \nQ 428 3978 793 4289 \nQ 1159 4600 1703 4600 \nQ 2078 4600 2393 4439 \nQ 2709 4278 2876 4000 \nQ 3044 3722 3044 3409 \nQ 3044 3113 2884 2869 \nQ 2725 2625 2413 2481 \nQ 2819 2388 3044 2092 \nQ 3269 1797 3269 1353 \nQ 3269 753 2831 336 \nQ 2394 -81 1725 -81 \nQ 1122 -81 723 278 \nQ 325 638 269 1209 \nz\n\" transform=\"scale(0.015625)\"/>\n       </defs>\n       <use xlink:href=\"#ArialMT-33\"/>\n       <use xlink:href=\"#ArialMT-30\" x=\"55.615234\"/>\n      </g>\n     </g>\n    </g>\n    <g id=\"ytick_5\">\n     <g id=\"line2d_5\">\n      <path d=\"M 55.732031 75.047735 \nL 557.932031 75.047735 \n\" clip-path=\"url(#p95406232d5)\" style=\"fill: none; stroke: #ffffff; stroke-linecap: round\"/>\n     </g>\n     <g id=\"text_8\">\n      <!-- 40 -->\n      <g style=\"fill: #262626\" transform=\"translate(27.880938 80.95293)scale(0.165 -0.165)\">\n       <defs>\n        <path id=\"ArialMT-34\" d=\"M 2069 0 \nL 2069 1097 \nL 81 1097 \nL 81 1613 \nL 2172 4581 \nL 2631 4581 \nL 2631 1613 \nL 3250 1613 \nL 3250 1097 \nL 2631 1097 \nL 2631 0 \nL 2069 0 \nz\nM 2069 1613 \nL 2069 3678 \nL 634 1613 \nL 2069 1613 \nz\n\" transform=\"scale(0.015625)\"/>\n       </defs>\n       <use xlink:href=\"#ArialMT-34\"/>\n       <use xlink:href=\"#ArialMT-30\" x=\"55.615234\"/>\n      </g>\n     </g>\n    </g>\n    <g id=\"text_9\">\n     <!-- GB_per_month -->\n     <g style=\"fill: #262626\" transform=\"translate(20.303438 277.594687)rotate(-90)scale(0.18 -0.18)\">\n      <defs>\n       <path id=\"ArialMT-47\" d=\"M 2638 1797 \nL 2638 2334 \nL 4578 2338 \nL 4578 638 \nQ 4131 281 3656 101 \nQ 3181 -78 2681 -78 \nQ 2006 -78 1454 211 \nQ 903 500 622 1047 \nQ 341 1594 341 2269 \nQ 341 2938 620 3517 \nQ 900 4097 1425 4378 \nQ 1950 4659 2634 4659 \nQ 3131 4659 3532 4498 \nQ 3934 4338 4162 4050 \nQ 4391 3763 4509 3300 \nL 3963 3150 \nQ 3859 3500 3706 3700 \nQ 3553 3900 3268 4020 \nQ 2984 4141 2638 4141 \nQ 2222 4141 1919 4014 \nQ 1616 3888 1430 3681 \nQ 1244 3475 1141 3228 \nQ 966 2803 966 2306 \nQ 966 1694 1177 1281 \nQ 1388 869 1791 669 \nQ 2194 469 2647 469 \nQ 3041 469 3416 620 \nQ 3791 772 3984 944 \nL 3984 1797 \nL 2638 1797 \nz\n\" transform=\"scale(0.015625)\"/>\n       <path id=\"ArialMT-42\" d=\"M 469 0 \nL 469 4581 \nL 2188 4581 \nQ 2713 4581 3030 4442 \nQ 3347 4303 3526 4014 \nQ 3706 3725 3706 3409 \nQ 3706 3116 3547 2856 \nQ 3388 2597 3066 2438 \nQ 3481 2316 3704 2022 \nQ 3928 1728 3928 1328 \nQ 3928 1006 3792 729 \nQ 3656 453 3456 303 \nQ 3256 153 2954 76 \nQ 2653 0 2216 0 \nL 469 0 \nz\nM 1075 2656 \nL 2066 2656 \nQ 2469 2656 2644 2709 \nQ 2875 2778 2992 2937 \nQ 3109 3097 3109 3338 \nQ 3109 3566 3000 3739 \nQ 2891 3913 2687 3977 \nQ 2484 4041 1991 4041 \nL 1075 4041 \nL 1075 2656 \nz\nM 1075 541 \nL 2216 541 \nQ 2509 541 2628 563 \nQ 2838 600 2978 687 \nQ 3119 775 3209 942 \nQ 3300 1109 3300 1328 \nQ 3300 1584 3169 1773 \nQ 3038 1963 2805 2039 \nQ 2572 2116 2134 2116 \nL 1075 2116 \nL 1075 541 \nz\n\" transform=\"scale(0.015625)\"/>\n       <path id=\"ArialMT-5f\" d=\"M -97 -1272 \nL -97 -866 \nL 3631 -866 \nL 3631 -1272 \nL -97 -1272 \nz\n\" transform=\"scale(0.015625)\"/>\n       <path id=\"ArialMT-6f\" d=\"M 213 1659 \nQ 213 2581 725 3025 \nQ 1153 3394 1769 3394 \nQ 2453 3394 2887 2945 \nQ 3322 2497 3322 1706 \nQ 3322 1066 3130 698 \nQ 2938 331 2570 128 \nQ 2203 -75 1769 -75 \nQ 1072 -75 642 372 \nQ 213 819 213 1659 \nz\nM 791 1659 \nQ 791 1022 1069 705 \nQ 1347 388 1769 388 \nQ 2188 388 2466 706 \nQ 2744 1025 2744 1678 \nQ 2744 2294 2464 2611 \nQ 2184 2928 1769 2928 \nQ 1347 2928 1069 2612 \nQ 791 2297 791 1659 \nz\n\" transform=\"scale(0.015625)\"/>\n       <path id=\"ArialMT-68\" d=\"M 422 0 \nL 422 4581 \nL 984 4581 \nL 984 2938 \nQ 1378 3394 1978 3394 \nQ 2347 3394 2619 3248 \nQ 2891 3103 3008 2847 \nQ 3125 2591 3125 2103 \nL 3125 0 \nL 2563 0 \nL 2563 2103 \nQ 2563 2525 2380 2717 \nQ 2197 2909 1863 2909 \nQ 1613 2909 1392 2779 \nQ 1172 2650 1078 2428 \nQ 984 2206 984 1816 \nL 984 0 \nL 422 0 \nz\n\" transform=\"scale(0.015625)\"/>\n      </defs>\n      <use xlink:href=\"#ArialMT-47\"/>\n      <use xlink:href=\"#ArialMT-42\" x=\"77.783203\"/>\n      <use xlink:href=\"#ArialMT-5f\" x=\"144.482422\"/>\n      <use xlink:href=\"#ArialMT-70\" x=\"200.097656\"/>\n      <use xlink:href=\"#ArialMT-65\" x=\"255.712891\"/>\n      <use xlink:href=\"#ArialMT-72\" x=\"311.328125\"/>\n      <use xlink:href=\"#ArialMT-5f\" x=\"344.628906\"/>\n      <use xlink:href=\"#ArialMT-6d\" x=\"400.244141\"/>\n      <use xlink:href=\"#ArialMT-6f\" x=\"483.544922\"/>\n      <use xlink:href=\"#ArialMT-6e\" x=\"539.160156\"/>\n      <use xlink:href=\"#ArialMT-74\" x=\"594.775391\"/>\n      <use xlink:href=\"#ArialMT-68\" x=\"622.558594\"/>\n     </g>\n    </g>\n   </g>\n   <g id=\"patch_3\">\n    <path d=\"M 80.842031 291.25228 \nL 281.722031 291.25228 \nL 281.722031 240.149388 \nL 80.842031 240.149388 \nL 80.842031 291.25228 \nz\n\" clip-path=\"url(#p95406232d5)\" style=\"fill: #5875a4; stroke: #4c4c4c; stroke-width: 1.5; stroke-linejoin: miter\"/>\n   </g>\n   <g id=\"patch_4\">\n    <path d=\"M 331.942031 293.610876 \nL 532.822031 293.610876 \nL 532.822031 240.149388 \nL 331.942031 240.149388 \nL 331.942031 293.610876 \nz\n\" clip-path=\"url(#p95406232d5)\" style=\"fill: #cc8963; stroke: #4c4c4c; stroke-width: 1.5; stroke-linejoin: miter\"/>\n   </g>\n   <g id=\"line2d_6\">\n    <path d=\"M 181.282031 291.25228 \nL 181.282031 365.941123 \n\" clip-path=\"url(#p95406232d5)\" style=\"fill: none; stroke: #4c4c4c; stroke-width: 1.5; stroke-linecap: round\"/>\n   </g>\n   <g id=\"line2d_7\">\n    <path d=\"M 181.282031 240.149388 \nL 181.282031 166.246743 \n\" clip-path=\"url(#p95406232d5)\" style=\"fill: none; stroke: #4c4c4c; stroke-width: 1.5; stroke-linecap: round\"/>\n   </g>\n   <g id=\"line2d_8\">\n    <path d=\"M 131.062031 365.941123 \nL 231.502031 365.941123 \n\" clip-path=\"url(#p95406232d5)\" style=\"fill: none; stroke: #4c4c4c; stroke-width: 1.5; stroke-linecap: round\"/>\n   </g>\n   <g id=\"line2d_9\">\n    <path d=\"M 131.062031 166.246743 \nL 231.502031 166.246743 \n\" clip-path=\"url(#p95406232d5)\" style=\"fill: none; stroke: #4c4c4c; stroke-width: 1.5; stroke-linecap: round\"/>\n   </g>\n   <g id=\"line2d_10\">\n    <defs>\n     <path id=\"mbfa53f92a6\" d=\"M 0 3.535534 \nL 2.12132 0 \nL 0 -3.535534 \nL -2.12132 0 \nz\n\" style=\"stroke: #4c4c4c; stroke-linejoin: miter\"/>\n    </defs>\n    <g clip-path=\"url(#p95406232d5)\">\n     <use xlink:href=\"#mbfa53f92a6\" x=\"181.282031\" y=\"381.66509\" style=\"fill: #4c4c4c; stroke: #4c4c4c; stroke-linejoin: miter\"/>\n     <use xlink:href=\"#mbfa53f92a6\" x=\"181.282031\" y=\"379.044429\" style=\"fill: #4c4c4c; stroke: #4c4c4c; stroke-linejoin: miter\"/>\n     <use xlink:href=\"#mbfa53f92a6\" x=\"181.282031\" y=\"389.527074\" style=\"fill: #4c4c4c; stroke: #4c4c4c; stroke-linejoin: miter\"/>\n     <use xlink:href=\"#mbfa53f92a6\" x=\"181.282031\" y=\"389.527074\" style=\"fill: #4c4c4c; stroke: #4c4c4c; stroke-linejoin: miter\"/>\n     <use xlink:href=\"#mbfa53f92a6\" x=\"181.282031\" y=\"381.66509\" style=\"fill: #4c4c4c; stroke: #4c4c4c; stroke-linejoin: miter\"/>\n     <use xlink:href=\"#mbfa53f92a6\" x=\"181.282031\" y=\"389.527074\" style=\"fill: #4c4c4c; stroke: #4c4c4c; stroke-linejoin: miter\"/>\n     <use xlink:href=\"#mbfa53f92a6\" x=\"181.282031\" y=\"389.527074\" style=\"fill: #4c4c4c; stroke: #4c4c4c; stroke-linejoin: miter\"/>\n     <use xlink:href=\"#mbfa53f92a6\" x=\"181.282031\" y=\"373.803107\" style=\"fill: #4c4c4c; stroke: #4c4c4c; stroke-linejoin: miter\"/>\n     <use xlink:href=\"#mbfa53f92a6\" x=\"181.282031\" y=\"381.66509\" style=\"fill: #4c4c4c; stroke: #4c4c4c; stroke-linejoin: miter\"/>\n     <use xlink:href=\"#mbfa53f92a6\" x=\"181.282031\" y=\"389.527074\" style=\"fill: #4c4c4c; stroke: #4c4c4c; stroke-linejoin: miter\"/>\n     <use xlink:href=\"#mbfa53f92a6\" x=\"181.282031\" y=\"381.66509\" style=\"fill: #4c4c4c; stroke: #4c4c4c; stroke-linejoin: miter\"/>\n     <use xlink:href=\"#mbfa53f92a6\" x=\"181.282031\" y=\"389.527074\" style=\"fill: #4c4c4c; stroke: #4c4c4c; stroke-linejoin: miter\"/>\n     <use xlink:href=\"#mbfa53f92a6\" x=\"181.282031\" y=\"389.527074\" style=\"fill: #4c4c4c; stroke: #4c4c4c; stroke-linejoin: miter\"/>\n     <use xlink:href=\"#mbfa53f92a6\" x=\"181.282031\" y=\"373.803107\" style=\"fill: #4c4c4c; stroke: #4c4c4c; stroke-linejoin: miter\"/>\n     <use xlink:href=\"#mbfa53f92a6\" x=\"181.282031\" y=\"122.219636\" style=\"fill: #4c4c4c; stroke: #4c4c4c; stroke-linejoin: miter\"/>\n     <use xlink:href=\"#mbfa53f92a6\" x=\"181.282031\" y=\"136.960855\" style=\"fill: #4c4c4c; stroke: #4c4c4c; stroke-linejoin: miter\"/>\n     <use xlink:href=\"#mbfa53f92a6\" x=\"181.282031\" y=\"158.38476\" style=\"fill: #4c4c4c; stroke: #4c4c4c; stroke-linejoin: miter\"/>\n     <use xlink:href=\"#mbfa53f92a6\" x=\"181.282031\" y=\"159.283272\" style=\"fill: #4c4c4c; stroke: #4c4c4c; stroke-linejoin: miter\"/>\n     <use xlink:href=\"#mbfa53f92a6\" x=\"181.282031\" y=\"155.633066\" style=\"fill: #4c4c4c; stroke: #4c4c4c; stroke-linejoin: miter\"/>\n     <use xlink:href=\"#mbfa53f92a6\" x=\"181.282031\" y=\"121.096495\" style=\"fill: #4c4c4c; stroke: #4c4c4c; stroke-linejoin: miter\"/>\n     <use xlink:href=\"#mbfa53f92a6\" x=\"181.282031\" y=\"144.23319\" style=\"fill: #4c4c4c; stroke: #4c4c4c; stroke-linejoin: miter\"/>\n     <use xlink:href=\"#mbfa53f92a6\" x=\"181.282031\" y=\"80.289057\" style=\"fill: #4c4c4c; stroke: #4c4c4c; stroke-linejoin: miter\"/>\n     <use xlink:href=\"#mbfa53f92a6\" x=\"181.282031\" y=\"155.239966\" style=\"fill: #4c4c4c; stroke: #4c4c4c; stroke-linejoin: miter\"/>\n     <use xlink:href=\"#mbfa53f92a6\" x=\"181.282031\" y=\"43.599801\" style=\"fill: #4c4c4c; stroke: #4c4c4c; stroke-linejoin: miter\"/>\n     <use xlink:href=\"#mbfa53f92a6\" x=\"181.282031\" y=\"148.95038\" style=\"fill: #4c4c4c; stroke: #4c4c4c; stroke-linejoin: miter\"/>\n    </g>\n   </g>\n   <g id=\"line2d_11\">\n    <path d=\"M 432.382031 293.610876 \nL 432.382031 373.803107 \n\" clip-path=\"url(#p95406232d5)\" style=\"fill: none; stroke: #4c4c4c; stroke-width: 1.5; stroke-linecap: round\"/>\n   </g>\n   <g id=\"line2d_12\">\n    <path d=\"M 432.382031 240.149388 \nL 432.382031 162.652694 \n\" clip-path=\"url(#p95406232d5)\" style=\"fill: none; stroke: #4c4c4c; stroke-width: 1.5; stroke-linecap: round\"/>\n   </g>\n   <g id=\"line2d_13\">\n    <path d=\"M 382.162031 373.803107 \nL 482.602031 373.803107 \n\" clip-path=\"url(#p95406232d5)\" style=\"fill: none; stroke: #4c4c4c; stroke-width: 1.5; stroke-linecap: round\"/>\n   </g>\n   <g id=\"line2d_14\">\n    <path d=\"M 382.162031 162.652694 \nL 482.602031 162.652694 \n\" clip-path=\"url(#p95406232d5)\" style=\"fill: none; stroke: #4c4c4c; stroke-width: 1.5; stroke-linecap: round\"/>\n   </g>\n   <g id=\"line2d_15\">\n    <g clip-path=\"url(#p95406232d5)\">\n     <use xlink:href=\"#mbfa53f92a6\" x=\"432.382031\" y=\"389.527074\" style=\"fill: #4c4c4c; stroke: #4c4c4c; stroke-linejoin: miter\"/>\n     <use xlink:href=\"#mbfa53f92a6\" x=\"432.382031\" y=\"381.66509\" style=\"fill: #4c4c4c; stroke: #4c4c4c; stroke-linejoin: miter\"/>\n     <use xlink:href=\"#mbfa53f92a6\" x=\"432.382031\" y=\"389.527074\" style=\"fill: #4c4c4c; stroke: #4c4c4c; stroke-linejoin: miter\"/>\n     <use xlink:href=\"#mbfa53f92a6\" x=\"432.382031\" y=\"389.527074\" style=\"fill: #4c4c4c; stroke: #4c4c4c; stroke-linejoin: miter\"/>\n     <use xlink:href=\"#mbfa53f92a6\" x=\"432.382031\" y=\"389.527074\" style=\"fill: #4c4c4c; stroke: #4c4c4c; stroke-linejoin: miter\"/>\n     <use xlink:href=\"#mbfa53f92a6\" x=\"432.382031\" y=\"113.642927\" style=\"fill: #4c4c4c; stroke: #4c4c4c; stroke-linejoin: miter\"/>\n     <use xlink:href=\"#mbfa53f92a6\" x=\"432.382031\" y=\"116.978314\" style=\"fill: #4c4c4c; stroke: #4c4c4c; stroke-linejoin: miter\"/>\n     <use xlink:href=\"#mbfa53f92a6\" x=\"432.382031\" y=\"151.046909\" style=\"fill: #4c4c4c; stroke: #4c4c4c; stroke-linejoin: miter\"/>\n     <use xlink:href=\"#mbfa53f92a6\" x=\"432.382031\" y=\"139.253933\" style=\"fill: #4c4c4c; stroke: #4c4c4c; stroke-linejoin: miter\"/>\n    </g>\n   </g>\n   <g id=\"line2d_16\">\n    <path d=\"M 80.842031 263.735338 \nL 281.722031 263.735338 \n\" clip-path=\"url(#p95406232d5)\" style=\"fill: none; stroke: #4c4c4c; stroke-width: 1.5; stroke-linecap: round\"/>\n   </g>\n   <g id=\"line2d_17\">\n    <path d=\"M 331.942031 266.355999 \nL 532.822031 266.355999 \n\" clip-path=\"url(#p95406232d5)\" style=\"fill: none; stroke: #4c4c4c; stroke-width: 1.5; stroke-linecap: round\"/>\n   </g>\n   <g id=\"patch_5\">\n    <path d=\"M 55.732031 406.823437 \nL 55.732031 26.303437 \n\" style=\"fill: none; stroke: #ffffff; stroke-width: 1.25; stroke-linejoin: miter; stroke-linecap: square\"/>\n   </g>\n   <g id=\"patch_6\">\n    <path d=\"M 557.932031 406.823437 \nL 557.932031 26.303437 \n\" style=\"fill: none; stroke: #ffffff; stroke-width: 1.25; stroke-linejoin: miter; stroke-linecap: square\"/>\n   </g>\n   <g id=\"patch_7\">\n    <path d=\"M 55.732031 406.823437 \nL 557.932031 406.823437 \n\" style=\"fill: none; stroke: #ffffff; stroke-width: 1.25; stroke-linejoin: miter; stroke-linecap: square\"/>\n   </g>\n   <g id=\"patch_8\">\n    <path d=\"M 55.732031 26.303437 \nL 557.932031 26.303437 \n\" style=\"fill: none; stroke: #ffffff; stroke-width: 1.25; stroke-linejoin: miter; stroke-linecap: square\"/>\n   </g>\n   <g id=\"text_10\">\n    <!-- Monthly internet use (GB) -->\n    <g style=\"fill: #262626\" transform=\"translate(204.296719 20.303437)scale(0.18 -0.18)\">\n     <defs>\n      <path id=\"ArialMT-4d\" d=\"M 475 0 \nL 475 4581 \nL 1388 4581 \nL 2472 1338 \nQ 2622 884 2691 659 \nQ 2769 909 2934 1394 \nL 4031 4581 \nL 4847 4581 \nL 4847 0 \nL 4263 0 \nL 4263 3834 \nL 2931 0 \nL 2384 0 \nL 1059 3900 \nL 1059 0 \nL 475 0 \nz\n\" transform=\"scale(0.015625)\"/>\n      <path id=\"ArialMT-79\" d=\"M 397 -1278 \nL 334 -750 \nQ 519 -800 656 -800 \nQ 844 -800 956 -737 \nQ 1069 -675 1141 -563 \nQ 1194 -478 1313 -144 \nQ 1328 -97 1363 -6 \nL 103 3319 \nL 709 3319 \nL 1400 1397 \nQ 1534 1031 1641 628 \nQ 1738 1016 1872 1384 \nL 2581 3319 \nL 3144 3319 \nL 1881 -56 \nQ 1678 -603 1566 -809 \nQ 1416 -1088 1222 -1217 \nQ 1028 -1347 759 -1347 \nQ 597 -1347 397 -1278 \nz\n\" transform=\"scale(0.015625)\"/>\n      <path id=\"ArialMT-20\" transform=\"scale(0.015625)\"/>\n      <path id=\"ArialMT-28\" d=\"M 1497 -1347 \nQ 1031 -759 709 28 \nQ 388 816 388 1659 \nQ 388 2403 628 3084 \nQ 909 3875 1497 4659 \nL 1900 4659 \nQ 1522 4009 1400 3731 \nQ 1209 3300 1100 2831 \nQ 966 2247 966 1656 \nQ 966 153 1900 -1347 \nL 1497 -1347 \nz\n\" transform=\"scale(0.015625)\"/>\n      <path id=\"ArialMT-29\" d=\"M 791 -1347 \nL 388 -1347 \nQ 1322 153 1322 1656 \nQ 1322 2244 1188 2822 \nQ 1081 3291 891 3722 \nQ 769 4003 388 4659 \nL 791 4659 \nQ 1378 3875 1659 3084 \nQ 1900 2403 1900 1659 \nQ 1900 816 1576 28 \nQ 1253 -759 791 -1347 \nz\n\" transform=\"scale(0.015625)\"/>\n     </defs>\n     <use xlink:href=\"#ArialMT-4d\"/>\n     <use xlink:href=\"#ArialMT-6f\" x=\"83.300781\"/>\n     <use xlink:href=\"#ArialMT-6e\" x=\"138.916016\"/>\n     <use xlink:href=\"#ArialMT-74\" x=\"194.53125\"/>\n     <use xlink:href=\"#ArialMT-68\" x=\"222.314453\"/>\n     <use xlink:href=\"#ArialMT-6c\" x=\"277.929688\"/>\n     <use xlink:href=\"#ArialMT-79\" x=\"300.146484\"/>\n     <use xlink:href=\"#ArialMT-20\" x=\"350.146484\"/>\n     <use xlink:href=\"#ArialMT-69\" x=\"377.929688\"/>\n     <use xlink:href=\"#ArialMT-6e\" x=\"400.146484\"/>\n     <use xlink:href=\"#ArialMT-74\" x=\"455.761719\"/>\n     <use xlink:href=\"#ArialMT-65\" x=\"483.544922\"/>\n     <use xlink:href=\"#ArialMT-72\" x=\"539.160156\"/>\n     <use xlink:href=\"#ArialMT-6e\" x=\"572.460938\"/>\n     <use xlink:href=\"#ArialMT-65\" x=\"628.076172\"/>\n     <use xlink:href=\"#ArialMT-74\" x=\"683.691406\"/>\n     <use xlink:href=\"#ArialMT-20\" x=\"711.474609\"/>\n     <use xlink:href=\"#ArialMT-75\" x=\"739.257812\"/>\n     <use xlink:href=\"#ArialMT-73\" x=\"794.873047\"/>\n     <use xlink:href=\"#ArialMT-65\" x=\"844.873047\"/>\n     <use xlink:href=\"#ArialMT-20\" x=\"900.488281\"/>\n     <use xlink:href=\"#ArialMT-28\" x=\"928.271484\"/>\n     <use xlink:href=\"#ArialMT-47\" x=\"961.572266\"/>\n     <use xlink:href=\"#ArialMT-42\" x=\"1039.355469\"/>\n     <use xlink:href=\"#ArialMT-29\" x=\"1106.054688\"/>\n    </g>\n   </g>\n  </g>\n </g>\n <defs>\n  <clipPath id=\"p95406232d5\">\n   <rect x=\"55.732031\" y=\"26.303437\" width=\"502.2\" height=\"380.52\"/>\n  </clipPath>\n </defs>\n</svg>\n",
      "image/png": "[encoded data removed]"
     },
     "metadata": {}
    }
   ],
   "source": [
    "sns.set(rc={'figure.figsize':(9,7)})\n",
    "sns.set(font_scale=1.5)\n",
    "sns.boxplot(data=plan_users,x='plan' , y='GB_per_month').set(title='Monthly internet use (GB)')\n",
    "plt.show()"
   ]
  },
  {
   "cell_type": "markdown",
   "metadata": {},
   "source": [
    "- The mean monthly internet use (GB) in both plans is almost identical (15.71 'surf' vs 15.75 'ultimate').\n",
    "- Almost 50% of the 'surf' users exceed their plan allowance wheras only less than 1% of the 'ultimate' plan users exceed theirs. "
   ]
  },
  {
   "cell_type": "markdown",
   "metadata": {},
   "source": [
    "#### Text messages analysis"
   ]
  },
  {
   "cell_type": "code",
   "execution_count": 37,
   "metadata": {},
   "outputs": [
    {
     "output_type": "execute_result",
     "data": {
      "text/plain": [
       "          count       mean       std  min       25%        50%   75%    max\n",
       "plan                                                                       \n",
       "surf      339.0  31.835321  31.03770  0.0  5.166667  26.500000  48.1  159.0\n",
       "ultimate  161.0  37.515718  33.06331  0.0  9.000000  32.142857  60.0  148.0"
      ],
      "text/html": "<div>\n<style scoped>\n    .dataframe tbody tr th:only-of-type {\n        vertical-align: middle;\n    }\n\n    .dataframe tbody tr th {\n        vertical-align: top;\n    }\n\n    .dataframe thead th {\n        text-align: right;\n    }\n</style>\n<table border=\"1\" class=\"dataframe\">\n  <thead>\n    <tr style=\"text-align: right;\">\n      <th></th>\n      <th>count</th>\n      <th>mean</th>\n      <th>std</th>\n      <th>min</th>\n      <th>25%</th>\n      <th>50%</th>\n      <th>75%</th>\n      <th>max</th>\n    </tr>\n    <tr>\n      <th>plan</th>\n      <th></th>\n      <th></th>\n      <th></th>\n      <th></th>\n      <th></th>\n      <th></th>\n      <th></th>\n      <th></th>\n    </tr>\n  </thead>\n  <tbody>\n    <tr>\n      <th>surf</th>\n      <td>339.0</td>\n      <td>31.835321</td>\n      <td>31.03770</td>\n      <td>0.0</td>\n      <td>5.166667</td>\n      <td>26.500000</td>\n      <td>48.1</td>\n      <td>159.0</td>\n    </tr>\n    <tr>\n      <th>ultimate</th>\n      <td>161.0</td>\n      <td>37.515718</td>\n      <td>33.06331</td>\n      <td>0.0</td>\n      <td>9.000000</td>\n      <td>32.142857</td>\n      <td>60.0</td>\n      <td>148.0</td>\n    </tr>\n  </tbody>\n</table>\n</div>"
     },
     "metadata": {},
     "execution_count": 37
    }
   ],
   "source": [
    "plan_users.groupby('plan')['messages_per_month'].agg('describe')"
   ]
  },
  {
   "cell_type": "code",
   "execution_count": 38,
   "metadata": {},
   "outputs": [
    {
     "output_type": "display_data",
     "data": {
      "text/plain": "<Figure size 648x504 with 1 Axes>",
      "image/svg+xml": "<?xml version=\"1.0\" encoding=\"utf-8\" standalone=\"no\"?>\n<!DOCTYPE svg PUBLIC \"-//W3C//DTD SVG 1.1//EN\"\n  \"http://www.w3.org/Graphics/SVG/1.1/DTD/svg11.dtd\">\n<svg xmlns:xlink=\"http://www.w3.org/1999/xlink\" width=\"574.299141pt\" height=\"458.855391pt\" viewBox=\"0 0 574.299141 458.855391\" xmlns=\"http://www.w3.org/2000/svg\" version=\"1.1\">\n <metadata>\n  <rdf:RDF xmlns:dc=\"http://purl.org/dc/elements/1.1/\" xmlns:cc=\"http://creativecommons.org/ns#\" xmlns:rdf=\"http://www.w3.org/1999/02/22-rdf-syntax-ns#\">\n   <cc:Work>\n    <dc:type rdf:resource=\"http://purl.org/dc/dcmitype/StillImage\"/>\n    <dc:date>2022-05-07T14:17:09.538510</dc:date>\n    <dc:format>image/svg+xml</dc:format>\n    <dc:creator>\n     <cc:Agent>\n      <dc:title>Matplotlib v3.5.1, https://matplotlib.org/</dc:title>\n     </cc:Agent>\n    </dc:creator>\n   </cc:Work>\n  </rdf:RDF>\n </metadata>\n <defs>\n  <style type=\"text/css\">*{stroke-linejoin: round; stroke-linecap: butt}</style>\n </defs>\n <g id=\"figure_1\">\n  <g id=\"patch_1\">\n   <path d=\"M 0 458.855391 \nL 574.299141 458.855391 \nL 574.299141 0 \nL 0 0 \nz\n\" style=\"fill: #ffffff\"/>\n  </g>\n  <g id=\"axes_1\">\n   <g id=\"patch_2\">\n    <path d=\"M 64.899141 406.604062 \nL 567.099141 406.604062 \nL 567.099141 26.084062 \nL 64.899141 26.084062 \nz\n\" style=\"fill: #eaeaf2\"/>\n   </g>\n   <g id=\"matplotlib.axis_1\">\n    <g id=\"xtick_1\">\n     <g id=\"text_1\">\n      <!-- surf -->\n      <g style=\"fill: #262626\" transform=\"translate(176.697422 427.914453)scale(0.165 -0.165)\">\n       <defs>\n        <path id=\"ArialMT-73\" d=\"M 197 991 \nL 753 1078 \nQ 800 744 1014 566 \nQ 1228 388 1613 388 \nQ 2000 388 2187 545 \nQ 2375 703 2375 916 \nQ 2375 1106 2209 1216 \nQ 2094 1291 1634 1406 \nQ 1016 1563 777 1677 \nQ 538 1791 414 1992 \nQ 291 2194 291 2438 \nQ 291 2659 392 2848 \nQ 494 3038 669 3163 \nQ 800 3259 1026 3326 \nQ 1253 3394 1513 3394 \nQ 1903 3394 2198 3281 \nQ 2494 3169 2634 2976 \nQ 2775 2784 2828 2463 \nL 2278 2388 \nQ 2241 2644 2061 2787 \nQ 1881 2931 1553 2931 \nQ 1166 2931 1000 2803 \nQ 834 2675 834 2503 \nQ 834 2394 903 2306 \nQ 972 2216 1119 2156 \nQ 1203 2125 1616 2013 \nQ 2213 1853 2448 1751 \nQ 2684 1650 2818 1456 \nQ 2953 1263 2953 975 \nQ 2953 694 2789 445 \nQ 2625 197 2315 61 \nQ 2006 -75 1616 -75 \nQ 969 -75 630 194 \nQ 291 463 197 991 \nz\n\" transform=\"scale(0.015625)\"/>\n        <path id=\"ArialMT-75\" d=\"M 2597 0 \nL 2597 488 \nQ 2209 -75 1544 -75 \nQ 1250 -75 995 37 \nQ 741 150 617 320 \nQ 494 491 444 738 \nQ 409 903 409 1263 \nL 409 3319 \nL 972 3319 \nL 972 1478 \nQ 972 1038 1006 884 \nQ 1059 663 1231 536 \nQ 1403 409 1656 409 \nQ 1909 409 2131 539 \nQ 2353 669 2445 892 \nQ 2538 1116 2538 1541 \nL 2538 3319 \nL 3100 3319 \nL 3100 0 \nL 2597 0 \nz\n\" transform=\"scale(0.015625)\"/>\n        <path id=\"ArialMT-72\" d=\"M 416 0 \nL 416 3319 \nL 922 3319 \nL 922 2816 \nQ 1116 3169 1280 3281 \nQ 1444 3394 1641 3394 \nQ 1925 3394 2219 3213 \nL 2025 2691 \nQ 1819 2813 1613 2813 \nQ 1428 2813 1281 2702 \nQ 1134 2591 1072 2394 \nQ 978 2094 978 1738 \nL 978 0 \nL 416 0 \nz\n\" transform=\"scale(0.015625)\"/>\n        <path id=\"ArialMT-66\" d=\"M 556 0 \nL 556 2881 \nL 59 2881 \nL 59 3319 \nL 556 3319 \nL 556 3672 \nQ 556 4006 616 4169 \nQ 697 4388 901 4523 \nQ 1106 4659 1475 4659 \nQ 1713 4659 2000 4603 \nL 1916 4113 \nQ 1741 4144 1584 4144 \nQ 1328 4144 1222 4034 \nQ 1116 3925 1116 3625 \nL 1116 3319 \nL 1763 3319 \nL 1763 2881 \nL 1116 2881 \nL 1116 0 \nL 556 0 \nz\n\" transform=\"scale(0.015625)\"/>\n       </defs>\n       <use xlink:href=\"#ArialMT-73\"/>\n       <use xlink:href=\"#ArialMT-75\" x=\"50\"/>\n       <use xlink:href=\"#ArialMT-72\" x=\"105.615234\"/>\n       <use xlink:href=\"#ArialMT-66\" x=\"138.916016\"/>\n      </g>\n     </g>\n    </g>\n    <g id=\"xtick_2\">\n     <g id=\"text_2\">\n      <!-- ultimate -->\n      <g style=\"fill: #262626\" transform=\"translate(412.663828 427.914453)scale(0.165 -0.165)\">\n       <defs>\n        <path id=\"ArialMT-6c\" d=\"M 409 0 \nL 409 4581 \nL 972 4581 \nL 972 0 \nL 409 0 \nz\n\" transform=\"scale(0.015625)\"/>\n        <path id=\"ArialMT-74\" d=\"M 1650 503 \nL 1731 6 \nQ 1494 -44 1306 -44 \nQ 1000 -44 831 53 \nQ 663 150 594 308 \nQ 525 466 525 972 \nL 525 2881 \nL 113 2881 \nL 113 3319 \nL 525 3319 \nL 525 4141 \nL 1084 4478 \nL 1084 3319 \nL 1650 3319 \nL 1650 2881 \nL 1084 2881 \nL 1084 941 \nQ 1084 700 1114 631 \nQ 1144 563 1211 522 \nQ 1278 481 1403 481 \nQ 1497 481 1650 503 \nz\n\" transform=\"scale(0.015625)\"/>\n        <path id=\"ArialMT-69\" d=\"M 425 3934 \nL 425 4581 \nL 988 4581 \nL 988 3934 \nL 425 3934 \nz\nM 425 0 \nL 425 3319 \nL 988 3319 \nL 988 0 \nL 425 0 \nz\n\" transform=\"scale(0.015625)\"/>\n        <path id=\"ArialMT-6d\" d=\"M 422 0 \nL 422 3319 \nL 925 3319 \nL 925 2853 \nQ 1081 3097 1340 3245 \nQ 1600 3394 1931 3394 \nQ 2300 3394 2536 3241 \nQ 2772 3088 2869 2813 \nQ 3263 3394 3894 3394 \nQ 4388 3394 4653 3120 \nQ 4919 2847 4919 2278 \nL 4919 0 \nL 4359 0 \nL 4359 2091 \nQ 4359 2428 4304 2576 \nQ 4250 2725 4106 2815 \nQ 3963 2906 3769 2906 \nQ 3419 2906 3187 2673 \nQ 2956 2441 2956 1928 \nL 2956 0 \nL 2394 0 \nL 2394 2156 \nQ 2394 2531 2256 2718 \nQ 2119 2906 1806 2906 \nQ 1569 2906 1367 2781 \nQ 1166 2656 1075 2415 \nQ 984 2175 984 1722 \nL 984 0 \nL 422 0 \nz\n\" transform=\"scale(0.015625)\"/>\n        <path id=\"ArialMT-61\" d=\"M 2588 409 \nQ 2275 144 1986 34 \nQ 1697 -75 1366 -75 \nQ 819 -75 525 192 \nQ 231 459 231 875 \nQ 231 1119 342 1320 \nQ 453 1522 633 1644 \nQ 813 1766 1038 1828 \nQ 1203 1872 1538 1913 \nQ 2219 1994 2541 2106 \nQ 2544 2222 2544 2253 \nQ 2544 2597 2384 2738 \nQ 2169 2928 1744 2928 \nQ 1347 2928 1158 2789 \nQ 969 2650 878 2297 \nL 328 2372 \nQ 403 2725 575 2942 \nQ 747 3159 1072 3276 \nQ 1397 3394 1825 3394 \nQ 2250 3394 2515 3294 \nQ 2781 3194 2906 3042 \nQ 3031 2891 3081 2659 \nQ 3109 2516 3109 2141 \nL 3109 1391 \nQ 3109 606 3145 398 \nQ 3181 191 3288 0 \nL 2700 0 \nQ 2613 175 2588 409 \nz\nM 2541 1666 \nQ 2234 1541 1622 1453 \nQ 1275 1403 1131 1340 \nQ 988 1278 909 1158 \nQ 831 1038 831 891 \nQ 831 666 1001 516 \nQ 1172 366 1500 366 \nQ 1825 366 2078 508 \nQ 2331 650 2450 897 \nQ 2541 1088 2541 1459 \nL 2541 1666 \nz\n\" transform=\"scale(0.015625)\"/>\n        <path id=\"ArialMT-65\" d=\"M 2694 1069 \nL 3275 997 \nQ 3138 488 2766 206 \nQ 2394 -75 1816 -75 \nQ 1088 -75 661 373 \nQ 234 822 234 1631 \nQ 234 2469 665 2931 \nQ 1097 3394 1784 3394 \nQ 2450 3394 2872 2941 \nQ 3294 2488 3294 1666 \nQ 3294 1616 3291 1516 \nL 816 1516 \nQ 847 969 1125 678 \nQ 1403 388 1819 388 \nQ 2128 388 2347 550 \nQ 2566 713 2694 1069 \nz\nM 847 1978 \nL 2700 1978 \nQ 2663 2397 2488 2606 \nQ 2219 2931 1791 2931 \nQ 1403 2931 1139 2672 \nQ 875 2413 847 1978 \nz\n\" transform=\"scale(0.015625)\"/>\n       </defs>\n       <use xlink:href=\"#ArialMT-75\"/>\n       <use xlink:href=\"#ArialMT-6c\" x=\"55.615234\"/>\n       <use xlink:href=\"#ArialMT-74\" x=\"77.832031\"/>\n       <use xlink:href=\"#ArialMT-69\" x=\"105.615234\"/>\n       <use xlink:href=\"#ArialMT-6d\" x=\"127.832031\"/>\n       <use xlink:href=\"#ArialMT-61\" x=\"211.132812\"/>\n       <use xlink:href=\"#ArialMT-74\" x=\"266.748047\"/>\n       <use xlink:href=\"#ArialMT-65\" x=\"294.53125\"/>\n      </g>\n     </g>\n    </g>\n    <g id=\"text_3\">\n     <!-- plan -->\n     <g style=\"fill: #262626\" transform=\"translate(298.984922 448.077891)scale(0.18 -0.18)\">\n      <defs>\n       <path id=\"ArialMT-70\" d=\"M 422 -1272 \nL 422 3319 \nL 934 3319 \nL 934 2888 \nQ 1116 3141 1344 3267 \nQ 1572 3394 1897 3394 \nQ 2322 3394 2647 3175 \nQ 2972 2956 3137 2557 \nQ 3303 2159 3303 1684 \nQ 3303 1175 3120 767 \nQ 2938 359 2589 142 \nQ 2241 -75 1856 -75 \nQ 1575 -75 1351 44 \nQ 1128 163 984 344 \nL 984 -1272 \nL 422 -1272 \nz\nM 931 1641 \nQ 931 1000 1190 694 \nQ 1450 388 1819 388 \nQ 2194 388 2461 705 \nQ 2728 1022 2728 1688 \nQ 2728 2322 2467 2637 \nQ 2206 2953 1844 2953 \nQ 1484 2953 1207 2617 \nQ 931 2281 931 1641 \nz\n\" transform=\"scale(0.015625)\"/>\n       <path id=\"ArialMT-6e\" d=\"M 422 0 \nL 422 3319 \nL 928 3319 \nL 928 2847 \nQ 1294 3394 1984 3394 \nQ 2284 3394 2536 3286 \nQ 2788 3178 2913 3003 \nQ 3038 2828 3088 2588 \nQ 3119 2431 3119 2041 \nL 3119 0 \nL 2556 0 \nL 2556 2019 \nQ 2556 2363 2490 2533 \nQ 2425 2703 2258 2804 \nQ 2091 2906 1866 2906 \nQ 1506 2906 1245 2678 \nQ 984 2450 984 1813 \nL 984 0 \nL 422 0 \nz\n\" transform=\"scale(0.015625)\"/>\n      </defs>\n      <use xlink:href=\"#ArialMT-70\"/>\n      <use xlink:href=\"#ArialMT-6c\" x=\"55.615234\"/>\n      <use xlink:href=\"#ArialMT-61\" x=\"77.832031\"/>\n      <use xlink:href=\"#ArialMT-6e\" x=\"133.447266\"/>\n     </g>\n    </g>\n   </g>\n   <g id=\"matplotlib.axis_2\">\n    <g id=\"ytick_1\">\n     <g id=\"line2d_1\">\n      <path d=\"M 64.899141 389.307699 \nL 567.099141 389.307699 \n\" clip-path=\"url(#pbf36e10ecb)\" style=\"fill: none; stroke: #ffffff; stroke-linecap: round\"/>\n     </g>\n     <g id=\"text_4\">\n      <!-- 0 -->\n      <g style=\"fill: #262626\" transform=\"translate(46.223594 395.212894)scale(0.165 -0.165)\">\n       <defs>\n        <path id=\"ArialMT-30\" d=\"M 266 2259 \nQ 266 3072 433 3567 \nQ 600 4063 929 4331 \nQ 1259 4600 1759 4600 \nQ 2128 4600 2406 4451 \nQ 2684 4303 2865 4023 \nQ 3047 3744 3150 3342 \nQ 3253 2941 3253 2259 \nQ 3253 1453 3087 958 \nQ 2922 463 2592 192 \nQ 2263 -78 1759 -78 \nQ 1097 -78 719 397 \nQ 266 969 266 2259 \nz\nM 844 2259 \nQ 844 1131 1108 757 \nQ 1372 384 1759 384 \nQ 2147 384 2411 759 \nQ 2675 1134 2675 2259 \nQ 2675 3391 2411 3762 \nQ 2147 4134 1753 4134 \nQ 1366 4134 1134 3806 \nQ 844 3388 844 2259 \nz\n\" transform=\"scale(0.015625)\"/>\n       </defs>\n       <use xlink:href=\"#ArialMT-30\"/>\n      </g>\n     </g>\n    </g>\n    <g id=\"ytick_2\">\n     <g id=\"line2d_2\">\n      <path d=\"M 64.899141 345.794834 \nL 567.099141 345.794834 \n\" clip-path=\"url(#pbf36e10ecb)\" style=\"fill: none; stroke: #ffffff; stroke-linecap: round\"/>\n     </g>\n     <g id=\"text_5\">\n      <!-- 20 -->\n      <g style=\"fill: #262626\" transform=\"translate(37.048047 351.70003)scale(0.165 -0.165)\">\n       <defs>\n        <path id=\"ArialMT-32\" d=\"M 3222 541 \nL 3222 0 \nL 194 0 \nQ 188 203 259 391 \nQ 375 700 629 1000 \nQ 884 1300 1366 1694 \nQ 2113 2306 2375 2664 \nQ 2638 3022 2638 3341 \nQ 2638 3675 2398 3904 \nQ 2159 4134 1775 4134 \nQ 1369 4134 1125 3890 \nQ 881 3647 878 3216 \nL 300 3275 \nQ 359 3922 746 4261 \nQ 1134 4600 1788 4600 \nQ 2447 4600 2831 4234 \nQ 3216 3869 3216 3328 \nQ 3216 3053 3103 2787 \nQ 2991 2522 2730 2228 \nQ 2469 1934 1863 1422 \nQ 1356 997 1212 845 \nQ 1069 694 975 541 \nL 3222 541 \nz\n\" transform=\"scale(0.015625)\"/>\n       </defs>\n       <use xlink:href=\"#ArialMT-32\"/>\n       <use xlink:href=\"#ArialMT-30\" x=\"55.615234\"/>\n      </g>\n     </g>\n    </g>\n    <g id=\"ytick_3\">\n     <g id=\"line2d_3\">\n      <path d=\"M 64.899141 302.28197 \nL 567.099141 302.28197 \n\" clip-path=\"url(#pbf36e10ecb)\" style=\"fill: none; stroke: #ffffff; stroke-linecap: round\"/>\n     </g>\n     <g id=\"text_6\">\n      <!-- 40 -->\n      <g style=\"fill: #262626\" transform=\"translate(37.048047 308.187165)scale(0.165 -0.165)\">\n       <defs>\n        <path id=\"ArialMT-34\" d=\"M 2069 0 \nL 2069 1097 \nL 81 1097 \nL 81 1613 \nL 2172 4581 \nL 2631 4581 \nL 2631 1613 \nL 3250 1613 \nL 3250 1097 \nL 2631 1097 \nL 2631 0 \nL 2069 0 \nz\nM 2069 1613 \nL 2069 3678 \nL 634 1613 \nL 2069 1613 \nz\n\" transform=\"scale(0.015625)\"/>\n       </defs>\n       <use xlink:href=\"#ArialMT-34\"/>\n       <use xlink:href=\"#ArialMT-30\" x=\"55.615234\"/>\n      </g>\n     </g>\n    </g>\n    <g id=\"ytick_4\">\n     <g id=\"line2d_4\">\n      <path d=\"M 64.899141 258.769105 \nL 567.099141 258.769105 \n\" clip-path=\"url(#pbf36e10ecb)\" style=\"fill: none; stroke: #ffffff; stroke-linecap: round\"/>\n     </g>\n     <g id=\"text_7\">\n      <!-- 60 -->\n      <g style=\"fill: #262626\" transform=\"translate(37.048047 264.674301)scale(0.165 -0.165)\">\n       <defs>\n        <path id=\"ArialMT-36\" d=\"M 3184 3459 \nL 2625 3416 \nQ 2550 3747 2413 3897 \nQ 2184 4138 1850 4138 \nQ 1581 4138 1378 3988 \nQ 1113 3794 959 3422 \nQ 806 3050 800 2363 \nQ 1003 2672 1297 2822 \nQ 1591 2972 1913 2972 \nQ 2475 2972 2870 2558 \nQ 3266 2144 3266 1488 \nQ 3266 1056 3080 686 \nQ 2894 316 2569 119 \nQ 2244 -78 1831 -78 \nQ 1128 -78 684 439 \nQ 241 956 241 2144 \nQ 241 3472 731 4075 \nQ 1159 4600 1884 4600 \nQ 2425 4600 2770 4297 \nQ 3116 3994 3184 3459 \nz\nM 888 1484 \nQ 888 1194 1011 928 \nQ 1134 663 1356 523 \nQ 1578 384 1822 384 \nQ 2178 384 2434 671 \nQ 2691 959 2691 1453 \nQ 2691 1928 2437 2201 \nQ 2184 2475 1800 2475 \nQ 1419 2475 1153 2201 \nQ 888 1928 888 1484 \nz\n\" transform=\"scale(0.015625)\"/>\n       </defs>\n       <use xlink:href=\"#ArialMT-36\"/>\n       <use xlink:href=\"#ArialMT-30\" x=\"55.615234\"/>\n      </g>\n     </g>\n    </g>\n    <g id=\"ytick_5\">\n     <g id=\"line2d_5\">\n      <path d=\"M 64.899141 215.256241 \nL 567.099141 215.256241 \n\" clip-path=\"url(#pbf36e10ecb)\" style=\"fill: none; stroke: #ffffff; stroke-linecap: round\"/>\n     </g>\n     <g id=\"text_8\">\n      <!-- 80 -->\n      <g style=\"fill: #262626\" transform=\"translate(37.048047 221.161436)scale(0.165 -0.165)\">\n       <defs>\n        <path id=\"ArialMT-38\" d=\"M 1131 2484 \nQ 781 2613 612 2850 \nQ 444 3088 444 3419 \nQ 444 3919 803 4259 \nQ 1163 4600 1759 4600 \nQ 2359 4600 2725 4251 \nQ 3091 3903 3091 3403 \nQ 3091 3084 2923 2848 \nQ 2756 2613 2416 2484 \nQ 2838 2347 3058 2040 \nQ 3278 1734 3278 1309 \nQ 3278 722 2862 322 \nQ 2447 -78 1769 -78 \nQ 1091 -78 675 323 \nQ 259 725 259 1325 \nQ 259 1772 486 2073 \nQ 713 2375 1131 2484 \nz\nM 1019 3438 \nQ 1019 3113 1228 2906 \nQ 1438 2700 1772 2700 \nQ 2097 2700 2305 2904 \nQ 2513 3109 2513 3406 \nQ 2513 3716 2298 3927 \nQ 2084 4138 1766 4138 \nQ 1444 4138 1231 3931 \nQ 1019 3725 1019 3438 \nz\nM 838 1322 \nQ 838 1081 952 856 \nQ 1066 631 1291 507 \nQ 1516 384 1775 384 \nQ 2178 384 2440 643 \nQ 2703 903 2703 1303 \nQ 2703 1709 2433 1975 \nQ 2163 2241 1756 2241 \nQ 1359 2241 1098 1978 \nQ 838 1716 838 1322 \nz\n\" transform=\"scale(0.015625)\"/>\n       </defs>\n       <use xlink:href=\"#ArialMT-38\"/>\n       <use xlink:href=\"#ArialMT-30\" x=\"55.615234\"/>\n      </g>\n     </g>\n    </g>\n    <g id=\"ytick_6\">\n     <g id=\"line2d_6\">\n      <path d=\"M 64.899141 171.743376 \nL 567.099141 171.743376 \n\" clip-path=\"url(#pbf36e10ecb)\" style=\"fill: none; stroke: #ffffff; stroke-linecap: round\"/>\n     </g>\n     <g id=\"text_9\">\n      <!-- 100 -->\n      <g style=\"fill: #262626\" transform=\"translate(27.8725 177.648572)scale(0.165 -0.165)\">\n       <defs>\n        <path id=\"ArialMT-31\" d=\"M 2384 0 \nL 1822 0 \nL 1822 3584 \nQ 1619 3391 1289 3197 \nQ 959 3003 697 2906 \nL 697 3450 \nQ 1169 3672 1522 3987 \nQ 1875 4303 2022 4600 \nL 2384 4600 \nL 2384 0 \nz\n\" transform=\"scale(0.015625)\"/>\n       </defs>\n       <use xlink:href=\"#ArialMT-31\"/>\n       <use xlink:href=\"#ArialMT-30\" x=\"55.615234\"/>\n       <use xlink:href=\"#ArialMT-30\" x=\"111.230469\"/>\n      </g>\n     </g>\n    </g>\n    <g id=\"ytick_7\">\n     <g id=\"line2d_7\">\n      <path d=\"M 64.899141 128.230512 \nL 567.099141 128.230512 \n\" clip-path=\"url(#pbf36e10ecb)\" style=\"fill: none; stroke: #ffffff; stroke-linecap: round\"/>\n     </g>\n     <g id=\"text_10\">\n      <!-- 120 -->\n      <g style=\"fill: #262626\" transform=\"translate(27.8725 134.135707)scale(0.165 -0.165)\">\n       <use xlink:href=\"#ArialMT-31\"/>\n       <use xlink:href=\"#ArialMT-32\" x=\"55.615234\"/>\n       <use xlink:href=\"#ArialMT-30\" x=\"111.230469\"/>\n      </g>\n     </g>\n    </g>\n    <g id=\"ytick_8\">\n     <g id=\"line2d_8\">\n      <path d=\"M 64.899141 84.717647 \nL 567.099141 84.717647 \n\" clip-path=\"url(#pbf36e10ecb)\" style=\"fill: none; stroke: #ffffff; stroke-linecap: round\"/>\n     </g>\n     <g id=\"text_11\">\n      <!-- 140 -->\n      <g style=\"fill: #262626\" transform=\"translate(27.8725 90.622843)scale(0.165 -0.165)\">\n       <use xlink:href=\"#ArialMT-31\"/>\n       <use xlink:href=\"#ArialMT-34\" x=\"55.615234\"/>\n       <use xlink:href=\"#ArialMT-30\" x=\"111.230469\"/>\n      </g>\n     </g>\n    </g>\n    <g id=\"ytick_9\">\n     <g id=\"line2d_9\">\n      <path d=\"M 64.899141 41.204783 \nL 567.099141 41.204783 \n\" clip-path=\"url(#pbf36e10ecb)\" style=\"fill: none; stroke: #ffffff; stroke-linecap: round\"/>\n     </g>\n     <g id=\"text_12\">\n      <!-- 160 -->\n      <g style=\"fill: #262626\" transform=\"translate(27.8725 47.109978)scale(0.165 -0.165)\">\n       <use xlink:href=\"#ArialMT-31\"/>\n       <use xlink:href=\"#ArialMT-36\" x=\"55.615234\"/>\n       <use xlink:href=\"#ArialMT-30\" x=\"111.230469\"/>\n      </g>\n     </g>\n    </g>\n    <g id=\"text_13\">\n     <!-- messages_per_month -->\n     <g style=\"fill: #262626\" transform=\"translate(20.084062 305.387812)rotate(-90)scale(0.18 -0.18)\">\n      <defs>\n       <path id=\"ArialMT-67\" d=\"M 319 -275 \nL 866 -356 \nQ 900 -609 1056 -725 \nQ 1266 -881 1628 -881 \nQ 2019 -881 2231 -725 \nQ 2444 -569 2519 -288 \nQ 2563 -116 2559 434 \nQ 2191 0 1641 0 \nQ 956 0 581 494 \nQ 206 988 206 1678 \nQ 206 2153 378 2554 \nQ 550 2956 876 3175 \nQ 1203 3394 1644 3394 \nQ 2231 3394 2613 2919 \nL 2613 3319 \nL 3131 3319 \nL 3131 450 \nQ 3131 -325 2973 -648 \nQ 2816 -972 2473 -1159 \nQ 2131 -1347 1631 -1347 \nQ 1038 -1347 672 -1080 \nQ 306 -813 319 -275 \nz\nM 784 1719 \nQ 784 1066 1043 766 \nQ 1303 466 1694 466 \nQ 2081 466 2343 764 \nQ 2606 1063 2606 1700 \nQ 2606 2309 2336 2618 \nQ 2066 2928 1684 2928 \nQ 1309 2928 1046 2623 \nQ 784 2319 784 1719 \nz\n\" transform=\"scale(0.015625)\"/>\n       <path id=\"ArialMT-5f\" d=\"M -97 -1272 \nL -97 -866 \nL 3631 -866 \nL 3631 -1272 \nL -97 -1272 \nz\n\" transform=\"scale(0.015625)\"/>\n       <path id=\"ArialMT-6f\" d=\"M 213 1659 \nQ 213 2581 725 3025 \nQ 1153 3394 1769 3394 \nQ 2453 3394 2887 2945 \nQ 3322 2497 3322 1706 \nQ 3322 1066 3130 698 \nQ 2938 331 2570 128 \nQ 2203 -75 1769 -75 \nQ 1072 -75 642 372 \nQ 213 819 213 1659 \nz\nM 791 1659 \nQ 791 1022 1069 705 \nQ 1347 388 1769 388 \nQ 2188 388 2466 706 \nQ 2744 1025 2744 1678 \nQ 2744 2294 2464 2611 \nQ 2184 2928 1769 2928 \nQ 1347 2928 1069 2612 \nQ 791 2297 791 1659 \nz\n\" transform=\"scale(0.015625)\"/>\n       <path id=\"ArialMT-68\" d=\"M 422 0 \nL 422 4581 \nL 984 4581 \nL 984 2938 \nQ 1378 3394 1978 3394 \nQ 2347 3394 2619 3248 \nQ 2891 3103 3008 2847 \nQ 3125 2591 3125 2103 \nL 3125 0 \nL 2563 0 \nL 2563 2103 \nQ 2563 2525 2380 2717 \nQ 2197 2909 1863 2909 \nQ 1613 2909 1392 2779 \nQ 1172 2650 1078 2428 \nQ 984 2206 984 1816 \nL 984 0 \nL 422 0 \nz\n\" transform=\"scale(0.015625)\"/>\n      </defs>\n      <use xlink:href=\"#ArialMT-6d\"/>\n      <use xlink:href=\"#ArialMT-65\" x=\"83.300781\"/>\n      <use xlink:href=\"#ArialMT-73\" x=\"138.916016\"/>\n      <use xlink:href=\"#ArialMT-73\" x=\"188.916016\"/>\n      <use xlink:href=\"#ArialMT-61\" x=\"238.916016\"/>\n      <use xlink:href=\"#ArialMT-67\" x=\"294.53125\"/>\n      <use xlink:href=\"#ArialMT-65\" x=\"350.146484\"/>\n      <use xlink:href=\"#ArialMT-73\" x=\"405.761719\"/>\n      <use xlink:href=\"#ArialMT-5f\" x=\"455.761719\"/>\n      <use xlink:href=\"#ArialMT-70\" x=\"511.376953\"/>\n      <use xlink:href=\"#ArialMT-65\" x=\"566.992188\"/>\n      <use xlink:href=\"#ArialMT-72\" x=\"622.607422\"/>\n      <use xlink:href=\"#ArialMT-5f\" x=\"655.908203\"/>\n      <use xlink:href=\"#ArialMT-6d\" x=\"711.523438\"/>\n      <use xlink:href=\"#ArialMT-6f\" x=\"794.824219\"/>\n      <use xlink:href=\"#ArialMT-6e\" x=\"850.439453\"/>\n      <use xlink:href=\"#ArialMT-74\" x=\"906.054688\"/>\n      <use xlink:href=\"#ArialMT-68\" x=\"933.837891\"/>\n     </g>\n    </g>\n   </g>\n   <g id=\"patch_3\">\n    <path d=\"M 90.009141 378.066876 \nL 290.889141 378.066876 \nL 290.889141 284.65926 \nL 90.009141 284.65926 \nL 90.009141 378.066876 \nz\n\" clip-path=\"url(#pbf36e10ecb)\" style=\"fill: #5875a4; stroke: #4c4c4c; stroke-width: 1.5; stroke-linejoin: miter\"/>\n   </g>\n   <g id=\"patch_4\">\n    <path d=\"M 341.109141 369.72691 \nL 541.989141 369.72691 \nL 541.989141 258.769105 \nL 341.109141 258.769105 \nL 341.109141 369.72691 \nz\n\" clip-path=\"url(#pbf36e10ecb)\" style=\"fill: #cc8963; stroke: #4c4c4c; stroke-width: 1.5; stroke-linejoin: miter\"/>\n   </g>\n   <g id=\"line2d_10\">\n    <path d=\"M 190.449141 378.066876 \nL 190.449141 389.307699 \n\" clip-path=\"url(#pbf36e10ecb)\" style=\"fill: none; stroke: #4c4c4c; stroke-width: 1.5; stroke-linecap: round\"/>\n   </g>\n   <g id=\"line2d_11\">\n    <path d=\"M 190.449141 284.65926 \nL 190.449141 149.986944 \n\" clip-path=\"url(#pbf36e10ecb)\" style=\"fill: none; stroke: #4c4c4c; stroke-width: 1.5; stroke-linecap: round\"/>\n   </g>\n   <g id=\"line2d_12\">\n    <path d=\"M 140.229141 389.307699 \nL 240.669141 389.307699 \n\" clip-path=\"url(#pbf36e10ecb)\" style=\"fill: none; stroke: #4c4c4c; stroke-width: 1.5; stroke-linecap: round\"/>\n   </g>\n   <g id=\"line2d_13\">\n    <path d=\"M 140.229141 149.986944 \nL 240.669141 149.986944 \n\" clip-path=\"url(#pbf36e10ecb)\" style=\"fill: none; stroke: #4c4c4c; stroke-width: 1.5; stroke-linecap: round\"/>\n   </g>\n   <g id=\"line2d_14\">\n    <defs>\n     <path id=\"m3a8f277a14\" d=\"M 0 3.535534 \nL 2.12132 0 \nL 0 -3.535534 \nL -2.12132 0 \nz\n\" style=\"stroke: #4c4c4c; stroke-linejoin: miter\"/>\n    </defs>\n    <g clip-path=\"url(#pbf36e10ecb)\">\n     <use xlink:href=\"#m3a8f277a14\" x=\"190.449141\" y=\"43.380426\" style=\"fill: #4c4c4c; stroke: #4c4c4c; stroke-linejoin: miter\"/>\n     <use xlink:href=\"#m3a8f277a14\" x=\"190.449141\" y=\"120.978368\" style=\"fill: #4c4c4c; stroke: #4c4c4c; stroke-linejoin: miter\"/>\n     <use xlink:href=\"#m3a8f277a14\" x=\"190.449141\" y=\"123.879225\" style=\"fill: #4c4c4c; stroke: #4c4c4c; stroke-linejoin: miter\"/>\n     <use xlink:href=\"#m3a8f277a14\" x=\"190.449141\" y=\"105.265389\" style=\"fill: #4c4c4c; stroke: #4c4c4c; stroke-linejoin: miter\"/>\n     <use xlink:href=\"#m3a8f277a14\" x=\"190.449141\" y=\"91.244577\" style=\"fill: #4c4c4c; stroke: #4c4c4c; stroke-linejoin: miter\"/>\n     <use xlink:href=\"#m3a8f277a14\" x=\"190.449141\" y=\"49.907356\" style=\"fill: #4c4c4c; stroke: #4c4c4c; stroke-linejoin: miter\"/>\n     <use xlink:href=\"#m3a8f277a14\" x=\"190.449141\" y=\"102.122793\" style=\"fill: #4c4c4c; stroke: #4c4c4c; stroke-linejoin: miter\"/>\n    </g>\n   </g>\n   <g id=\"line2d_15\">\n    <path d=\"M 441.549141 369.72691 \nL 441.549141 389.307699 \n\" clip-path=\"url(#pbf36e10ecb)\" style=\"fill: none; stroke: #4c4c4c; stroke-width: 1.5; stroke-linecap: round\"/>\n   </g>\n   <g id=\"line2d_16\">\n    <path d=\"M 441.549141 258.769105 \nL 441.549141 115.176653 \n\" clip-path=\"url(#pbf36e10ecb)\" style=\"fill: none; stroke: #4c4c4c; stroke-width: 1.5; stroke-linecap: round\"/>\n   </g>\n   <g id=\"line2d_17\">\n    <path d=\"M 391.329141 389.307699 \nL 491.769141 389.307699 \n\" clip-path=\"url(#pbf36e10ecb)\" style=\"fill: none; stroke: #4c4c4c; stroke-width: 1.5; stroke-linecap: round\"/>\n   </g>\n   <g id=\"line2d_18\">\n    <path d=\"M 391.329141 115.176653 \nL 491.769141 115.176653 \n\" clip-path=\"url(#pbf36e10ecb)\" style=\"fill: none; stroke: #4c4c4c; stroke-width: 1.5; stroke-linecap: round\"/>\n   </g>\n   <g id=\"line2d_19\">\n    <g clip-path=\"url(#pbf36e10ecb)\">\n     <use xlink:href=\"#m3a8f277a14\" x=\"441.549141\" y=\"77.94898\" style=\"fill: #4c4c4c; stroke: #4c4c4c; stroke-linejoin: miter\"/>\n     <use xlink:href=\"#m3a8f277a14\" x=\"441.549141\" y=\"67.312502\" style=\"fill: #4c4c4c; stroke: #4c4c4c; stroke-linejoin: miter\"/>\n    </g>\n   </g>\n   <g id=\"line2d_20\">\n    <path d=\"M 90.009141 331.653153 \nL 290.889141 331.653153 \n\" clip-path=\"url(#pbf36e10ecb)\" style=\"fill: none; stroke: #4c4c4c; stroke-width: 1.5; stroke-linecap: round\"/>\n   </g>\n   <g id=\"line2d_21\">\n    <path d=\"M 341.109141 319.376309 \nL 541.989141 319.376309 \n\" clip-path=\"url(#pbf36e10ecb)\" style=\"fill: none; stroke: #4c4c4c; stroke-width: 1.5; stroke-linecap: round\"/>\n   </g>\n   <g id=\"patch_5\">\n    <path d=\"M 64.899141 406.604062 \nL 64.899141 26.084062 \n\" style=\"fill: none; stroke: #ffffff; stroke-width: 1.25; stroke-linejoin: miter; stroke-linecap: square\"/>\n   </g>\n   <g id=\"patch_6\">\n    <path d=\"M 567.099141 406.604062 \nL 567.099141 26.084062 \n\" style=\"fill: none; stroke: #ffffff; stroke-width: 1.25; stroke-linejoin: miter; stroke-linecap: square\"/>\n   </g>\n   <g id=\"patch_7\">\n    <path d=\"M 64.899141 406.604062 \nL 567.099141 406.604062 \n\" style=\"fill: none; stroke: #ffffff; stroke-width: 1.25; stroke-linejoin: miter; stroke-linecap: square\"/>\n   </g>\n   <g id=\"patch_8\">\n    <path d=\"M 64.899141 26.084062 \nL 567.099141 26.084062 \n\" style=\"fill: none; stroke: #ffffff; stroke-width: 1.25; stroke-linejoin: miter; stroke-linecap: square\"/>\n   </g>\n   <g id=\"text_14\">\n    <!-- Monthly text messages -->\n    <g style=\"fill: #262626\" transform=\"translate(223.965703 20.084062)scale(0.18 -0.18)\">\n     <defs>\n      <path id=\"ArialMT-4d\" d=\"M 475 0 \nL 475 4581 \nL 1388 4581 \nL 2472 1338 \nQ 2622 884 2691 659 \nQ 2769 909 2934 1394 \nL 4031 4581 \nL 4847 4581 \nL 4847 0 \nL 4263 0 \nL 4263 3834 \nL 2931 0 \nL 2384 0 \nL 1059 3900 \nL 1059 0 \nL 475 0 \nz\n\" transform=\"scale(0.015625)\"/>\n      <path id=\"ArialMT-79\" d=\"M 397 -1278 \nL 334 -750 \nQ 519 -800 656 -800 \nQ 844 -800 956 -737 \nQ 1069 -675 1141 -563 \nQ 1194 -478 1313 -144 \nQ 1328 -97 1363 -6 \nL 103 3319 \nL 709 3319 \nL 1400 1397 \nQ 1534 1031 1641 628 \nQ 1738 1016 1872 1384 \nL 2581 3319 \nL 3144 3319 \nL 1881 -56 \nQ 1678 -603 1566 -809 \nQ 1416 -1088 1222 -1217 \nQ 1028 -1347 759 -1347 \nQ 597 -1347 397 -1278 \nz\n\" transform=\"scale(0.015625)\"/>\n      <path id=\"ArialMT-20\" transform=\"scale(0.015625)\"/>\n      <path id=\"ArialMT-78\" d=\"M 47 0 \nL 1259 1725 \nL 138 3319 \nL 841 3319 \nL 1350 2541 \nQ 1494 2319 1581 2169 \nQ 1719 2375 1834 2534 \nL 2394 3319 \nL 3066 3319 \nL 1919 1756 \nL 3153 0 \nL 2463 0 \nL 1781 1031 \nL 1600 1309 \nL 728 0 \nL 47 0 \nz\n\" transform=\"scale(0.015625)\"/>\n     </defs>\n     <use xlink:href=\"#ArialMT-4d\"/>\n     <use xlink:href=\"#ArialMT-6f\" x=\"83.300781\"/>\n     <use xlink:href=\"#ArialMT-6e\" x=\"138.916016\"/>\n     <use xlink:href=\"#ArialMT-74\" x=\"194.53125\"/>\n     <use xlink:href=\"#ArialMT-68\" x=\"222.314453\"/>\n     <use xlink:href=\"#ArialMT-6c\" x=\"277.929688\"/>\n     <use xlink:href=\"#ArialMT-79\" x=\"300.146484\"/>\n     <use xlink:href=\"#ArialMT-20\" x=\"350.146484\"/>\n     <use xlink:href=\"#ArialMT-74\" x=\"377.929688\"/>\n     <use xlink:href=\"#ArialMT-65\" x=\"405.712891\"/>\n     <use xlink:href=\"#ArialMT-78\" x=\"461.328125\"/>\n     <use xlink:href=\"#ArialMT-74\" x=\"511.328125\"/>\n     <use xlink:href=\"#ArialMT-20\" x=\"539.111328\"/>\n     <use xlink:href=\"#ArialMT-6d\" x=\"566.894531\"/>\n     <use xlink:href=\"#ArialMT-65\" x=\"650.195312\"/>\n     <use xlink:href=\"#ArialMT-73\" x=\"705.810547\"/>\n     <use xlink:href=\"#ArialMT-73\" x=\"755.810547\"/>\n     <use xlink:href=\"#ArialMT-61\" x=\"805.810547\"/>\n     <use xlink:href=\"#ArialMT-67\" x=\"861.425781\"/>\n     <use xlink:href=\"#ArialMT-65\" x=\"917.041016\"/>\n     <use xlink:href=\"#ArialMT-73\" x=\"972.65625\"/>\n    </g>\n   </g>\n  </g>\n </g>\n <defs>\n  <clipPath id=\"pbf36e10ecb\">\n   <rect x=\"64.899141\" y=\"26.084062\" width=\"502.2\" height=\"380.52\"/>\n  </clipPath>\n </defs>\n</svg>\n",
      "image/png": "[encoded data removed]"
     },
     "metadata": {}
    }
   ],
   "source": [
    "sns.set(rc={'figure.figsize':(9,7)})\n",
    "sns.set(font_scale=1.5)\n",
    "sns.boxplot(data=plan_users,x='plan' , y='messages_per_month').set(title='Monthly text messages')\n",
    "plt.show()"
   ]
  },
  {
   "cell_type": "markdown",
   "metadata": {},
   "source": [
    "- The mean monthly text messages of the 'ultimate' plan users is slightly higher than that of the 'surf' plan users (37.5 vs 31.8 respectively). \n",
    "- about 25% of the 'surf' plan users exceed their text messages allowance whereas non of the 'ultimate' users exceed theirs. "
   ]
  },
  {
   "cell_type": "markdown",
   "metadata": {},
   "source": [
    "#### Call minutes analysis"
   ]
  },
  {
   "cell_type": "code",
   "execution_count": 39,
   "metadata": {},
   "outputs": [
    {
     "output_type": "execute_result",
     "data": {
      "text/plain": [
       "          count        mean         std  min     25%    50%         75%  \\\n",
       "plan                                                                      \n",
       "surf      339.0  401.502754  204.830791  0.0  285.25  391.0  533.166667   \n",
       "ultimate  161.0  397.824227  207.838424  0.0  261.00  406.0  511.500000   \n",
       "\n",
       "                  max  \n",
       "plan                   \n",
       "surf      1104.000000  \n",
       "ultimate  1054.571429  "
      ],
      "text/html": "<div>\n<style scoped>\n    .dataframe tbody tr th:only-of-type {\n        vertical-align: middle;\n    }\n\n    .dataframe tbody tr th {\n        vertical-align: top;\n    }\n\n    .dataframe thead th {\n        text-align: right;\n    }\n</style>\n<table border=\"1\" class=\"dataframe\">\n  <thead>\n    <tr style=\"text-align: right;\">\n      <th></th>\n      <th>count</th>\n      <th>mean</th>\n      <th>std</th>\n      <th>min</th>\n      <th>25%</th>\n      <th>50%</th>\n      <th>75%</th>\n      <th>max</th>\n    </tr>\n    <tr>\n      <th>plan</th>\n      <th></th>\n      <th></th>\n      <th></th>\n      <th></th>\n      <th></th>\n      <th></th>\n      <th></th>\n      <th></th>\n    </tr>\n  </thead>\n  <tbody>\n    <tr>\n      <th>surf</th>\n      <td>339.0</td>\n      <td>401.502754</td>\n      <td>204.830791</td>\n      <td>0.0</td>\n      <td>285.25</td>\n      <td>391.0</td>\n      <td>533.166667</td>\n      <td>1104.000000</td>\n    </tr>\n    <tr>\n      <th>ultimate</th>\n      <td>161.0</td>\n      <td>397.824227</td>\n      <td>207.838424</td>\n      <td>0.0</td>\n      <td>261.00</td>\n      <td>406.0</td>\n      <td>511.500000</td>\n      <td>1054.571429</td>\n    </tr>\n  </tbody>\n</table>\n</div>"
     },
     "metadata": {},
     "execution_count": 39
    }
   ],
   "source": [
    "plan_users.groupby('plan')['minutes_per_month'].agg('describe')"
   ]
  },
  {
   "cell_type": "code",
   "execution_count": 40,
   "metadata": {},
   "outputs": [
    {
     "output_type": "display_data",
     "data": {
      "text/plain": "<Figure size 648x504 with 1 Axes>",
      "image/svg+xml": "<?xml version=\"1.0\" encoding=\"utf-8\" standalone=\"no\"?>\n<!DOCTYPE svg PUBLIC \"-//W3C//DTD SVG 1.1//EN\"\n  \"http://www.w3.org/Graphics/SVG/1.1/DTD/svg11.dtd\">\n<svg xmlns:xlink=\"http://www.w3.org/1999/xlink\" width=\"583.26375pt\" height=\"458.855391pt\" viewBox=\"0 0 583.26375 458.855391\" xmlns=\"http://www.w3.org/2000/svg\" version=\"1.1\">\n <metadata>\n  <rdf:RDF xmlns:dc=\"http://purl.org/dc/elements/1.1/\" xmlns:cc=\"http://creativecommons.org/ns#\" xmlns:rdf=\"http://www.w3.org/1999/02/22-rdf-syntax-ns#\">\n   <cc:Work>\n    <dc:type rdf:resource=\"http://purl.org/dc/dcmitype/StillImage\"/>\n    <dc:date>2022-05-07T14:17:09.848717</dc:date>\n    <dc:format>image/svg+xml</dc:format>\n    <dc:creator>\n     <cc:Agent>\n      <dc:title>Matplotlib v3.5.1, https://matplotlib.org/</dc:title>\n     </cc:Agent>\n    </dc:creator>\n   </cc:Work>\n  </rdf:RDF>\n </metadata>\n <defs>\n  <style type=\"text/css\">*{stroke-linejoin: round; stroke-linecap: butt}</style>\n </defs>\n <g id=\"figure_1\">\n  <g id=\"patch_1\">\n   <path d=\"M 0 458.855391 \nL 583.26375 458.855391 \nL 583.26375 0 \nL 0 0 \nz\n\" style=\"fill: #ffffff\"/>\n  </g>\n  <g id=\"axes_1\">\n   <g id=\"patch_2\">\n    <path d=\"M 73.86375 406.604062 \nL 576.06375 406.604062 \nL 576.06375 26.084062 \nL 73.86375 26.084062 \nz\n\" style=\"fill: #eaeaf2\"/>\n   </g>\n   <g id=\"matplotlib.axis_1\">\n    <g id=\"xtick_1\">\n     <g id=\"text_1\">\n      <!-- surf -->\n      <g style=\"fill: #262626\" transform=\"translate(185.662031 427.914453)scale(0.165 -0.165)\">\n       <defs>\n        <path id=\"ArialMT-73\" d=\"M 197 991 \nL 753 1078 \nQ 800 744 1014 566 \nQ 1228 388 1613 388 \nQ 2000 388 2187 545 \nQ 2375 703 2375 916 \nQ 2375 1106 2209 1216 \nQ 2094 1291 1634 1406 \nQ 1016 1563 777 1677 \nQ 538 1791 414 1992 \nQ 291 2194 291 2438 \nQ 291 2659 392 2848 \nQ 494 3038 669 3163 \nQ 800 3259 1026 3326 \nQ 1253 3394 1513 3394 \nQ 1903 3394 2198 3281 \nQ 2494 3169 2634 2976 \nQ 2775 2784 2828 2463 \nL 2278 2388 \nQ 2241 2644 2061 2787 \nQ 1881 2931 1553 2931 \nQ 1166 2931 1000 2803 \nQ 834 2675 834 2503 \nQ 834 2394 903 2306 \nQ 972 2216 1119 2156 \nQ 1203 2125 1616 2013 \nQ 2213 1853 2448 1751 \nQ 2684 1650 2818 1456 \nQ 2953 1263 2953 975 \nQ 2953 694 2789 445 \nQ 2625 197 2315 61 \nQ 2006 -75 1616 -75 \nQ 969 -75 630 194 \nQ 291 463 197 991 \nz\n\" transform=\"scale(0.015625)\"/>\n        <path id=\"ArialMT-75\" d=\"M 2597 0 \nL 2597 488 \nQ 2209 -75 1544 -75 \nQ 1250 -75 995 37 \nQ 741 150 617 320 \nQ 494 491 444 738 \nQ 409 903 409 1263 \nL 409 3319 \nL 972 3319 \nL 972 1478 \nQ 972 1038 1006 884 \nQ 1059 663 1231 536 \nQ 1403 409 1656 409 \nQ 1909 409 2131 539 \nQ 2353 669 2445 892 \nQ 2538 1116 2538 1541 \nL 2538 3319 \nL 3100 3319 \nL 3100 0 \nL 2597 0 \nz\n\" transform=\"scale(0.015625)\"/>\n        <path id=\"ArialMT-72\" d=\"M 416 0 \nL 416 3319 \nL 922 3319 \nL 922 2816 \nQ 1116 3169 1280 3281 \nQ 1444 3394 1641 3394 \nQ 1925 3394 2219 3213 \nL 2025 2691 \nQ 1819 2813 1613 2813 \nQ 1428 2813 1281 2702 \nQ 1134 2591 1072 2394 \nQ 978 2094 978 1738 \nL 978 0 \nL 416 0 \nz\n\" transform=\"scale(0.015625)\"/>\n        <path id=\"ArialMT-66\" d=\"M 556 0 \nL 556 2881 \nL 59 2881 \nL 59 3319 \nL 556 3319 \nL 556 3672 \nQ 556 4006 616 4169 \nQ 697 4388 901 4523 \nQ 1106 4659 1475 4659 \nQ 1713 4659 2000 4603 \nL 1916 4113 \nQ 1741 4144 1584 4144 \nQ 1328 4144 1222 4034 \nQ 1116 3925 1116 3625 \nL 1116 3319 \nL 1763 3319 \nL 1763 2881 \nL 1116 2881 \nL 1116 0 \nL 556 0 \nz\n\" transform=\"scale(0.015625)\"/>\n       </defs>\n       <use xlink:href=\"#ArialMT-73\"/>\n       <use xlink:href=\"#ArialMT-75\" x=\"50\"/>\n       <use xlink:href=\"#ArialMT-72\" x=\"105.615234\"/>\n       <use xlink:href=\"#ArialMT-66\" x=\"138.916016\"/>\n      </g>\n     </g>\n    </g>\n    <g id=\"xtick_2\">\n     <g id=\"text_2\">\n      <!-- ultimate -->\n      <g style=\"fill: #262626\" transform=\"translate(421.628438 427.914453)scale(0.165 -0.165)\">\n       <defs>\n        <path id=\"ArialMT-6c\" d=\"M 409 0 \nL 409 4581 \nL 972 4581 \nL 972 0 \nL 409 0 \nz\n\" transform=\"scale(0.015625)\"/>\n        <path id=\"ArialMT-74\" d=\"M 1650 503 \nL 1731 6 \nQ 1494 -44 1306 -44 \nQ 1000 -44 831 53 \nQ 663 150 594 308 \nQ 525 466 525 972 \nL 525 2881 \nL 113 2881 \nL 113 3319 \nL 525 3319 \nL 525 4141 \nL 1084 4478 \nL 1084 3319 \nL 1650 3319 \nL 1650 2881 \nL 1084 2881 \nL 1084 941 \nQ 1084 700 1114 631 \nQ 1144 563 1211 522 \nQ 1278 481 1403 481 \nQ 1497 481 1650 503 \nz\n\" transform=\"scale(0.015625)\"/>\n        <path id=\"ArialMT-69\" d=\"M 425 3934 \nL 425 4581 \nL 988 4581 \nL 988 3934 \nL 425 3934 \nz\nM 425 0 \nL 425 3319 \nL 988 3319 \nL 988 0 \nL 425 0 \nz\n\" transform=\"scale(0.015625)\"/>\n        <path id=\"ArialMT-6d\" d=\"M 422 0 \nL 422 3319 \nL 925 3319 \nL 925 2853 \nQ 1081 3097 1340 3245 \nQ 1600 3394 1931 3394 \nQ 2300 3394 2536 3241 \nQ 2772 3088 2869 2813 \nQ 3263 3394 3894 3394 \nQ 4388 3394 4653 3120 \nQ 4919 2847 4919 2278 \nL 4919 0 \nL 4359 0 \nL 4359 2091 \nQ 4359 2428 4304 2576 \nQ 4250 2725 4106 2815 \nQ 3963 2906 3769 2906 \nQ 3419 2906 3187 2673 \nQ 2956 2441 2956 1928 \nL 2956 0 \nL 2394 0 \nL 2394 2156 \nQ 2394 2531 2256 2718 \nQ 2119 2906 1806 2906 \nQ 1569 2906 1367 2781 \nQ 1166 2656 1075 2415 \nQ 984 2175 984 1722 \nL 984 0 \nL 422 0 \nz\n\" transform=\"scale(0.015625)\"/>\n        <path id=\"ArialMT-61\" d=\"M 2588 409 \nQ 2275 144 1986 34 \nQ 1697 -75 1366 -75 \nQ 819 -75 525 192 \nQ 231 459 231 875 \nQ 231 1119 342 1320 \nQ 453 1522 633 1644 \nQ 813 1766 1038 1828 \nQ 1203 1872 1538 1913 \nQ 2219 1994 2541 2106 \nQ 2544 2222 2544 2253 \nQ 2544 2597 2384 2738 \nQ 2169 2928 1744 2928 \nQ 1347 2928 1158 2789 \nQ 969 2650 878 2297 \nL 328 2372 \nQ 403 2725 575 2942 \nQ 747 3159 1072 3276 \nQ 1397 3394 1825 3394 \nQ 2250 3394 2515 3294 \nQ 2781 3194 2906 3042 \nQ 3031 2891 3081 2659 \nQ 3109 2516 3109 2141 \nL 3109 1391 \nQ 3109 606 3145 398 \nQ 3181 191 3288 0 \nL 2700 0 \nQ 2613 175 2588 409 \nz\nM 2541 1666 \nQ 2234 1541 1622 1453 \nQ 1275 1403 1131 1340 \nQ 988 1278 909 1158 \nQ 831 1038 831 891 \nQ 831 666 1001 516 \nQ 1172 366 1500 366 \nQ 1825 366 2078 508 \nQ 2331 650 2450 897 \nQ 2541 1088 2541 1459 \nL 2541 1666 \nz\n\" transform=\"scale(0.015625)\"/>\n        <path id=\"ArialMT-65\" d=\"M 2694 1069 \nL 3275 997 \nQ 3138 488 2766 206 \nQ 2394 -75 1816 -75 \nQ 1088 -75 661 373 \nQ 234 822 234 1631 \nQ 234 2469 665 2931 \nQ 1097 3394 1784 3394 \nQ 2450 3394 2872 2941 \nQ 3294 2488 3294 1666 \nQ 3294 1616 3291 1516 \nL 816 1516 \nQ 847 969 1125 678 \nQ 1403 388 1819 388 \nQ 2128 388 2347 550 \nQ 2566 713 2694 1069 \nz\nM 847 1978 \nL 2700 1978 \nQ 2663 2397 2488 2606 \nQ 2219 2931 1791 2931 \nQ 1403 2931 1139 2672 \nQ 875 2413 847 1978 \nz\n\" transform=\"scale(0.015625)\"/>\n       </defs>\n       <use xlink:href=\"#ArialMT-75\"/>\n       <use xlink:href=\"#ArialMT-6c\" x=\"55.615234\"/>\n       <use xlink:href=\"#ArialMT-74\" x=\"77.832031\"/>\n       <use xlink:href=\"#ArialMT-69\" x=\"105.615234\"/>\n       <use xlink:href=\"#ArialMT-6d\" x=\"127.832031\"/>\n       <use xlink:href=\"#ArialMT-61\" x=\"211.132812\"/>\n       <use xlink:href=\"#ArialMT-74\" x=\"266.748047\"/>\n       <use xlink:href=\"#ArialMT-65\" x=\"294.53125\"/>\n      </g>\n     </g>\n    </g>\n    <g id=\"text_3\">\n     <!-- plan -->\n     <g style=\"fill: #262626\" transform=\"translate(307.949531 448.077891)scale(0.18 -0.18)\">\n      <defs>\n       <path id=\"ArialMT-70\" d=\"M 422 -1272 \nL 422 3319 \nL 934 3319 \nL 934 2888 \nQ 1116 3141 1344 3267 \nQ 1572 3394 1897 3394 \nQ 2322 3394 2647 3175 \nQ 2972 2956 3137 2557 \nQ 3303 2159 3303 1684 \nQ 3303 1175 3120 767 \nQ 2938 359 2589 142 \nQ 2241 -75 1856 -75 \nQ 1575 -75 1351 44 \nQ 1128 163 984 344 \nL 984 -1272 \nL 422 -1272 \nz\nM 931 1641 \nQ 931 1000 1190 694 \nQ 1450 388 1819 388 \nQ 2194 388 2461 705 \nQ 2728 1022 2728 1688 \nQ 2728 2322 2467 2637 \nQ 2206 2953 1844 2953 \nQ 1484 2953 1207 2617 \nQ 931 2281 931 1641 \nz\n\" transform=\"scale(0.015625)\"/>\n       <path id=\"ArialMT-6e\" d=\"M 422 0 \nL 422 3319 \nL 928 3319 \nL 928 2847 \nQ 1294 3394 1984 3394 \nQ 2284 3394 2536 3286 \nQ 2788 3178 2913 3003 \nQ 3038 2828 3088 2588 \nQ 3119 2431 3119 2041 \nL 3119 0 \nL 2556 0 \nL 2556 2019 \nQ 2556 2363 2490 2533 \nQ 2425 2703 2258 2804 \nQ 2091 2906 1866 2906 \nQ 1506 2906 1245 2678 \nQ 984 2450 984 1813 \nL 984 0 \nL 422 0 \nz\n\" transform=\"scale(0.015625)\"/>\n      </defs>\n      <use xlink:href=\"#ArialMT-70\"/>\n      <use xlink:href=\"#ArialMT-6c\" x=\"55.615234\"/>\n      <use xlink:href=\"#ArialMT-61\" x=\"77.832031\"/>\n      <use xlink:href=\"#ArialMT-6e\" x=\"133.447266\"/>\n     </g>\n    </g>\n   </g>\n   <g id=\"matplotlib.axis_2\">\n    <g id=\"ytick_1\">\n     <g id=\"line2d_1\">\n      <path d=\"M 73.86375 389.307699 \nL 576.06375 389.307699 \n\" clip-path=\"url(#p46347fb4af)\" style=\"fill: none; stroke: #ffffff; stroke-linecap: round\"/>\n     </g>\n     <g id=\"text_4\">\n      <!-- 0 -->\n      <g style=\"fill: #262626\" transform=\"translate(55.188203 395.212894)scale(0.165 -0.165)\">\n       <defs>\n        <path id=\"ArialMT-30\" d=\"M 266 2259 \nQ 266 3072 433 3567 \nQ 600 4063 929 4331 \nQ 1259 4600 1759 4600 \nQ 2128 4600 2406 4451 \nQ 2684 4303 2865 4023 \nQ 3047 3744 3150 3342 \nQ 3253 2941 3253 2259 \nQ 3253 1453 3087 958 \nQ 2922 463 2592 192 \nQ 2263 -78 1759 -78 \nQ 1097 -78 719 397 \nQ 266 969 266 2259 \nz\nM 844 2259 \nQ 844 1131 1108 757 \nQ 1372 384 1759 384 \nQ 2147 384 2411 759 \nQ 2675 1134 2675 2259 \nQ 2675 3391 2411 3762 \nQ 2147 4134 1753 4134 \nQ 1366 4134 1134 3806 \nQ 844 3388 844 2259 \nz\n\" transform=\"scale(0.015625)\"/>\n       </defs>\n       <use xlink:href=\"#ArialMT-30\"/>\n      </g>\n     </g>\n    </g>\n    <g id=\"ytick_2\">\n     <g id=\"line2d_2\">\n      <path d=\"M 73.86375 326.639715 \nL 576.06375 326.639715 \n\" clip-path=\"url(#p46347fb4af)\" style=\"fill: none; stroke: #ffffff; stroke-linecap: round\"/>\n     </g>\n     <g id=\"text_5\">\n      <!-- 200 -->\n      <g style=\"fill: #262626\" transform=\"translate(36.837109 332.54491)scale(0.165 -0.165)\">\n       <defs>\n        <path id=\"ArialMT-32\" d=\"M 3222 541 \nL 3222 0 \nL 194 0 \nQ 188 203 259 391 \nQ 375 700 629 1000 \nQ 884 1300 1366 1694 \nQ 2113 2306 2375 2664 \nQ 2638 3022 2638 3341 \nQ 2638 3675 2398 3904 \nQ 2159 4134 1775 4134 \nQ 1369 4134 1125 3890 \nQ 881 3647 878 3216 \nL 300 3275 \nQ 359 3922 746 4261 \nQ 1134 4600 1788 4600 \nQ 2447 4600 2831 4234 \nQ 3216 3869 3216 3328 \nQ 3216 3053 3103 2787 \nQ 2991 2522 2730 2228 \nQ 2469 1934 1863 1422 \nQ 1356 997 1212 845 \nQ 1069 694 975 541 \nL 3222 541 \nz\n\" transform=\"scale(0.015625)\"/>\n       </defs>\n       <use xlink:href=\"#ArialMT-32\"/>\n       <use xlink:href=\"#ArialMT-30\" x=\"55.615234\"/>\n       <use xlink:href=\"#ArialMT-30\" x=\"111.230469\"/>\n      </g>\n     </g>\n    </g>\n    <g id=\"ytick_3\">\n     <g id=\"line2d_3\">\n      <path d=\"M 73.86375 263.97173 \nL 576.06375 263.97173 \n\" clip-path=\"url(#p46347fb4af)\" style=\"fill: none; stroke: #ffffff; stroke-linecap: round\"/>\n     </g>\n     <g id=\"text_6\">\n      <!-- 400 -->\n      <g style=\"fill: #262626\" transform=\"translate(36.837109 269.876926)scale(0.165 -0.165)\">\n       <defs>\n        <path id=\"ArialMT-34\" d=\"M 2069 0 \nL 2069 1097 \nL 81 1097 \nL 81 1613 \nL 2172 4581 \nL 2631 4581 \nL 2631 1613 \nL 3250 1613 \nL 3250 1097 \nL 2631 1097 \nL 2631 0 \nL 2069 0 \nz\nM 2069 1613 \nL 2069 3678 \nL 634 1613 \nL 2069 1613 \nz\n\" transform=\"scale(0.015625)\"/>\n       </defs>\n       <use xlink:href=\"#ArialMT-34\"/>\n       <use xlink:href=\"#ArialMT-30\" x=\"55.615234\"/>\n       <use xlink:href=\"#ArialMT-30\" x=\"111.230469\"/>\n      </g>\n     </g>\n    </g>\n    <g id=\"ytick_4\">\n     <g id=\"line2d_4\">\n      <path d=\"M 73.86375 201.303746 \nL 576.06375 201.303746 \n\" clip-path=\"url(#p46347fb4af)\" style=\"fill: none; stroke: #ffffff; stroke-linecap: round\"/>\n     </g>\n     <g id=\"text_7\">\n      <!-- 600 -->\n      <g style=\"fill: #262626\" transform=\"translate(36.837109 207.208942)scale(0.165 -0.165)\">\n       <defs>\n        <path id=\"ArialMT-36\" d=\"M 3184 3459 \nL 2625 3416 \nQ 2550 3747 2413 3897 \nQ 2184 4138 1850 4138 \nQ 1581 4138 1378 3988 \nQ 1113 3794 959 3422 \nQ 806 3050 800 2363 \nQ 1003 2672 1297 2822 \nQ 1591 2972 1913 2972 \nQ 2475 2972 2870 2558 \nQ 3266 2144 3266 1488 \nQ 3266 1056 3080 686 \nQ 2894 316 2569 119 \nQ 2244 -78 1831 -78 \nQ 1128 -78 684 439 \nQ 241 956 241 2144 \nQ 241 3472 731 4075 \nQ 1159 4600 1884 4600 \nQ 2425 4600 2770 4297 \nQ 3116 3994 3184 3459 \nz\nM 888 1484 \nQ 888 1194 1011 928 \nQ 1134 663 1356 523 \nQ 1578 384 1822 384 \nQ 2178 384 2434 671 \nQ 2691 959 2691 1453 \nQ 2691 1928 2437 2201 \nQ 2184 2475 1800 2475 \nQ 1419 2475 1153 2201 \nQ 888 1928 888 1484 \nz\n\" transform=\"scale(0.015625)\"/>\n       </defs>\n       <use xlink:href=\"#ArialMT-36\"/>\n       <use xlink:href=\"#ArialMT-30\" x=\"55.615234\"/>\n       <use xlink:href=\"#ArialMT-30\" x=\"111.230469\"/>\n      </g>\n     </g>\n    </g>\n    <g id=\"ytick_5\">\n     <g id=\"line2d_5\">\n      <path d=\"M 73.86375 138.635762 \nL 576.06375 138.635762 \n\" clip-path=\"url(#p46347fb4af)\" style=\"fill: none; stroke: #ffffff; stroke-linecap: round\"/>\n     </g>\n     <g id=\"text_8\">\n      <!-- 800 -->\n      <g style=\"fill: #262626\" transform=\"translate(36.837109 144.540957)scale(0.165 -0.165)\">\n       <defs>\n        <path id=\"ArialMT-38\" d=\"M 1131 2484 \nQ 781 2613 612 2850 \nQ 444 3088 444 3419 \nQ 444 3919 803 4259 \nQ 1163 4600 1759 4600 \nQ 2359 4600 2725 4251 \nQ 3091 3903 3091 3403 \nQ 3091 3084 2923 2848 \nQ 2756 2613 2416 2484 \nQ 2838 2347 3058 2040 \nQ 3278 1734 3278 1309 \nQ 3278 722 2862 322 \nQ 2447 -78 1769 -78 \nQ 1091 -78 675 323 \nQ 259 725 259 1325 \nQ 259 1772 486 2073 \nQ 713 2375 1131 2484 \nz\nM 1019 3438 \nQ 1019 3113 1228 2906 \nQ 1438 2700 1772 2700 \nQ 2097 2700 2305 2904 \nQ 2513 3109 2513 3406 \nQ 2513 3716 2298 3927 \nQ 2084 4138 1766 4138 \nQ 1444 4138 1231 3931 \nQ 1019 3725 1019 3438 \nz\nM 838 1322 \nQ 838 1081 952 856 \nQ 1066 631 1291 507 \nQ 1516 384 1775 384 \nQ 2178 384 2440 643 \nQ 2703 903 2703 1303 \nQ 2703 1709 2433 1975 \nQ 2163 2241 1756 2241 \nQ 1359 2241 1098 1978 \nQ 838 1716 838 1322 \nz\n\" transform=\"scale(0.015625)\"/>\n       </defs>\n       <use xlink:href=\"#ArialMT-38\"/>\n       <use xlink:href=\"#ArialMT-30\" x=\"55.615234\"/>\n       <use xlink:href=\"#ArialMT-30\" x=\"111.230469\"/>\n      </g>\n     </g>\n    </g>\n    <g id=\"ytick_6\">\n     <g id=\"line2d_6\">\n      <path d=\"M 73.86375 75.967778 \nL 576.06375 75.967778 \n\" clip-path=\"url(#p46347fb4af)\" style=\"fill: none; stroke: #ffffff; stroke-linecap: round\"/>\n     </g>\n     <g id=\"text_9\">\n      <!-- 1000 -->\n      <g style=\"fill: #262626\" transform=\"translate(27.661563 81.872973)scale(0.165 -0.165)\">\n       <defs>\n        <path id=\"ArialMT-31\" d=\"M 2384 0 \nL 1822 0 \nL 1822 3584 \nQ 1619 3391 1289 3197 \nQ 959 3003 697 2906 \nL 697 3450 \nQ 1169 3672 1522 3987 \nQ 1875 4303 2022 4600 \nL 2384 4600 \nL 2384 0 \nz\n\" transform=\"scale(0.015625)\"/>\n       </defs>\n       <use xlink:href=\"#ArialMT-31\"/>\n       <use xlink:href=\"#ArialMT-30\" x=\"55.615234\"/>\n       <use xlink:href=\"#ArialMT-30\" x=\"111.230469\"/>\n       <use xlink:href=\"#ArialMT-30\" x=\"166.845703\"/>\n      </g>\n     </g>\n    </g>\n    <g id=\"text_10\">\n     <!-- minutes_per_month -->\n     <g style=\"fill: #262626\" transform=\"translate(20.084063 295.882969)rotate(-90)scale(0.18 -0.18)\">\n      <defs>\n       <path id=\"ArialMT-5f\" d=\"M -97 -1272 \nL -97 -866 \nL 3631 -866 \nL 3631 -1272 \nL -97 -1272 \nz\n\" transform=\"scale(0.015625)\"/>\n       <path id=\"ArialMT-6f\" d=\"M 213 1659 \nQ 213 2581 725 3025 \nQ 1153 3394 1769 3394 \nQ 2453 3394 2887 2945 \nQ 3322 2497 3322 1706 \nQ 3322 1066 3130 698 \nQ 2938 331 2570 128 \nQ 2203 -75 1769 -75 \nQ 1072 -75 642 372 \nQ 213 819 213 1659 \nz\nM 791 1659 \nQ 791 1022 1069 705 \nQ 1347 388 1769 388 \nQ 2188 388 2466 706 \nQ 2744 1025 2744 1678 \nQ 2744 2294 2464 2611 \nQ 2184 2928 1769 2928 \nQ 1347 2928 1069 2612 \nQ 791 2297 791 1659 \nz\n\" transform=\"scale(0.015625)\"/>\n       <path id=\"ArialMT-68\" d=\"M 422 0 \nL 422 4581 \nL 984 4581 \nL 984 2938 \nQ 1378 3394 1978 3394 \nQ 2347 3394 2619 3248 \nQ 2891 3103 3008 2847 \nQ 3125 2591 3125 2103 \nL 3125 0 \nL 2563 0 \nL 2563 2103 \nQ 2563 2525 2380 2717 \nQ 2197 2909 1863 2909 \nQ 1613 2909 1392 2779 \nQ 1172 2650 1078 2428 \nQ 984 2206 984 1816 \nL 984 0 \nL 422 0 \nz\n\" transform=\"scale(0.015625)\"/>\n      </defs>\n      <use xlink:href=\"#ArialMT-6d\"/>\n      <use xlink:href=\"#ArialMT-69\" x=\"83.300781\"/>\n      <use xlink:href=\"#ArialMT-6e\" x=\"105.517578\"/>\n      <use xlink:href=\"#ArialMT-75\" x=\"161.132812\"/>\n      <use xlink:href=\"#ArialMT-74\" x=\"216.748047\"/>\n      <use xlink:href=\"#ArialMT-65\" x=\"244.53125\"/>\n      <use xlink:href=\"#ArialMT-73\" x=\"300.146484\"/>\n      <use xlink:href=\"#ArialMT-5f\" x=\"350.146484\"/>\n      <use xlink:href=\"#ArialMT-70\" x=\"405.761719\"/>\n      <use xlink:href=\"#ArialMT-65\" x=\"461.376953\"/>\n      <use xlink:href=\"#ArialMT-72\" x=\"516.992188\"/>\n      <use xlink:href=\"#ArialMT-5f\" x=\"550.292969\"/>\n      <use xlink:href=\"#ArialMT-6d\" x=\"605.908203\"/>\n      <use xlink:href=\"#ArialMT-6f\" x=\"689.208984\"/>\n      <use xlink:href=\"#ArialMT-6e\" x=\"744.824219\"/>\n      <use xlink:href=\"#ArialMT-74\" x=\"800.439453\"/>\n      <use xlink:href=\"#ArialMT-68\" x=\"828.222656\"/>\n     </g>\n    </g>\n   </g>\n   <g id=\"patch_3\">\n    <path d=\"M 98.97375 299.927486 \nL 299.85375 299.927486 \nL 299.85375 222.245298 \nL 98.97375 222.245298 \nL 98.97375 299.927486 \nz\n\" clip-path=\"url(#p46347fb4af)\" style=\"fill: #5875a4; stroke: #4c4c4c; stroke-width: 1.5; stroke-linejoin: miter\"/>\n   </g>\n   <g id=\"patch_4\">\n    <path d=\"M 350.07375 307.525979 \nL 550.95375 307.525979 \nL 550.95375 229.034329 \nL 350.07375 229.034329 \nL 350.07375 307.525979 \nz\n\" clip-path=\"url(#p46347fb4af)\" style=\"fill: #cc8963; stroke: #4c4c4c; stroke-width: 1.5; stroke-linejoin: miter\"/>\n   </g>\n   <g id=\"line2d_7\">\n    <path d=\"M 199.41375 299.927486 \nL 199.41375 389.307699 \n\" clip-path=\"url(#p46347fb4af)\" style=\"fill: none; stroke: #4c4c4c; stroke-width: 1.5; stroke-linecap: round\"/>\n   </g>\n   <g id=\"line2d_8\">\n    <path d=\"M 199.41375 222.245298 \nL 199.41375 110.487393 \n\" clip-path=\"url(#p46347fb4af)\" style=\"fill: none; stroke: #4c4c4c; stroke-width: 1.5; stroke-linecap: round\"/>\n   </g>\n   <g id=\"line2d_9\">\n    <path d=\"M 149.19375 389.307699 \nL 249.63375 389.307699 \n\" clip-path=\"url(#p46347fb4af)\" style=\"fill: none; stroke: #4c4c4c; stroke-width: 1.5; stroke-linecap: round\"/>\n   </g>\n   <g id=\"line2d_10\">\n    <path d=\"M 149.19375 110.487393 \nL 249.63375 110.487393 \n\" clip-path=\"url(#p46347fb4af)\" style=\"fill: none; stroke: #4c4c4c; stroke-width: 1.5; stroke-linecap: round\"/>\n   </g>\n   <g id=\"line2d_11\">\n    <defs>\n     <path id=\"m5194e59c63\" d=\"M 0 3.535534 \nL 2.12132 0 \nL 0 -3.535534 \nL -2.12132 0 \nz\n\" style=\"stroke: #4c4c4c; stroke-linejoin: miter\"/>\n    </defs>\n    <g clip-path=\"url(#p46347fb4af)\">\n     <use xlink:href=\"#m5194e59c63\" x=\"199.41375\" y=\"43.380426\" style=\"fill: #4c4c4c; stroke: #4c4c4c; stroke-linejoin: miter\"/>\n     <use xlink:href=\"#m5194e59c63\" x=\"199.41375\" y=\"104.481711\" style=\"fill: #4c4c4c; stroke: #4c4c4c; stroke-linejoin: miter\"/>\n     <use xlink:href=\"#m5194e59c63\" x=\"199.41375\" y=\"76.012541\" style=\"fill: #4c4c4c; stroke: #4c4c4c; stroke-linejoin: miter\"/>\n     <use xlink:href=\"#m5194e59c63\" x=\"199.41375\" y=\"58.734082\" style=\"fill: #4c4c4c; stroke: #4c4c4c; stroke-linejoin: miter\"/>\n     <use xlink:href=\"#m5194e59c63\" x=\"199.41375\" y=\"63.299893\" style=\"fill: #4c4c4c; stroke: #4c4c4c; stroke-linejoin: miter\"/>\n    </g>\n   </g>\n   <g id=\"line2d_12\">\n    <path d=\"M 450.51375 307.525979 \nL 450.51375 389.307699 \n\" clip-path=\"url(#p46347fb4af)\" style=\"fill: none; stroke: #4c4c4c; stroke-width: 1.5; stroke-linecap: round\"/>\n   </g>\n   <g id=\"line2d_13\">\n    <path d=\"M 450.51375 229.034329 \nL 450.51375 113.926671 \n\" clip-path=\"url(#p46347fb4af)\" style=\"fill: none; stroke: #4c4c4c; stroke-width: 1.5; stroke-linecap: round\"/>\n   </g>\n   <g id=\"line2d_14\">\n    <path d=\"M 400.29375 389.307699 \nL 500.73375 389.307699 \n\" clip-path=\"url(#p46347fb4af)\" style=\"fill: none; stroke: #4c4c4c; stroke-width: 1.5; stroke-linecap: round\"/>\n   </g>\n   <g id=\"line2d_15\">\n    <path d=\"M 400.29375 113.926671 \nL 500.73375 113.926671 \n\" clip-path=\"url(#p46347fb4af)\" style=\"fill: none; stroke: #4c4c4c; stroke-width: 1.5; stroke-linecap: round\"/>\n   </g>\n   <g id=\"line2d_16\">\n    <g clip-path=\"url(#p46347fb4af)\">\n     <use xlink:href=\"#m5194e59c63\" x=\"450.51375\" y=\"66.316908\" style=\"fill: #4c4c4c; stroke: #4c4c4c; stroke-linejoin: miter\"/>\n     <use xlink:href=\"#m5194e59c63\" x=\"450.51375\" y=\"58.868371\" style=\"fill: #4c4c4c; stroke: #4c4c4c; stroke-linejoin: miter\"/>\n     <use xlink:href=\"#m5194e59c63\" x=\"450.51375\" y=\"92.574794\" style=\"fill: #4c4c4c; stroke: #4c4c4c; stroke-linejoin: miter\"/>\n    </g>\n   </g>\n   <g id=\"line2d_17\">\n    <path d=\"M 98.97375 266.79179 \nL 299.85375 266.79179 \n\" clip-path=\"url(#p46347fb4af)\" style=\"fill: none; stroke: #4c4c4c; stroke-width: 1.5; stroke-linecap: round\"/>\n   </g>\n   <g id=\"line2d_18\">\n    <path d=\"M 350.07375 262.091691 \nL 550.95375 262.091691 \n\" clip-path=\"url(#p46347fb4af)\" style=\"fill: none; stroke: #4c4c4c; stroke-width: 1.5; stroke-linecap: round\"/>\n   </g>\n   <g id=\"patch_5\">\n    <path d=\"M 73.86375 406.604062 \nL 73.86375 26.084062 \n\" style=\"fill: none; stroke: #ffffff; stroke-width: 1.25; stroke-linejoin: miter; stroke-linecap: square\"/>\n   </g>\n   <g id=\"patch_6\">\n    <path d=\"M 576.06375 406.604062 \nL 576.06375 26.084062 \n\" style=\"fill: none; stroke: #ffffff; stroke-width: 1.25; stroke-linejoin: miter; stroke-linecap: square\"/>\n   </g>\n   <g id=\"patch_7\">\n    <path d=\"M 73.86375 406.604062 \nL 576.06375 406.604062 \n\" style=\"fill: none; stroke: #ffffff; stroke-width: 1.25; stroke-linejoin: miter; stroke-linecap: square\"/>\n   </g>\n   <g id=\"patch_8\">\n    <path d=\"M 73.86375 26.084062 \nL 576.06375 26.084062 \n\" style=\"fill: none; stroke: #ffffff; stroke-width: 1.25; stroke-linejoin: miter; stroke-linecap: square\"/>\n   </g>\n   <g id=\"text_11\">\n    <!-- Monthly call minutes -->\n    <g style=\"fill: #262626\" transform=\"translate(243.436406 20.084062)scale(0.18 -0.18)\">\n     <defs>\n      <path id=\"ArialMT-4d\" d=\"M 475 0 \nL 475 4581 \nL 1388 4581 \nL 2472 1338 \nQ 2622 884 2691 659 \nQ 2769 909 2934 1394 \nL 4031 4581 \nL 4847 4581 \nL 4847 0 \nL 4263 0 \nL 4263 3834 \nL 2931 0 \nL 2384 0 \nL 1059 3900 \nL 1059 0 \nL 475 0 \nz\n\" transform=\"scale(0.015625)\"/>\n      <path id=\"ArialMT-79\" d=\"M 397 -1278 \nL 334 -750 \nQ 519 -800 656 -800 \nQ 844 -800 956 -737 \nQ 1069 -675 1141 -563 \nQ 1194 -478 1313 -144 \nQ 1328 -97 1363 -6 \nL 103 3319 \nL 709 3319 \nL 1400 1397 \nQ 1534 1031 1641 628 \nQ 1738 1016 1872 1384 \nL 2581 3319 \nL 3144 3319 \nL 1881 -56 \nQ 1678 -603 1566 -809 \nQ 1416 -1088 1222 -1217 \nQ 1028 -1347 759 -1347 \nQ 597 -1347 397 -1278 \nz\n\" transform=\"scale(0.015625)\"/>\n      <path id=\"ArialMT-20\" transform=\"scale(0.015625)\"/>\n      <path id=\"ArialMT-63\" d=\"M 2588 1216 \nL 3141 1144 \nQ 3050 572 2676 248 \nQ 2303 -75 1759 -75 \nQ 1078 -75 664 370 \nQ 250 816 250 1647 \nQ 250 2184 428 2587 \nQ 606 2991 970 3192 \nQ 1334 3394 1763 3394 \nQ 2303 3394 2647 3120 \nQ 2991 2847 3088 2344 \nL 2541 2259 \nQ 2463 2594 2264 2762 \nQ 2066 2931 1784 2931 \nQ 1359 2931 1093 2626 \nQ 828 2322 828 1663 \nQ 828 994 1084 691 \nQ 1341 388 1753 388 \nQ 2084 388 2306 591 \nQ 2528 794 2588 1216 \nz\n\" transform=\"scale(0.015625)\"/>\n     </defs>\n     <use xlink:href=\"#ArialMT-4d\"/>\n     <use xlink:href=\"#ArialMT-6f\" x=\"83.300781\"/>\n     <use xlink:href=\"#ArialMT-6e\" x=\"138.916016\"/>\n     <use xlink:href=\"#ArialMT-74\" x=\"194.53125\"/>\n     <use xlink:href=\"#ArialMT-68\" x=\"222.314453\"/>\n     <use xlink:href=\"#ArialMT-6c\" x=\"277.929688\"/>\n     <use xlink:href=\"#ArialMT-79\" x=\"300.146484\"/>\n     <use xlink:href=\"#ArialMT-20\" x=\"350.146484\"/>\n     <use xlink:href=\"#ArialMT-63\" x=\"377.929688\"/>\n     <use xlink:href=\"#ArialMT-61\" x=\"427.929688\"/>\n     <use xlink:href=\"#ArialMT-6c\" x=\"483.544922\"/>\n     <use xlink:href=\"#ArialMT-6c\" x=\"505.761719\"/>\n     <use xlink:href=\"#ArialMT-20\" x=\"527.978516\"/>\n     <use xlink:href=\"#ArialMT-6d\" x=\"555.761719\"/>\n     <use xlink:href=\"#ArialMT-69\" x=\"639.0625\"/>\n     <use xlink:href=\"#ArialMT-6e\" x=\"661.279297\"/>\n     <use xlink:href=\"#ArialMT-75\" x=\"716.894531\"/>\n     <use xlink:href=\"#ArialMT-74\" x=\"772.509766\"/>\n     <use xlink:href=\"#ArialMT-65\" x=\"800.292969\"/>\n     <use xlink:href=\"#ArialMT-73\" x=\"855.908203\"/>\n    </g>\n   </g>\n  </g>\n </g>\n <defs>\n  <clipPath id=\"p46347fb4af\">\n   <rect x=\"73.86375\" y=\"26.084062\" width=\"502.2\" height=\"380.52\"/>\n  </clipPath>\n </defs>\n</svg>\n",
      "image/png": "[encoded data removed]"
     },
     "metadata": {}
    }
   ],
   "source": [
    "sns.set(rc={'figure.figsize':(9,7)})\n",
    "sns.set(font_scale=1.5)\n",
    "sns.boxplot(data=plan_users,x='plan' , y='minutes_per_month').set(title='Monthly call minutes')\n",
    "plt.show()"
   ]
  },
  {
   "cell_type": "markdown",
   "metadata": {},
   "source": [
    "- The mean monthly call minutes of the 'ultimate' plan users is slightly higher than that of the 'surf' plan users (401.5 vs 397.8 respectively). \n",
    "- at least 25% of the 'surf' plan users exceed their call minutes allowance whereas non of the 'ultimate' users exceed theirs. "
   ]
  },
  {
   "cell_type": "markdown",
   "metadata": {},
   "source": [
    "### Mean monthly revenue per plan"
   ]
  },
  {
   "cell_type": "code",
   "execution_count": 41,
   "metadata": {},
   "outputs": [
    {
     "output_type": "execute_result",
     "data": {
      "text/plain": [
       "          count       mean        std   min        25%    50%   75%  \\\n",
       "plan                                                                  \n",
       "surf      339.0  55.768598  42.692637  20.0  24.365079  43.52  70.0   \n",
       "ultimate  161.0  71.777985   7.336894  70.0  70.000000  70.00  70.0   \n",
       "\n",
       "                 max  \n",
       "plan                  \n",
       "surf      311.140000  \n",
       "ultimate  121.333333  "
      ],
      "text/html": "<div>\n<style scoped>\n    .dataframe tbody tr th:only-of-type {\n        vertical-align: middle;\n    }\n\n    .dataframe tbody tr th {\n        vertical-align: top;\n    }\n\n    .dataframe thead th {\n        text-align: right;\n    }\n</style>\n<table border=\"1\" class=\"dataframe\">\n  <thead>\n    <tr style=\"text-align: right;\">\n      <th></th>\n      <th>count</th>\n      <th>mean</th>\n      <th>std</th>\n      <th>min</th>\n      <th>25%</th>\n      <th>50%</th>\n      <th>75%</th>\n      <th>max</th>\n    </tr>\n    <tr>\n      <th>plan</th>\n      <th></th>\n      <th></th>\n      <th></th>\n      <th></th>\n      <th></th>\n      <th></th>\n      <th></th>\n      <th></th>\n    </tr>\n  </thead>\n  <tbody>\n    <tr>\n      <th>surf</th>\n      <td>339.0</td>\n      <td>55.768598</td>\n      <td>42.692637</td>\n      <td>20.0</td>\n      <td>24.365079</td>\n      <td>43.52</td>\n      <td>70.0</td>\n      <td>311.140000</td>\n    </tr>\n    <tr>\n      <th>ultimate</th>\n      <td>161.0</td>\n      <td>71.777985</td>\n      <td>7.336894</td>\n      <td>70.0</td>\n      <td>70.000000</td>\n      <td>70.00</td>\n      <td>70.0</td>\n      <td>121.333333</td>\n    </tr>\n  </tbody>\n</table>\n</div>"
     },
     "metadata": {},
     "execution_count": 41
    }
   ],
   "source": [
    "plan_users.groupby('plan')['mean_monthly_revenue'].agg('describe')"
   ]
  },
  {
   "cell_type": "code",
   "execution_count": 42,
   "metadata": {},
   "outputs": [
    {
     "output_type": "display_data",
     "data": {
      "text/plain": "<Figure size 648x504 with 1 Axes>",
      "image/svg+xml": "<?xml version=\"1.0\" encoding=\"utf-8\" standalone=\"no\"?>\n<!DOCTYPE svg PUBLIC \"-//W3C//DTD SVG 1.1//EN\"\n  \"http://www.w3.org/Graphics/SVG/1.1/DTD/svg11.dtd\">\n<svg xmlns:xlink=\"http://www.w3.org/1999/xlink\" width=\"574.299141pt\" height=\"458.855391pt\" viewBox=\"0 0 574.299141 458.855391\" xmlns=\"http://www.w3.org/2000/svg\" version=\"1.1\">\n <metadata>\n  <rdf:RDF xmlns:dc=\"http://purl.org/dc/elements/1.1/\" xmlns:cc=\"http://creativecommons.org/ns#\" xmlns:rdf=\"http://www.w3.org/1999/02/22-rdf-syntax-ns#\">\n   <cc:Work>\n    <dc:type rdf:resource=\"http://purl.org/dc/dcmitype/StillImage\"/>\n    <dc:date>2022-05-07T14:17:10.133118</dc:date>\n    <dc:format>image/svg+xml</dc:format>\n    <dc:creator>\n     <cc:Agent>\n      <dc:title>Matplotlib v3.5.1, https://matplotlib.org/</dc:title>\n     </cc:Agent>\n    </dc:creator>\n   </cc:Work>\n  </rdf:RDF>\n </metadata>\n <defs>\n  <style type=\"text/css\">*{stroke-linejoin: round; stroke-linecap: butt}</style>\n </defs>\n <g id=\"figure_1\">\n  <g id=\"patch_1\">\n   <path d=\"M 0 458.855391 \nL 574.299141 458.855391 \nL 574.299141 0 \nL 0 0 \nz\n\" style=\"fill: #ffffff\"/>\n  </g>\n  <g id=\"axes_1\">\n   <g id=\"patch_2\">\n    <path d=\"M 64.899141 406.604062 \nL 567.099141 406.604062 \nL 567.099141 26.084062 \nL 64.899141 26.084062 \nz\n\" style=\"fill: #eaeaf2\"/>\n   </g>\n   <g id=\"matplotlib.axis_1\">\n    <g id=\"xtick_1\">\n     <g id=\"text_1\">\n      <!-- surf -->\n      <g style=\"fill: #262626\" transform=\"translate(176.697422 427.914453)scale(0.165 -0.165)\">\n       <defs>\n        <path id=\"ArialMT-73\" d=\"M 197 991 \nL 753 1078 \nQ 800 744 1014 566 \nQ 1228 388 1613 388 \nQ 2000 388 2187 545 \nQ 2375 703 2375 916 \nQ 2375 1106 2209 1216 \nQ 2094 1291 1634 1406 \nQ 1016 1563 777 1677 \nQ 538 1791 414 1992 \nQ 291 2194 291 2438 \nQ 291 2659 392 2848 \nQ 494 3038 669 3163 \nQ 800 3259 1026 3326 \nQ 1253 3394 1513 3394 \nQ 1903 3394 2198 3281 \nQ 2494 3169 2634 2976 \nQ 2775 2784 2828 2463 \nL 2278 2388 \nQ 2241 2644 2061 2787 \nQ 1881 2931 1553 2931 \nQ 1166 2931 1000 2803 \nQ 834 2675 834 2503 \nQ 834 2394 903 2306 \nQ 972 2216 1119 2156 \nQ 1203 2125 1616 2013 \nQ 2213 1853 2448 1751 \nQ 2684 1650 2818 1456 \nQ 2953 1263 2953 975 \nQ 2953 694 2789 445 \nQ 2625 197 2315 61 \nQ 2006 -75 1616 -75 \nQ 969 -75 630 194 \nQ 291 463 197 991 \nz\n\" transform=\"scale(0.015625)\"/>\n        <path id=\"ArialMT-75\" d=\"M 2597 0 \nL 2597 488 \nQ 2209 -75 1544 -75 \nQ 1250 -75 995 37 \nQ 741 150 617 320 \nQ 494 491 444 738 \nQ 409 903 409 1263 \nL 409 3319 \nL 972 3319 \nL 972 1478 \nQ 972 1038 1006 884 \nQ 1059 663 1231 536 \nQ 1403 409 1656 409 \nQ 1909 409 2131 539 \nQ 2353 669 2445 892 \nQ 2538 1116 2538 1541 \nL 2538 3319 \nL 3100 3319 \nL 3100 0 \nL 2597 0 \nz\n\" transform=\"scale(0.015625)\"/>\n        <path id=\"ArialMT-72\" d=\"M 416 0 \nL 416 3319 \nL 922 3319 \nL 922 2816 \nQ 1116 3169 1280 3281 \nQ 1444 3394 1641 3394 \nQ 1925 3394 2219 3213 \nL 2025 2691 \nQ 1819 2813 1613 2813 \nQ 1428 2813 1281 2702 \nQ 1134 2591 1072 2394 \nQ 978 2094 978 1738 \nL 978 0 \nL 416 0 \nz\n\" transform=\"scale(0.015625)\"/>\n        <path id=\"ArialMT-66\" d=\"M 556 0 \nL 556 2881 \nL 59 2881 \nL 59 3319 \nL 556 3319 \nL 556 3672 \nQ 556 4006 616 4169 \nQ 697 4388 901 4523 \nQ 1106 4659 1475 4659 \nQ 1713 4659 2000 4603 \nL 1916 4113 \nQ 1741 4144 1584 4144 \nQ 1328 4144 1222 4034 \nQ 1116 3925 1116 3625 \nL 1116 3319 \nL 1763 3319 \nL 1763 2881 \nL 1116 2881 \nL 1116 0 \nL 556 0 \nz\n\" transform=\"scale(0.015625)\"/>\n       </defs>\n       <use xlink:href=\"#ArialMT-73\"/>\n       <use xlink:href=\"#ArialMT-75\" x=\"50\"/>\n       <use xlink:href=\"#ArialMT-72\" x=\"105.615234\"/>\n       <use xlink:href=\"#ArialMT-66\" x=\"138.916016\"/>\n      </g>\n     </g>\n    </g>\n    <g id=\"xtick_2\">\n     <g id=\"text_2\">\n      <!-- ultimate -->\n      <g style=\"fill: #262626\" transform=\"translate(412.663828 427.914453)scale(0.165 -0.165)\">\n       <defs>\n        <path id=\"ArialMT-6c\" d=\"M 409 0 \nL 409 4581 \nL 972 4581 \nL 972 0 \nL 409 0 \nz\n\" transform=\"scale(0.015625)\"/>\n        <path id=\"ArialMT-74\" d=\"M 1650 503 \nL 1731 6 \nQ 1494 -44 1306 -44 \nQ 1000 -44 831 53 \nQ 663 150 594 308 \nQ 525 466 525 972 \nL 525 2881 \nL 113 2881 \nL 113 3319 \nL 525 3319 \nL 525 4141 \nL 1084 4478 \nL 1084 3319 \nL 1650 3319 \nL 1650 2881 \nL 1084 2881 \nL 1084 941 \nQ 1084 700 1114 631 \nQ 1144 563 1211 522 \nQ 1278 481 1403 481 \nQ 1497 481 1650 503 \nz\n\" transform=\"scale(0.015625)\"/>\n        <path id=\"ArialMT-69\" d=\"M 425 3934 \nL 425 4581 \nL 988 4581 \nL 988 3934 \nL 425 3934 \nz\nM 425 0 \nL 425 3319 \nL 988 3319 \nL 988 0 \nL 425 0 \nz\n\" transform=\"scale(0.015625)\"/>\n        <path id=\"ArialMT-6d\" d=\"M 422 0 \nL 422 3319 \nL 925 3319 \nL 925 2853 \nQ 1081 3097 1340 3245 \nQ 1600 3394 1931 3394 \nQ 2300 3394 2536 3241 \nQ 2772 3088 2869 2813 \nQ 3263 3394 3894 3394 \nQ 4388 3394 4653 3120 \nQ 4919 2847 4919 2278 \nL 4919 0 \nL 4359 0 \nL 4359 2091 \nQ 4359 2428 4304 2576 \nQ 4250 2725 4106 2815 \nQ 3963 2906 3769 2906 \nQ 3419 2906 3187 2673 \nQ 2956 2441 2956 1928 \nL 2956 0 \nL 2394 0 \nL 2394 2156 \nQ 2394 2531 2256 2718 \nQ 2119 2906 1806 2906 \nQ 1569 2906 1367 2781 \nQ 1166 2656 1075 2415 \nQ 984 2175 984 1722 \nL 984 0 \nL 422 0 \nz\n\" transform=\"scale(0.015625)\"/>\n        <path id=\"ArialMT-61\" d=\"M 2588 409 \nQ 2275 144 1986 34 \nQ 1697 -75 1366 -75 \nQ 819 -75 525 192 \nQ 231 459 231 875 \nQ 231 1119 342 1320 \nQ 453 1522 633 1644 \nQ 813 1766 1038 1828 \nQ 1203 1872 1538 1913 \nQ 2219 1994 2541 2106 \nQ 2544 2222 2544 2253 \nQ 2544 2597 2384 2738 \nQ 2169 2928 1744 2928 \nQ 1347 2928 1158 2789 \nQ 969 2650 878 2297 \nL 328 2372 \nQ 403 2725 575 2942 \nQ 747 3159 1072 3276 \nQ 1397 3394 1825 3394 \nQ 2250 3394 2515 3294 \nQ 2781 3194 2906 3042 \nQ 3031 2891 3081 2659 \nQ 3109 2516 3109 2141 \nL 3109 1391 \nQ 3109 606 3145 398 \nQ 3181 191 3288 0 \nL 2700 0 \nQ 2613 175 2588 409 \nz\nM 2541 1666 \nQ 2234 1541 1622 1453 \nQ 1275 1403 1131 1340 \nQ 988 1278 909 1158 \nQ 831 1038 831 891 \nQ 831 666 1001 516 \nQ 1172 366 1500 366 \nQ 1825 366 2078 508 \nQ 2331 650 2450 897 \nQ 2541 1088 2541 1459 \nL 2541 1666 \nz\n\" transform=\"scale(0.015625)\"/>\n        <path id=\"ArialMT-65\" d=\"M 2694 1069 \nL 3275 997 \nQ 3138 488 2766 206 \nQ 2394 -75 1816 -75 \nQ 1088 -75 661 373 \nQ 234 822 234 1631 \nQ 234 2469 665 2931 \nQ 1097 3394 1784 3394 \nQ 2450 3394 2872 2941 \nQ 3294 2488 3294 1666 \nQ 3294 1616 3291 1516 \nL 816 1516 \nQ 847 969 1125 678 \nQ 1403 388 1819 388 \nQ 2128 388 2347 550 \nQ 2566 713 2694 1069 \nz\nM 847 1978 \nL 2700 1978 \nQ 2663 2397 2488 2606 \nQ 2219 2931 1791 2931 \nQ 1403 2931 1139 2672 \nQ 875 2413 847 1978 \nz\n\" transform=\"scale(0.015625)\"/>\n       </defs>\n       <use xlink:href=\"#ArialMT-75\"/>\n       <use xlink:href=\"#ArialMT-6c\" x=\"55.615234\"/>\n       <use xlink:href=\"#ArialMT-74\" x=\"77.832031\"/>\n       <use xlink:href=\"#ArialMT-69\" x=\"105.615234\"/>\n       <use xlink:href=\"#ArialMT-6d\" x=\"127.832031\"/>\n       <use xlink:href=\"#ArialMT-61\" x=\"211.132812\"/>\n       <use xlink:href=\"#ArialMT-74\" x=\"266.748047\"/>\n       <use xlink:href=\"#ArialMT-65\" x=\"294.53125\"/>\n      </g>\n     </g>\n    </g>\n    <g id=\"text_3\">\n     <!-- plan -->\n     <g style=\"fill: #262626\" transform=\"translate(298.984922 448.077891)scale(0.18 -0.18)\">\n      <defs>\n       <path id=\"ArialMT-70\" d=\"M 422 -1272 \nL 422 3319 \nL 934 3319 \nL 934 2888 \nQ 1116 3141 1344 3267 \nQ 1572 3394 1897 3394 \nQ 2322 3394 2647 3175 \nQ 2972 2956 3137 2557 \nQ 3303 2159 3303 1684 \nQ 3303 1175 3120 767 \nQ 2938 359 2589 142 \nQ 2241 -75 1856 -75 \nQ 1575 -75 1351 44 \nQ 1128 163 984 344 \nL 984 -1272 \nL 422 -1272 \nz\nM 931 1641 \nQ 931 1000 1190 694 \nQ 1450 388 1819 388 \nQ 2194 388 2461 705 \nQ 2728 1022 2728 1688 \nQ 2728 2322 2467 2637 \nQ 2206 2953 1844 2953 \nQ 1484 2953 1207 2617 \nQ 931 2281 931 1641 \nz\n\" transform=\"scale(0.015625)\"/>\n       <path id=\"ArialMT-6e\" d=\"M 422 0 \nL 422 3319 \nL 928 3319 \nL 928 2847 \nQ 1294 3394 1984 3394 \nQ 2284 3394 2536 3286 \nQ 2788 3178 2913 3003 \nQ 3038 2828 3088 2588 \nQ 3119 2431 3119 2041 \nL 3119 0 \nL 2556 0 \nL 2556 2019 \nQ 2556 2363 2490 2533 \nQ 2425 2703 2258 2804 \nQ 2091 2906 1866 2906 \nQ 1506 2906 1245 2678 \nQ 984 2450 984 1813 \nL 984 0 \nL 422 0 \nz\n\" transform=\"scale(0.015625)\"/>\n      </defs>\n      <use xlink:href=\"#ArialMT-70\"/>\n      <use xlink:href=\"#ArialMT-6c\" x=\"55.615234\"/>\n      <use xlink:href=\"#ArialMT-61\" x=\"77.832031\"/>\n      <use xlink:href=\"#ArialMT-6e\" x=\"133.447266\"/>\n     </g>\n    </g>\n   </g>\n   <g id=\"matplotlib.axis_2\">\n    <g id=\"ytick_1\">\n     <g id=\"line2d_1\">\n      <path d=\"M 64.899141 353.662242 \nL 567.099141 353.662242 \n\" clip-path=\"url(#p4399efa782)\" style=\"fill: none; stroke: #ffffff; stroke-linecap: round\"/>\n     </g>\n     <g id=\"text_4\">\n      <!-- 50 -->\n      <g style=\"fill: #262626\" transform=\"translate(37.048047 359.567438)scale(0.165 -0.165)\">\n       <defs>\n        <path id=\"ArialMT-35\" d=\"M 266 1200 \nL 856 1250 \nQ 922 819 1161 601 \nQ 1400 384 1738 384 \nQ 2144 384 2425 690 \nQ 2706 997 2706 1503 \nQ 2706 1984 2436 2262 \nQ 2166 2541 1728 2541 \nQ 1456 2541 1237 2417 \nQ 1019 2294 894 2097 \nL 366 2166 \nL 809 4519 \nL 3088 4519 \nL 3088 3981 \nL 1259 3981 \nL 1013 2750 \nQ 1425 3038 1878 3038 \nQ 2478 3038 2890 2622 \nQ 3303 2206 3303 1553 \nQ 3303 931 2941 478 \nQ 2500 -78 1738 -78 \nQ 1113 -78 717 272 \nQ 322 622 266 1200 \nz\n\" transform=\"scale(0.015625)\"/>\n        <path id=\"ArialMT-30\" d=\"M 266 2259 \nQ 266 3072 433 3567 \nQ 600 4063 929 4331 \nQ 1259 4600 1759 4600 \nQ 2128 4600 2406 4451 \nQ 2684 4303 2865 4023 \nQ 3047 3744 3150 3342 \nQ 3253 2941 3253 2259 \nQ 3253 1453 3087 958 \nQ 2922 463 2592 192 \nQ 2263 -78 1759 -78 \nQ 1097 -78 719 397 \nQ 266 969 266 2259 \nz\nM 844 2259 \nQ 844 1131 1108 757 \nQ 1372 384 1759 384 \nQ 2147 384 2411 759 \nQ 2675 1134 2675 2259 \nQ 2675 3391 2411 3762 \nQ 2147 4134 1753 4134 \nQ 1366 4134 1134 3806 \nQ 844 3388 844 2259 \nz\n\" transform=\"scale(0.015625)\"/>\n       </defs>\n       <use xlink:href=\"#ArialMT-35\"/>\n       <use xlink:href=\"#ArialMT-30\" x=\"55.615234\"/>\n      </g>\n     </g>\n    </g>\n    <g id=\"ytick_2\">\n     <g id=\"line2d_2\">\n      <path d=\"M 64.899141 294.253148 \nL 567.099141 294.253148 \n\" clip-path=\"url(#p4399efa782)\" style=\"fill: none; stroke: #ffffff; stroke-linecap: round\"/>\n     </g>\n     <g id=\"text_5\">\n      <!-- 100 -->\n      <g style=\"fill: #262626\" transform=\"translate(27.8725 300.158344)scale(0.165 -0.165)\">\n       <defs>\n        <path id=\"ArialMT-31\" d=\"M 2384 0 \nL 1822 0 \nL 1822 3584 \nQ 1619 3391 1289 3197 \nQ 959 3003 697 2906 \nL 697 3450 \nQ 1169 3672 1522 3987 \nQ 1875 4303 2022 4600 \nL 2384 4600 \nL 2384 0 \nz\n\" transform=\"scale(0.015625)\"/>\n       </defs>\n       <use xlink:href=\"#ArialMT-31\"/>\n       <use xlink:href=\"#ArialMT-30\" x=\"55.615234\"/>\n       <use xlink:href=\"#ArialMT-30\" x=\"111.230469\"/>\n      </g>\n     </g>\n    </g>\n    <g id=\"ytick_3\">\n     <g id=\"line2d_3\">\n      <path d=\"M 64.899141 234.844054 \nL 567.099141 234.844054 \n\" clip-path=\"url(#p4399efa782)\" style=\"fill: none; stroke: #ffffff; stroke-linecap: round\"/>\n     </g>\n     <g id=\"text_6\">\n      <!-- 150 -->\n      <g style=\"fill: #262626\" transform=\"translate(27.8725 240.74925)scale(0.165 -0.165)\">\n       <use xlink:href=\"#ArialMT-31\"/>\n       <use xlink:href=\"#ArialMT-35\" x=\"55.615234\"/>\n       <use xlink:href=\"#ArialMT-30\" x=\"111.230469\"/>\n      </g>\n     </g>\n    </g>\n    <g id=\"ytick_4\">\n     <g id=\"line2d_4\">\n      <path d=\"M 64.899141 175.43496 \nL 567.099141 175.43496 \n\" clip-path=\"url(#p4399efa782)\" style=\"fill: none; stroke: #ffffff; stroke-linecap: round\"/>\n     </g>\n     <g id=\"text_7\">\n      <!-- 200 -->\n      <g style=\"fill: #262626\" transform=\"translate(27.8725 181.340156)scale(0.165 -0.165)\">\n       <defs>\n        <path id=\"ArialMT-32\" d=\"M 3222 541 \nL 3222 0 \nL 194 0 \nQ 188 203 259 391 \nQ 375 700 629 1000 \nQ 884 1300 1366 1694 \nQ 2113 2306 2375 2664 \nQ 2638 3022 2638 3341 \nQ 2638 3675 2398 3904 \nQ 2159 4134 1775 4134 \nQ 1369 4134 1125 3890 \nQ 881 3647 878 3216 \nL 300 3275 \nQ 359 3922 746 4261 \nQ 1134 4600 1788 4600 \nQ 2447 4600 2831 4234 \nQ 3216 3869 3216 3328 \nQ 3216 3053 3103 2787 \nQ 2991 2522 2730 2228 \nQ 2469 1934 1863 1422 \nQ 1356 997 1212 845 \nQ 1069 694 975 541 \nL 3222 541 \nz\n\" transform=\"scale(0.015625)\"/>\n       </defs>\n       <use xlink:href=\"#ArialMT-32\"/>\n       <use xlink:href=\"#ArialMT-30\" x=\"55.615234\"/>\n       <use xlink:href=\"#ArialMT-30\" x=\"111.230469\"/>\n      </g>\n     </g>\n    </g>\n    <g id=\"ytick_5\">\n     <g id=\"line2d_5\">\n      <path d=\"M 64.899141 116.025866 \nL 567.099141 116.025866 \n\" clip-path=\"url(#p4399efa782)\" style=\"fill: none; stroke: #ffffff; stroke-linecap: round\"/>\n     </g>\n     <g id=\"text_8\">\n      <!-- 250 -->\n      <g style=\"fill: #262626\" transform=\"translate(27.8725 121.931062)scale(0.165 -0.165)\">\n       <use xlink:href=\"#ArialMT-32\"/>\n       <use xlink:href=\"#ArialMT-35\" x=\"55.615234\"/>\n       <use xlink:href=\"#ArialMT-30\" x=\"111.230469\"/>\n      </g>\n     </g>\n    </g>\n    <g id=\"ytick_6\">\n     <g id=\"line2d_6\">\n      <path d=\"M 64.899141 56.616772 \nL 567.099141 56.616772 \n\" clip-path=\"url(#p4399efa782)\" style=\"fill: none; stroke: #ffffff; stroke-linecap: round\"/>\n     </g>\n     <g id=\"text_9\">\n      <!-- 300 -->\n      <g style=\"fill: #262626\" transform=\"translate(27.8725 62.521968)scale(0.165 -0.165)\">\n       <defs>\n        <path id=\"ArialMT-33\" d=\"M 269 1209 \nL 831 1284 \nQ 928 806 1161 595 \nQ 1394 384 1728 384 \nQ 2125 384 2398 659 \nQ 2672 934 2672 1341 \nQ 2672 1728 2419 1979 \nQ 2166 2231 1775 2231 \nQ 1616 2231 1378 2169 \nL 1441 2663 \nQ 1497 2656 1531 2656 \nQ 1891 2656 2178 2843 \nQ 2466 3031 2466 3422 \nQ 2466 3731 2256 3934 \nQ 2047 4138 1716 4138 \nQ 1388 4138 1169 3931 \nQ 950 3725 888 3313 \nL 325 3413 \nQ 428 3978 793 4289 \nQ 1159 4600 1703 4600 \nQ 2078 4600 2393 4439 \nQ 2709 4278 2876 4000 \nQ 3044 3722 3044 3409 \nQ 3044 3113 2884 2869 \nQ 2725 2625 2413 2481 \nQ 2819 2388 3044 2092 \nQ 3269 1797 3269 1353 \nQ 3269 753 2831 336 \nQ 2394 -81 1725 -81 \nQ 1122 -81 723 278 \nQ 325 638 269 1209 \nz\n\" transform=\"scale(0.015625)\"/>\n       </defs>\n       <use xlink:href=\"#ArialMT-33\"/>\n       <use xlink:href=\"#ArialMT-30\" x=\"55.615234\"/>\n       <use xlink:href=\"#ArialMT-30\" x=\"111.230469\"/>\n      </g>\n     </g>\n    </g>\n    <g id=\"text_10\">\n     <!-- mean_monthly_revenue -->\n     <g style=\"fill: #262626\" transform=\"translate(20.084062 312.897187)rotate(-90)scale(0.18 -0.18)\">\n      <defs>\n       <path id=\"ArialMT-5f\" d=\"M -97 -1272 \nL -97 -866 \nL 3631 -866 \nL 3631 -1272 \nL -97 -1272 \nz\n\" transform=\"scale(0.015625)\"/>\n       <path id=\"ArialMT-6f\" d=\"M 213 1659 \nQ 213 2581 725 3025 \nQ 1153 3394 1769 3394 \nQ 2453 3394 2887 2945 \nQ 3322 2497 3322 1706 \nQ 3322 1066 3130 698 \nQ 2938 331 2570 128 \nQ 2203 -75 1769 -75 \nQ 1072 -75 642 372 \nQ 213 819 213 1659 \nz\nM 791 1659 \nQ 791 1022 1069 705 \nQ 1347 388 1769 388 \nQ 2188 388 2466 706 \nQ 2744 1025 2744 1678 \nQ 2744 2294 2464 2611 \nQ 2184 2928 1769 2928 \nQ 1347 2928 1069 2612 \nQ 791 2297 791 1659 \nz\n\" transform=\"scale(0.015625)\"/>\n       <path id=\"ArialMT-68\" d=\"M 422 0 \nL 422 4581 \nL 984 4581 \nL 984 2938 \nQ 1378 3394 1978 3394 \nQ 2347 3394 2619 3248 \nQ 2891 3103 3008 2847 \nQ 3125 2591 3125 2103 \nL 3125 0 \nL 2563 0 \nL 2563 2103 \nQ 2563 2525 2380 2717 \nQ 2197 2909 1863 2909 \nQ 1613 2909 1392 2779 \nQ 1172 2650 1078 2428 \nQ 984 2206 984 1816 \nL 984 0 \nL 422 0 \nz\n\" transform=\"scale(0.015625)\"/>\n       <path id=\"ArialMT-79\" d=\"M 397 -1278 \nL 334 -750 \nQ 519 -800 656 -800 \nQ 844 -800 956 -737 \nQ 1069 -675 1141 -563 \nQ 1194 -478 1313 -144 \nQ 1328 -97 1363 -6 \nL 103 3319 \nL 709 3319 \nL 1400 1397 \nQ 1534 1031 1641 628 \nQ 1738 1016 1872 1384 \nL 2581 3319 \nL 3144 3319 \nL 1881 -56 \nQ 1678 -603 1566 -809 \nQ 1416 -1088 1222 -1217 \nQ 1028 -1347 759 -1347 \nQ 597 -1347 397 -1278 \nz\n\" transform=\"scale(0.015625)\"/>\n       <path id=\"ArialMT-76\" d=\"M 1344 0 \nL 81 3319 \nL 675 3319 \nL 1388 1331 \nQ 1503 1009 1600 663 \nQ 1675 925 1809 1294 \nL 2547 3319 \nL 3125 3319 \nL 1869 0 \nL 1344 0 \nz\n\" transform=\"scale(0.015625)\"/>\n      </defs>\n      <use xlink:href=\"#ArialMT-6d\"/>\n      <use xlink:href=\"#ArialMT-65\" x=\"83.300781\"/>\n      <use xlink:href=\"#ArialMT-61\" x=\"138.916016\"/>\n      <use xlink:href=\"#ArialMT-6e\" x=\"194.53125\"/>\n      <use xlink:href=\"#ArialMT-5f\" x=\"250.146484\"/>\n      <use xlink:href=\"#ArialMT-6d\" x=\"305.761719\"/>\n      <use xlink:href=\"#ArialMT-6f\" x=\"389.0625\"/>\n      <use xlink:href=\"#ArialMT-6e\" x=\"444.677734\"/>\n      <use xlink:href=\"#ArialMT-74\" x=\"500.292969\"/>\n      <use xlink:href=\"#ArialMT-68\" x=\"528.076172\"/>\n      <use xlink:href=\"#ArialMT-6c\" x=\"583.691406\"/>\n      <use xlink:href=\"#ArialMT-79\" x=\"605.908203\"/>\n      <use xlink:href=\"#ArialMT-5f\" x=\"655.908203\"/>\n      <use xlink:href=\"#ArialMT-72\" x=\"711.523438\"/>\n      <use xlink:href=\"#ArialMT-65\" x=\"744.824219\"/>\n      <use xlink:href=\"#ArialMT-76\" x=\"800.439453\"/>\n      <use xlink:href=\"#ArialMT-65\" x=\"850.439453\"/>\n      <use xlink:href=\"#ArialMT-6e\" x=\"906.054688\"/>\n      <use xlink:href=\"#ArialMT-75\" x=\"961.669922\"/>\n      <use xlink:href=\"#ArialMT-65\" x=\"1017.285156\"/>\n     </g>\n    </g>\n   </g>\n   <g id=\"patch_3\">\n    <path d=\"M 90.009141 384.121191 \nL 290.889141 384.121191 \nL 290.889141 329.898605 \nL 90.009141 329.898605 \nL 90.009141 384.121191 \nz\n\" clip-path=\"url(#p4399efa782)\" style=\"fill: #5875a4; stroke: #4c4c4c; stroke-width: 1.5; stroke-linejoin: miter\"/>\n   </g>\n   <g id=\"patch_4\">\n    <path d=\"M 341.109141 329.898605 \nL 541.989141 329.898605 \nL 541.989141 329.898605 \nL 341.109141 329.898605 \nL 341.109141 329.898605 \nz\n\" clip-path=\"url(#p4399efa782)\" style=\"fill: #cc8963; stroke: #4c4c4c; stroke-width: 1.5; stroke-linejoin: miter\"/>\n   </g>\n   <g id=\"line2d_7\">\n    <path d=\"M 190.449141 384.121191 \nL 190.449141 389.307699 \n\" clip-path=\"url(#p4399efa782)\" style=\"fill: none; stroke: #4c4c4c; stroke-width: 1.5; stroke-linecap: round\"/>\n   </g>\n   <g id=\"line2d_8\">\n    <path d=\"M 190.449141 329.898605 \nL 190.449141 251.236212 \n\" clip-path=\"url(#p4399efa782)\" style=\"fill: none; stroke: #4c4c4c; stroke-width: 1.5; stroke-linecap: round\"/>\n   </g>\n   <g id=\"line2d_9\">\n    <path d=\"M 140.229141 389.307699 \nL 240.669141 389.307699 \n\" clip-path=\"url(#p4399efa782)\" style=\"fill: none; stroke: #4c4c4c; stroke-width: 1.5; stroke-linecap: round\"/>\n   </g>\n   <g id=\"line2d_10\">\n    <path d=\"M 140.229141 251.236212 \nL 240.669141 251.236212 \n\" clip-path=\"url(#p4399efa782)\" style=\"fill: none; stroke: #4c4c4c; stroke-width: 1.5; stroke-linecap: round\"/>\n   </g>\n   <g id=\"line2d_11\">\n    <defs>\n     <path id=\"m0ba22a413d\" d=\"M 0 3.535534 \nL 2.12132 0 \nL 0 -3.535534 \nL -2.12132 0 \nz\n\" style=\"stroke: #4c4c4c; stroke-linejoin: miter\"/>\n    </defs>\n    <g clip-path=\"url(#p4399efa782)\">\n     <use xlink:href=\"#m0ba22a413d\" x=\"190.449141\" y=\"246.725873\" style=\"fill: #4c4c4c; stroke: #4c4c4c; stroke-linejoin: miter\"/>\n     <use xlink:href=\"#m0ba22a413d\" x=\"190.449141\" y=\"230.020036\" style=\"fill: #4c4c4c; stroke: #4c4c4c; stroke-linejoin: miter\"/>\n     <use xlink:href=\"#m0ba22a413d\" x=\"190.449141\" y=\"242.765267\" style=\"fill: #4c4c4c; stroke: #4c4c4c; stroke-linejoin: miter\"/>\n     <use xlink:href=\"#m0ba22a413d\" x=\"190.449141\" y=\"238.342062\" style=\"fill: #4c4c4c; stroke: #4c4c4c; stroke-linejoin: miter\"/>\n     <use xlink:href=\"#m0ba22a413d\" x=\"190.449141\" y=\"85.483651\" style=\"fill: #4c4c4c; stroke: #4c4c4c; stroke-linejoin: miter\"/>\n     <use xlink:href=\"#m0ba22a413d\" x=\"190.449141\" y=\"185.831552\" style=\"fill: #4c4c4c; stroke: #4c4c4c; stroke-linejoin: miter\"/>\n     <use xlink:href=\"#m0ba22a413d\" x=\"190.449141\" y=\"196.237649\" style=\"fill: #4c4c4c; stroke: #4c4c4c; stroke-linejoin: miter\"/>\n     <use xlink:href=\"#m0ba22a413d\" x=\"190.449141\" y=\"219.56743\" style=\"fill: #4c4c4c; stroke: #4c4c4c; stroke-linejoin: miter\"/>\n     <use xlink:href=\"#m0ba22a413d\" x=\"190.449141\" y=\"212.80328\" style=\"fill: #4c4c4c; stroke: #4c4c4c; stroke-linejoin: miter\"/>\n     <use xlink:href=\"#m0ba22a413d\" x=\"190.449141\" y=\"151.671323\" style=\"fill: #4c4c4c; stroke: #4c4c4c; stroke-linejoin: miter\"/>\n     <use xlink:href=\"#m0ba22a413d\" x=\"190.449141\" y=\"196.822234\" style=\"fill: #4c4c4c; stroke: #4c4c4c; stroke-linejoin: miter\"/>\n     <use xlink:href=\"#m0ba22a413d\" x=\"190.449141\" y=\"234.68365\" style=\"fill: #4c4c4c; stroke: #4c4c4c; stroke-linejoin: miter\"/>\n     <use xlink:href=\"#m0ba22a413d\" x=\"190.449141\" y=\"100.183441\" style=\"fill: #4c4c4c; stroke: #4c4c4c; stroke-linejoin: miter\"/>\n     <use xlink:href=\"#m0ba22a413d\" x=\"190.449141\" y=\"212.159286\" style=\"fill: #4c4c4c; stroke: #4c4c4c; stroke-linejoin: miter\"/>\n     <use xlink:href=\"#m0ba22a413d\" x=\"190.449141\" y=\"240.244881\" style=\"fill: #4c4c4c; stroke: #4c4c4c; stroke-linejoin: miter\"/>\n     <use xlink:href=\"#m0ba22a413d\" x=\"190.449141\" y=\"227.56578\" style=\"fill: #4c4c4c; stroke: #4c4c4c; stroke-linejoin: miter\"/>\n     <use xlink:href=\"#m0ba22a413d\" x=\"190.449141\" y=\"43.380426\" style=\"fill: #4c4c4c; stroke: #4c4c4c; stroke-linejoin: miter\"/>\n     <use xlink:href=\"#m0ba22a413d\" x=\"190.449141\" y=\"189.693143\" style=\"fill: #4c4c4c; stroke: #4c4c4c; stroke-linejoin: miter\"/>\n     <use xlink:href=\"#m0ba22a413d\" x=\"190.449141\" y=\"202.695813\" style=\"fill: #4c4c4c; stroke: #4c4c4c; stroke-linejoin: miter\"/>\n    </g>\n   </g>\n   <g id=\"line2d_12\">\n    <path d=\"M 441.549141 329.898605 \nL 441.549141 329.898605 \n\" clip-path=\"url(#p4399efa782)\" style=\"fill: none; stroke: #4c4c4c; stroke-width: 1.5; stroke-linecap: round\"/>\n   </g>\n   <g id=\"line2d_13\">\n    <path d=\"M 441.549141 329.898605 \nL 441.549141 329.898605 \n\" clip-path=\"url(#p4399efa782)\" style=\"fill: none; stroke: #4c4c4c; stroke-width: 1.5; stroke-linecap: round\"/>\n   </g>\n   <g id=\"line2d_14\">\n    <path d=\"M 391.329141 329.898605 \nL 491.769141 329.898605 \n\" clip-path=\"url(#p4399efa782)\" style=\"fill: none; stroke: #4c4c4c; stroke-width: 1.5; stroke-linecap: round\"/>\n   </g>\n   <g id=\"line2d_15\">\n    <path d=\"M 391.329141 329.898605 \nL 491.769141 329.898605 \n\" clip-path=\"url(#p4399efa782)\" style=\"fill: none; stroke: #4c4c4c; stroke-width: 1.5; stroke-linecap: round\"/>\n   </g>\n   <g id=\"line2d_16\">\n    <g clip-path=\"url(#p4399efa782)\">\n     <use xlink:href=\"#m0ba22a413d\" x=\"441.549141\" y=\"321.581332\" style=\"fill: #4c4c4c; stroke: #4c4c4c; stroke-linejoin: miter\"/>\n     <use xlink:href=\"#m0ba22a413d\" x=\"441.549141\" y=\"271.677693\" style=\"fill: #4c4c4c; stroke: #4c4c4c; stroke-linejoin: miter\"/>\n     <use xlink:href=\"#m0ba22a413d\" x=\"441.549141\" y=\"268.905268\" style=\"fill: #4c4c4c; stroke: #4c4c4c; stroke-linejoin: miter\"/>\n     <use xlink:href=\"#m0ba22a413d\" x=\"441.549141\" y=\"313.264059\" style=\"fill: #4c4c4c; stroke: #4c4c4c; stroke-linejoin: miter\"/>\n     <use xlink:href=\"#m0ba22a413d\" x=\"441.549141\" y=\"319.502013\" style=\"fill: #4c4c4c; stroke: #4c4c4c; stroke-linejoin: miter\"/>\n     <use xlink:href=\"#m0ba22a413d\" x=\"441.549141\" y=\"325.145877\" style=\"fill: #4c4c4c; stroke: #4c4c4c; stroke-linejoin: miter\"/>\n     <use xlink:href=\"#m0ba22a413d\" x=\"441.549141\" y=\"300.326078\" style=\"fill: #4c4c4c; stroke: #4c4c4c; stroke-linejoin: miter\"/>\n     <use xlink:href=\"#m0ba22a413d\" x=\"441.549141\" y=\"328.512393\" style=\"fill: #4c4c4c; stroke: #4c4c4c; stroke-linejoin: miter\"/>\n     <use xlink:href=\"#m0ba22a413d\" x=\"441.549141\" y=\"329.205499\" style=\"fill: #4c4c4c; stroke: #4c4c4c; stroke-linejoin: miter\"/>\n     <use xlink:href=\"#m0ba22a413d\" x=\"441.549141\" y=\"304.946785\" style=\"fill: #4c4c4c; stroke: #4c4c4c; stroke-linejoin: miter\"/>\n     <use xlink:href=\"#m0ba22a413d\" x=\"441.549141\" y=\"328.858946\" style=\"fill: #4c4c4c; stroke: #4c4c4c; stroke-linejoin: miter\"/>\n     <use xlink:href=\"#m0ba22a413d\" x=\"441.549141\" y=\"317.422695\" style=\"fill: #4c4c4c; stroke: #4c4c4c; stroke-linejoin: miter\"/>\n     <use xlink:href=\"#m0ba22a413d\" x=\"441.549141\" y=\"309.105422\" style=\"fill: #4c4c4c; stroke: #4c4c4c; stroke-linejoin: miter\"/>\n     <use xlink:href=\"#m0ba22a413d\" x=\"441.549141\" y=\"313.264059\" style=\"fill: #4c4c4c; stroke: #4c4c4c; stroke-linejoin: miter\"/>\n     <use xlink:href=\"#m0ba22a413d\" x=\"441.549141\" y=\"324.908241\" style=\"fill: #4c4c4c; stroke: #4c4c4c; stroke-linejoin: miter\"/>\n     <use xlink:href=\"#m0ba22a413d\" x=\"441.549141\" y=\"323.66065\" style=\"fill: #4c4c4c; stroke: #4c4c4c; stroke-linejoin: miter\"/>\n     <use xlink:href=\"#m0ba22a413d\" x=\"441.549141\" y=\"320.541673\" style=\"fill: #4c4c4c; stroke: #4c4c4c; stroke-linejoin: miter\"/>\n     <use xlink:href=\"#m0ba22a413d\" x=\"441.549141\" y=\"277.222541\" style=\"fill: #4c4c4c; stroke: #4c4c4c; stroke-linejoin: miter\"/>\n    </g>\n   </g>\n   <g id=\"line2d_17\">\n    <path d=\"M 90.009141 361.361661 \nL 290.889141 361.361661 \n\" clip-path=\"url(#p4399efa782)\" style=\"fill: none; stroke: #4c4c4c; stroke-width: 1.5; stroke-linecap: round\"/>\n   </g>\n   <g id=\"line2d_18\">\n    <path d=\"M 341.109141 329.898605 \nL 541.989141 329.898605 \n\" clip-path=\"url(#p4399efa782)\" style=\"fill: none; stroke: #4c4c4c; stroke-width: 1.5; stroke-linecap: round\"/>\n   </g>\n   <g id=\"patch_5\">\n    <path d=\"M 64.899141 406.604062 \nL 64.899141 26.084062 \n\" style=\"fill: none; stroke: #ffffff; stroke-width: 1.25; stroke-linejoin: miter; stroke-linecap: square\"/>\n   </g>\n   <g id=\"patch_6\">\n    <path d=\"M 567.099141 406.604062 \nL 567.099141 26.084062 \n\" style=\"fill: none; stroke: #ffffff; stroke-width: 1.25; stroke-linejoin: miter; stroke-linecap: square\"/>\n   </g>\n   <g id=\"patch_7\">\n    <path d=\"M 64.899141 406.604062 \nL 567.099141 406.604062 \n\" style=\"fill: none; stroke: #ffffff; stroke-width: 1.25; stroke-linejoin: miter; stroke-linecap: square\"/>\n   </g>\n   <g id=\"patch_8\">\n    <path d=\"M 64.899141 26.084062 \nL 567.099141 26.084062 \n\" style=\"fill: none; stroke: #ffffff; stroke-width: 1.25; stroke-linejoin: miter; stroke-linecap: square\"/>\n   </g>\n   <g id=\"text_11\">\n    <!-- Mean monthly revenue per plan -->\n    <g style=\"fill: #262626\" transform=\"translate(189.433828 20.084062)scale(0.18 -0.18)\">\n     <defs>\n      <path id=\"ArialMT-4d\" d=\"M 475 0 \nL 475 4581 \nL 1388 4581 \nL 2472 1338 \nQ 2622 884 2691 659 \nQ 2769 909 2934 1394 \nL 4031 4581 \nL 4847 4581 \nL 4847 0 \nL 4263 0 \nL 4263 3834 \nL 2931 0 \nL 2384 0 \nL 1059 3900 \nL 1059 0 \nL 475 0 \nz\n\" transform=\"scale(0.015625)\"/>\n      <path id=\"ArialMT-20\" transform=\"scale(0.015625)\"/>\n     </defs>\n     <use xlink:href=\"#ArialMT-4d\"/>\n     <use xlink:href=\"#ArialMT-65\" x=\"83.300781\"/>\n     <use xlink:href=\"#ArialMT-61\" x=\"138.916016\"/>\n     <use xlink:href=\"#ArialMT-6e\" x=\"194.53125\"/>\n     <use xlink:href=\"#ArialMT-20\" x=\"250.146484\"/>\n     <use xlink:href=\"#ArialMT-6d\" x=\"277.929688\"/>\n     <use xlink:href=\"#ArialMT-6f\" x=\"361.230469\"/>\n     <use xlink:href=\"#ArialMT-6e\" x=\"416.845703\"/>\n     <use xlink:href=\"#ArialMT-74\" x=\"472.460938\"/>\n     <use xlink:href=\"#ArialMT-68\" x=\"500.244141\"/>\n     <use xlink:href=\"#ArialMT-6c\" x=\"555.859375\"/>\n     <use xlink:href=\"#ArialMT-79\" x=\"578.076172\"/>\n     <use xlink:href=\"#ArialMT-20\" x=\"628.076172\"/>\n     <use xlink:href=\"#ArialMT-72\" x=\"655.859375\"/>\n     <use xlink:href=\"#ArialMT-65\" x=\"689.160156\"/>\n     <use xlink:href=\"#ArialMT-76\" x=\"744.775391\"/>\n     <use xlink:href=\"#ArialMT-65\" x=\"794.775391\"/>\n     <use xlink:href=\"#ArialMT-6e\" x=\"850.390625\"/>\n     <use xlink:href=\"#ArialMT-75\" x=\"906.005859\"/>\n     <use xlink:href=\"#ArialMT-65\" x=\"961.621094\"/>\n     <use xlink:href=\"#ArialMT-20\" x=\"1017.236328\"/>\n     <use xlink:href=\"#ArialMT-70\" x=\"1045.019531\"/>\n     <use xlink:href=\"#ArialMT-65\" x=\"1100.634766\"/>\n     <use xlink:href=\"#ArialMT-72\" x=\"1156.25\"/>\n     <use xlink:href=\"#ArialMT-20\" x=\"1189.550781\"/>\n     <use xlink:href=\"#ArialMT-70\" x=\"1217.333984\"/>\n     <use xlink:href=\"#ArialMT-6c\" x=\"1272.949219\"/>\n     <use xlink:href=\"#ArialMT-61\" x=\"1295.166016\"/>\n     <use xlink:href=\"#ArialMT-6e\" x=\"1350.78125\"/>\n    </g>\n   </g>\n  </g>\n </g>\n <defs>\n  <clipPath id=\"p4399efa782\">\n   <rect x=\"64.899141\" y=\"26.084062\" width=\"502.2\" height=\"380.52\"/>\n  </clipPath>\n </defs>\n</svg>\n",
      "image/png": "[encoded data removed]"
     },
     "metadata": {}
    }
   ],
   "source": [
    "sns.set(rc={'figure.figsize':(9,7)})\n",
    "sns.set(font_scale=1.5)\n",
    "sns.boxplot(data=plan_users,x='plan' , y='mean_monthly_revenue').set(title='Mean monthly revenue per plan')\n",
    "plt.show()"
   ]
  },
  {
   "cell_type": "markdown",
   "metadata": {},
   "source": [
    "- The variability in the 'surf' monthly revenue distribution is 6 times greater than that of the 'ultimate' plan due to higher outliers.\n",
    "- In 75% of the users of both plans, the mean monthly revenue is the same: 70 usd, however the overall mean monthly revenue is higher in the 'ultimate' plan compared to the 'surf' plan (71.8 usd vs 55.8 usd respectively). "
   ]
  },
  {
   "cell_type": "markdown",
   "metadata": {},
   "source": [
    "#### Testing the claim that the mean monthly revenue of the 2 plans are different"
   ]
  },
  {
   "cell_type": "markdown",
   "metadata": {},
   "source": [
    "- #### null hypothesis- H0: there is NO difference between the average revenues of the 2 plans.  \n",
    "- #### alternative hypothesis- H1: there IS a difference between the average revenues of the 2 payment plans."
   ]
  },
  {
   "cell_type": "markdown",
   "metadata": {},
   "source": [
    "- calculating the plan revenue mean and variance:"
   ]
  },
  {
   "cell_type": "code",
   "execution_count": 43,
   "metadata": {},
   "outputs": [
    {
     "output_type": "execute_result",
     "data": {
      "text/plain": [
       "          count       mean        std   min        25%    50%   75%  \\\n",
       "plan                                                                  \n",
       "surf      339.0  55.768598  42.692637  20.0  24.365079  43.52  70.0   \n",
       "ultimate  161.0  71.777985   7.336894  70.0  70.000000  70.00  70.0   \n",
       "\n",
       "                 max  \n",
       "plan                  \n",
       "surf      311.140000  \n",
       "ultimate  121.333333  "
      ],
      "text/html": "<div>\n<style scoped>\n    .dataframe tbody tr th:only-of-type {\n        vertical-align: middle;\n    }\n\n    .dataframe tbody tr th {\n        vertical-align: top;\n    }\n\n    .dataframe thead th {\n        text-align: right;\n    }\n</style>\n<table border=\"1\" class=\"dataframe\">\n  <thead>\n    <tr style=\"text-align: right;\">\n      <th></th>\n      <th>count</th>\n      <th>mean</th>\n      <th>std</th>\n      <th>min</th>\n      <th>25%</th>\n      <th>50%</th>\n      <th>75%</th>\n      <th>max</th>\n    </tr>\n    <tr>\n      <th>plan</th>\n      <th></th>\n      <th></th>\n      <th></th>\n      <th></th>\n      <th></th>\n      <th></th>\n      <th></th>\n      <th></th>\n    </tr>\n  </thead>\n  <tbody>\n    <tr>\n      <th>surf</th>\n      <td>339.0</td>\n      <td>55.768598</td>\n      <td>42.692637</td>\n      <td>20.0</td>\n      <td>24.365079</td>\n      <td>43.52</td>\n      <td>70.0</td>\n      <td>311.140000</td>\n    </tr>\n    <tr>\n      <th>ultimate</th>\n      <td>161.0</td>\n      <td>71.777985</td>\n      <td>7.336894</td>\n      <td>70.0</td>\n      <td>70.000000</td>\n      <td>70.00</td>\n      <td>70.0</td>\n      <td>121.333333</td>\n    </tr>\n  </tbody>\n</table>\n</div>"
     },
     "metadata": {},
     "execution_count": 43
    }
   ],
   "source": [
    "plan_users.groupby('plan')['mean_monthly_revenue'].agg('describe')"
   ]
  },
  {
   "cell_type": "markdown",
   "metadata": {},
   "source": [
    "- for alpha = 0.5:"
   ]
  },
  {
   "cell_type": "code",
   "execution_count": 44,
   "metadata": {},
   "outputs": [],
   "source": [
    "alpha=0.05\n",
    "surf= plan_users.query('plan==\"surf\"').mean_monthly_revenue             \n",
    "ultimate= plan_users.query('plan==\"ultimate\"').mean_monthly_revenue"
   ]
  },
  {
   "cell_type": "markdown",
   "metadata": {},
   "source": [
    "- The ttest_ind function (for 2 independant samples) is used, setting the 'equal_var' parameter to False, since the samples variances are substantially different:"
   ]
  },
  {
   "cell_type": "code",
   "execution_count": 45,
   "metadata": {},
   "outputs": [
    {
     "output_type": "stream",
     "name": "stdout",
     "text": [
      "pvalue: 8e-11\n"
     ]
    }
   ],
   "source": [
    "results= st.ttest_ind(surf, ultimate, equal_var=False)\n",
    "pvalue=results.pvalue\n",
    "print('pvalue:', pvalue.round(11))"
   ]
  },
  {
   "cell_type": "code",
   "execution_count": 46,
   "metadata": {},
   "outputs": [
    {
     "output_type": "stream",
     "name": "stdout",
     "text": [
      "The null hypothesis is rejected\n"
     ]
    }
   ],
   "source": [
    "if pvalue < alpha:\n",
    "    print(\"The null hypothesis is rejected\")\n",
    "else:\n",
    "    print(\"The null hypothesis cannot be rejected\") "
   ]
  },
  {
   "cell_type": "markdown",
   "metadata": {},
   "source": [
    "### Plan Revenue- conclusion:  \n",
    "- it appearse that the use of communication chanels is mostly unaffected by the payment plan. in other words, people will consume the amount of call- minutes, messages and internet volume, regardless of the type of payment plan they are registered to. \n",
    "- as can be seen, both distributions are fairly simillar, with very close means and standard deviations in all 3 channels of communication: call minutes, text messages and internet usage.   \n",
    "- people in the 'surf' plan exceed their volume limit in all 3 communication channels, whereas there is no general exceedance in the 'ultimate' group, with the exception of less than 1% of exceedance in internet use. \n",
    "- The mean monthly revenue is higher in the 'ultimate' plan compared to the 'surf' plan (71.8 usd vs 55.8 usd respectively). This conclussion was further supported by Welch’s t-test for an alpha value of 0.05."
   ]
  },
  {
   "cell_type": "markdown",
   "metadata": {},
   "source": [
    "#### Testing the claim that mean monthly revenue of users in NY-NJ area is different from that of the users from other regions."
   ]
  },
  {
   "cell_type": "markdown",
   "metadata": {},
   "source": [
    "- #### null hypothesis- H0: there is NO difference between the average revenues of people from the NY-NJ are and those from other places.  \n",
    "- #### alternative hypothesis- H1: there IS a difference between the average revenues of people living in NY-NJ are vs elsewhere."
   ]
  },
  {
   "cell_type": "markdown",
   "metadata": {},
   "source": [
    "- mean monthly revenue and variance of people living in NY-NJ: "
   ]
  },
  {
   "cell_type": "code",
   "execution_count": 47,
   "metadata": {},
   "outputs": [
    {
     "output_type": "execute_result",
     "data": {
      "text/plain": [
       "                                        city  mean     var\n",
       "0  New York-Newark-Jersey City, NY-NJ-PA MSA  58.6  1858.9"
      ],
      "text/html": "<div>\n<style scoped>\n    .dataframe tbody tr th:only-of-type {\n        vertical-align: middle;\n    }\n\n    .dataframe tbody tr th {\n        vertical-align: top;\n    }\n\n    .dataframe thead th {\n        text-align: right;\n    }\n</style>\n<table border=\"1\" class=\"dataframe\">\n  <thead>\n    <tr style=\"text-align: right;\">\n      <th></th>\n      <th>city</th>\n      <th>mean</th>\n      <th>var</th>\n    </tr>\n  </thead>\n  <tbody>\n    <tr>\n      <th>0</th>\n      <td>New York-Newark-Jersey City, NY-NJ-PA MSA</td>\n      <td>58.6</td>\n      <td>1858.9</td>\n    </tr>\n  </tbody>\n</table>\n</div>"
     },
     "metadata": {},
     "execution_count": 47
    }
   ],
   "source": [
    "ny_nj= revenue_per_month.query('city==\"New York-Newark-Jersey City, NY-NJ-PA MSA\"')\n",
    "round(ny_nj.groupby('city')['monthly_revenue'].agg(['mean', 'var']).reset_index(),2)"
   ]
  },
  {
   "cell_type": "markdown",
   "metadata": {},
   "source": [
    "- calculating the average revenue and variance for the people living outside of NY-NJ: "
   ]
  },
  {
   "cell_type": "code",
   "execution_count": 48,
   "metadata": {},
   "outputs": [
    {
     "output_type": "stream",
     "name": "stdout",
     "text": [
      "The mean revenue for people outside of NY-NJ: 63.85\nThe variance of revenue for people outside of NY-NJ: 2163.29\n"
     ]
    }
   ],
   "source": [
    "rest_of_people= revenue_per_month.query('city != \"New York-Newark-Jersey City, NY-NJ-PA MSA\"')\n",
    "mean_var_rest= rest_of_people.describe().T.loc[['monthly_revenue'],:]\n",
    "print('The mean revenue for people outside of NY-NJ:', round(mean_var_rest.reset_index()['mean'].values[0], 2))\n",
    "print('The variance of revenue for people outside of NY-NJ:', round((mean_var_rest.reset_index()['std'].values[0])**2, 2))\n"
   ]
  },
  {
   "cell_type": "markdown",
   "metadata": {},
   "source": [
    "- in this case, the variance of both the population sample (people living in and out of NJ-NY), are fairly simillar. we will therefore set the 'equal_var' parameter to True and use the st.ttest_ind() method for 2 independant samples, AGAIN WITH alpha=0.05:"
   ]
  },
  {
   "cell_type": "code",
   "execution_count": 49,
   "metadata": {},
   "outputs": [],
   "source": [
    "ny_nj_people= ny_nj.groupby('user_id')['monthly_revenue'].mean()\n",
    "non_ny_nj_people= rest_of_people.groupby('user_id')['monthly_revenue'].mean()"
   ]
  },
  {
   "cell_type": "code",
   "execution_count": 50,
   "metadata": {},
   "outputs": [
    {
     "output_type": "stream",
     "name": "stdout",
     "text": [
      "pvalue: 0.55\n"
     ]
    }
   ],
   "source": [
    "alpha=0.05\n",
    "results_second_hypothesis= st.ttest_ind(ny_nj_people, non_ny_nj_people)\n",
    "pvalue_second=results_second_hypothesis.pvalue\n",
    "print('pvalue:', pvalue_second.round(2))"
   ]
  },
  {
   "cell_type": "code",
   "execution_count": 51,
   "metadata": {},
   "outputs": [
    {
     "output_type": "stream",
     "name": "stdout",
     "text": [
      "We can't reject the null hypothesis\n"
     ]
    }
   ],
   "source": [
    "if pvalue_second < alpha:\n",
    "    print(\"We reject the null hypothesis\")\n",
    "else:\n",
    "    print(\"We can't reject the null hypothesis\") "
   ]
  },
  {
   "cell_type": "markdown",
   "metadata": {},
   "source": [
    "### conclusion: \n",
    "- because pvalue is bigger then our designated alpha value, the null hypothesis cannot be rejected, meaning: there is NO evidence to suggest a difference between the revenues of people living in ny-nj VS people living in other places. "
   ]
  },
  {
   "cell_type": "markdown",
   "metadata": {},
   "source": [
    "## Overall conclusions:  \n",
    "- the consumer behavior of both payment plans is very simillar, which can be seen in the distributions of call minutes, messages and internet volume for people in each plan.  \n",
    "- in both plans, people do not tend on average, to exceed their package limits.   \n",
    "- the hypothesis analysis indicates that the 'ultimate' paying plan has higher revenue than the 'surf' one. this is to be expected in light of the fact that people tend on average to not exceed their package limits + the higher monthly payment in the 'ultimate' plan than that charged in the 'surf' plan.  \n",
    "- there was no statistical evidence to support differences in revenue, based on people living in Vs out of the NY-NJ area. the null hypothesis that there's NO difference, could not be rejected."
   ]
  }
 ],
 "metadata": {
  "ExecuteTimeLog": [
   {
    "duration": 3886,
    "start_time": "2021-07-02T06:43:23.934Z"
   },
   {
    "duration": 26,
    "start_time": "2021-07-02T06:43:27.822Z"
   },
   {
    "duration": 39,
    "start_time": "2021-07-02T06:43:27.851Z"
   },
   {
    "duration": 15,
    "start_time": "2021-07-02T06:43:27.893Z"
   },
   {
    "duration": 45,
    "start_time": "2021-07-02T06:43:27.910Z"
   },
   {
    "duration": 33,
    "start_time": "2021-07-02T06:43:27.957Z"
   },
   {
    "duration": 20,
    "start_time": "2021-07-02T06:43:27.992Z"
   },
   {
    "duration": 11,
    "start_time": "2021-07-02T06:43:28.016Z"
   },
   {
    "duration": 8,
    "start_time": "2021-07-02T06:43:28.029Z"
   },
   {
    "duration": 6,
    "start_time": "2021-07-02T06:43:28.039Z"
   },
   {
    "duration": 43,
    "start_time": "2021-07-02T06:43:28.046Z"
   },
   {
    "duration": 31,
    "start_time": "2021-07-02T06:43:28.091Z"
   },
   {
    "duration": 25,
    "start_time": "2021-07-02T06:43:28.124Z"
   },
   {
    "duration": 46,
    "start_time": "2021-07-02T06:43:28.151Z"
   },
   {
    "duration": 28,
    "start_time": "2021-07-02T06:43:28.199Z"
   },
   {
    "duration": 18,
    "start_time": "2021-07-02T06:43:28.229Z"
   },
   {
    "duration": 72,
    "start_time": "2021-07-02T06:43:28.249Z"
   },
   {
    "duration": 33,
    "start_time": "2021-07-02T06:43:28.322Z"
   },
   {
    "duration": 51,
    "start_time": "2021-07-02T06:43:28.357Z"
   },
   {
    "duration": 8,
    "start_time": "2021-07-02T06:43:28.410Z"
   },
   {
    "duration": 31,
    "start_time": "2021-07-02T06:43:28.420Z"
   },
   {
    "duration": 9,
    "start_time": "2021-07-02T06:43:28.452Z"
   },
   {
    "duration": 13,
    "start_time": "2021-07-02T06:43:28.484Z"
   },
   {
    "duration": 5,
    "start_time": "2021-07-02T06:43:28.499Z"
   },
   {
    "duration": 100,
    "start_time": "2021-07-02T06:43:28.505Z"
   },
   {
    "duration": 20,
    "start_time": "2021-07-02T06:43:28.607Z"
   },
   {
    "duration": 6,
    "start_time": "2021-07-02T06:43:28.628Z"
   },
   {
    "duration": 15,
    "start_time": "2021-07-02T06:43:28.635Z"
   },
   {
    "duration": 263,
    "start_time": "2021-07-02T06:43:28.651Z"
   },
   {
    "duration": 131,
    "start_time": "2021-07-02T06:43:28.785Z"
   },
   {
    "duration": 130,
    "start_time": "2021-07-02T06:43:28.787Z"
   },
   {
    "duration": 130,
    "start_time": "2021-07-02T06:43:28.788Z"
   },
   {
    "duration": 129,
    "start_time": "2021-07-02T06:43:28.790Z"
   },
   {
    "duration": 129,
    "start_time": "2021-07-02T06:43:28.791Z"
   },
   {
    "duration": 129,
    "start_time": "2021-07-02T06:43:28.792Z"
   },
   {
    "duration": 124,
    "start_time": "2021-07-02T06:43:28.797Z"
   },
   {
    "duration": 124,
    "start_time": "2021-07-02T06:43:28.798Z"
   },
   {
    "duration": 124,
    "start_time": "2021-07-02T06:43:28.799Z"
   },
   {
    "duration": 123,
    "start_time": "2021-07-02T06:43:28.801Z"
   },
   {
    "duration": 3000,
    "start_time": "2021-07-02T06:48:15.306Z"
   },
   {
    "duration": 1350,
    "start_time": "2021-07-02T06:48:27.325Z"
   },
   {
    "duration": 23,
    "start_time": "2021-07-02T06:48:28.677Z"
   },
   {
    "duration": 38,
    "start_time": "2021-07-02T06:48:28.702Z"
   },
   {
    "duration": 14,
    "start_time": "2021-07-02T06:48:28.741Z"
   },
   {
    "duration": 68,
    "start_time": "2021-07-02T06:48:28.756Z"
   },
   {
    "duration": 10,
    "start_time": "2021-07-02T06:48:28.826Z"
   },
   {
    "duration": 19,
    "start_time": "2021-07-02T06:48:28.838Z"
   },
   {
    "duration": 29,
    "start_time": "2021-07-02T06:48:28.859Z"
   },
   {
    "duration": 6,
    "start_time": "2021-07-02T06:48:28.891Z"
   },
   {
    "duration": 11,
    "start_time": "2021-07-02T06:48:28.899Z"
   },
   {
    "duration": 8,
    "start_time": "2021-07-02T06:48:28.911Z"
   },
   {
    "duration": 30,
    "start_time": "2021-07-02T06:48:28.920Z"
   },
   {
    "duration": 46,
    "start_time": "2021-07-02T06:48:28.952Z"
   },
   {
    "duration": 18,
    "start_time": "2021-07-02T06:48:29.000Z"
   },
   {
    "duration": 27,
    "start_time": "2021-07-02T06:48:29.020Z"
   },
   {
    "duration": 42,
    "start_time": "2021-07-02T06:48:29.048Z"
   },
   {
    "duration": 46,
    "start_time": "2021-07-02T06:48:29.092Z"
   },
   {
    "duration": 29,
    "start_time": "2021-07-02T06:48:29.140Z"
   },
   {
    "duration": 33,
    "start_time": "2021-07-02T06:48:29.185Z"
   },
   {
    "duration": 8,
    "start_time": "2021-07-02T06:48:29.220Z"
   },
   {
    "duration": 31,
    "start_time": "2021-07-02T06:48:29.230Z"
   },
   {
    "duration": 10,
    "start_time": "2021-07-02T06:48:29.285Z"
   },
   {
    "duration": 13,
    "start_time": "2021-07-02T06:48:29.296Z"
   },
   {
    "duration": 5,
    "start_time": "2021-07-02T06:48:29.310Z"
   },
   {
    "duration": 110,
    "start_time": "2021-07-02T06:48:29.317Z"
   },
   {
    "duration": 20,
    "start_time": "2021-07-02T06:48:29.428Z"
   },
   {
    "duration": 5,
    "start_time": "2021-07-02T06:48:29.452Z"
   },
   {
    "duration": 39,
    "start_time": "2021-07-02T06:48:29.459Z"
   },
   {
    "duration": 528,
    "start_time": "2021-07-02T06:48:29.500Z"
   },
   {
    "duration": 538,
    "start_time": "2021-07-02T06:48:30.030Z"
   },
   {
    "duration": 525,
    "start_time": "2021-07-02T06:48:30.570Z"
   },
   {
    "duration": 12,
    "start_time": "2021-07-02T06:48:31.097Z"
   },
   {
    "duration": 8,
    "start_time": "2021-07-02T06:48:31.111Z"
   },
   {
    "duration": 8,
    "start_time": "2021-07-02T06:48:31.120Z"
   },
   {
    "duration": 5,
    "start_time": "2021-07-02T06:48:31.129Z"
   },
   {
    "duration": 51,
    "start_time": "2021-07-02T06:48:31.135Z"
   },
   {
    "duration": 14,
    "start_time": "2021-07-02T06:48:31.188Z"
   },
   {
    "duration": 5,
    "start_time": "2021-07-02T06:48:31.204Z"
   },
   {
    "duration": 11,
    "start_time": "2021-07-02T06:48:31.211Z"
   },
   {
    "duration": 5,
    "start_time": "2021-07-02T07:24:16.978Z"
   },
   {
    "duration": 4,
    "start_time": "2021-07-02T07:24:32.883Z"
   }
  ],
  "interpreter": {
   "hash": "23300995598eec4bcf6bd89cf02d1c3675e8b2616661418dbbf5580aa901878d"
  },
  "kernelspec": {
   "name": "python3",
   "display_name": "Python 3.9.7 64-bit"
  },
  "language_info": {
   "codemirror_mode": {
    "name": "ipython",
    "version": 3
   },
   "file_extension": ".py",
   "mimetype": "text/x-python",
   "name": "python",
   "nbconvert_exporter": "python",
   "pygments_lexer": "ipython3",
   "version": "3.9.7"
  },
  "toc": {
   "base_numbering": 1,
   "nav_menu": {},
   "number_sections": true,
   "sideBar": true,
   "skip_h1_title": true,
   "title_cell": "Table of Contents",
   "title_sidebar": "Contents",
   "toc_cell": false,
   "toc_position": {},
   "toc_section_display": true,
   "toc_window_display": false
  }
 },
 "nbformat": 4,
 "nbformat_minor": 2
}